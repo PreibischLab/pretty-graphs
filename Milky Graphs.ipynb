{
 "cells": [
  {
   "cell_type": "code",
   "execution_count": null,
   "metadata": {
    "collapsed": true
   },
   "outputs": [],
   "source": [
    "# a script for making pretty plots"
   ]
  },
  {
   "cell_type": "code",
   "execution_count": null,
   "metadata": {
    "collapsed": true
   },
   "outputs": [],
   "source": [
    "# imports\n",
    "import matplotlib.pyplot as plt\n",
    "import numpy as np\n",
    "import csv as csv\n",
    "\n",
    "from sklearn import linear_model, datasets\n",
    "\n",
    "%matplotlib inline"
   ]
  },
  {
   "cell_type": "code",
   "execution_count": null,
   "metadata": {
    "collapsed": false
   },
   "outputs": [],
   "source": [
    "# function for loading one data-set\n",
    "def load_data(folder_path, idx, image, channel_id):\n",
    "    # image = 'N2_dpy-23_ex_int_ama-1_015'\n",
    "    path = folder_path + '/c' + str(channel_id) + \"/\"\n",
    "    # file = 'N2_dpy-23_ex_int_ama-1_015.nd2 - N2_dpy-23_ex_int_ama-1_015.nd2 (series ' + str(idx).zfill(2) + ').tif.csv'\n",
    "    file = image + '.nd2 - ' + image + '.nd2 (series ' + str(idx).zfill(2) + ') - C=' + str(channel_id - 1) + '.csv'\n",
    "    \n",
    "    data = np.loadtxt(path + file, delimiter = '\\t')\n",
    "    z = data[:, 3]\n",
    "    I = data[:, 4]\n",
    "    \n",
    "    return (z, I)"
   ]
  },
  {
   "cell_type": "code",
   "execution_count": null,
   "metadata": {
    "collapsed": true
   },
   "outputs": [],
   "source": [
    "# returns the y coordinate for the given line\n",
    "# y = kx + b; also works with vectors\n",
    "def f_x(x_, k_, b_):\n",
    "    return k_*x_ + b_"
   ]
  },
  {
   "cell_type": "code",
   "execution_count": null,
   "metadata": {
    "collapsed": true
   },
   "outputs": [],
   "source": [
    "def ransac_fit(I, z):\n",
    "    # Robustly fit linear model with RANSAC algorithm\n",
    "    ransac = linear_model.RANSACRegressor()\n",
    "    ransac.fit(z.reshape(-1,1), I)\n",
    "    # inlier_mask = ransac.inlier_mask_\n",
    "    \n",
    "    # Predict data of estimated models\n",
    "    line_X = np.arange(z.reshape(-1,1).min(), z.reshape(-1,1).max())[:, np.newaxis]\n",
    "    line_y_ransac = ransac.predict(line_X)\n",
    "    \n",
    "    # The slope of the line\n",
    "    # print(ransac.estimator_.coef_[0], ransac.estimator_.intercept_)\n",
    "    lines_params[idx - 1, :] = [ransac.estimator_.coef_[0], ransac.estimator_.intercept_]\n",
    "    \n",
    "    # fixing the slope here\n",
    "    # return k, b; last 2 are for the visualizations\n",
    "    return (lines_params[idx - 1, 0], lines_params[idx - 1, 1], line_X, line_y_ransac)"
   ]
  },
  {
   "cell_type": "code",
   "execution_count": null,
   "metadata": {
    "collapsed": true
   },
   "outputs": [],
   "source": [
    "def linear_fit(I, z):\n",
    "    # Fit linear model\n",
    "    lr = linear_model.LinearRegression()\n",
    "    lr.fit(z.reshape(-1,1), I)\n",
    "    \n",
    "    # Predict data of estimated models\n",
    "    line_X = np.arange(z.reshape(-1,1).min(), z.reshape(-1,1).max())[:, np.newaxis]\n",
    "    line_y_lr = lr.predict(line_X)\n",
    "    \n",
    "    # The slope of the line\n",
    "    lines_params[idx - 1, :] = [lr.coef_[0], lr.intercept_]\n",
    "    \n",
    "    # fixing the slope here\n",
    "    # return k, b; last 2 are for the visualizations\n",
    "    return (lines_params[idx - 1, 0], lines_params[idx - 1, 1], line_X, line_y_lr)"
   ]
  },
  {
   "cell_type": "code",
   "execution_count": null,
   "metadata": {
    "collapsed": false
   },
   "outputs": [],
   "source": [
    "# returns the adjusted intensity values\n",
    "def perform_correction(I, z, k, b):\n",
    "    z_min_arg = z.argmin()\n",
    "\n",
    "    dI = f_x(z.min(), k, b) - f_x(z, k, b)  \n",
    "    I_adj = I + dI \n",
    "    \n",
    "    return (I_adj)"
   ]
  },
  {
   "cell_type": "code",
   "execution_count": null,
   "metadata": {
    "collapsed": false
   },
   "outputs": [],
   "source": [
    "# generl setup for pretty images \n",
    "num_files = 11\n",
    "lines_params = np.zeros([num_files, 2])\n",
    "channel_id = 1 # 1,2,3\n",
    "folder_path = '/Volumes/Samsung_T3/2017-08-24-intronic-probes/' \n",
    "image = 'N2_dpy-23_ex_int_ama-1_015'\n",
    "Ia_min, Ia_max = 0, 40000\n",
    "za_min, za_max = 0, 55"
   ]
  },
  {
   "cell_type": "code",
   "execution_count": null,
   "metadata": {
    "collapsed": false
   },
   "outputs": [],
   "source": [
    "def plot_fitting(I, I_adj, z, idx, line_X, line_y):\n",
    "    plt.subplot(num_files, 2, 2*idx - 1);\n",
    "    plt.title(image + ' (series ' + str(idx).zfill(2) + ').tif')\n",
    "    plt.xlabel('z')\n",
    "    plt.ylabel('I_0')\n",
    "    plt.grid(which='major', axis='both', linestyle='dashed')\n",
    "    plt.axis([za_min, za_max, Ia_min, Ia_max])\n",
    "\n",
    "    plt.plot(z, I, 'ro', label='mRNA')\n",
    "    # plt.plot(z.reshape(-1,1)[inlier_mask], I[inlier_mask],  'go')\n",
    "    \n",
    "    plt.plot(line_X, line_y, color='cornflowerblue', linewidth=4, label='Fit')\n",
    "    plt.legend(loc='upper right')\n",
    "    \n",
    "    plt.subplot(num_files, 2, 2*idx);\n",
    "    plt.title(image + ' (series ' + str(idx).zfill(2) + ').tif')\n",
    "    plt.xlabel('z')\n",
    "    plt.ylabel('I_0_fixed')\n",
    "    plt.grid(which='major', axis='both', linestyle='dashed')\n",
    "    plt.axis([za_min, za_max, Ia_min, Ia_max])\n",
    "\n",
    "    plt.plot(z, I_adj, 'ro', label='mRNA')\n",
    "    \n",
    "    plt.legend(loc='upper right')"
   ]
  },
  {
   "cell_type": "code",
   "execution_count": null,
   "metadata": {
    "collapsed": false,
    "scrolled": false
   },
   "outputs": [],
   "source": [
    "plt.figure(figsize=(40,100))\n",
    "for idx in range (1, num_files + 1):\n",
    "    # z, I = make_graphs(idx, image)   \n",
    "    z, I = load_data(folder_path + image + '/results', idx, image, channel_id) \n",
    "    \n",
    "    k, b, line_X, line_y = linear_fit(I, z)\n",
    "    I_adj = perform_correction(I, z, k, b) \n",
    " \n",
    "    plot_fitting(I, I_adj, z, idx, line_X, line_y)\n",
    "# plt.savefig('sample.pdf')"
   ]
  },
  {
   "cell_type": "code",
   "execution_count": null,
   "metadata": {
    "collapsed": true
   },
   "outputs": [],
   "source": [
    "def plot_distribution(I, I_adj): \n",
    "    plt.subplot(num_files, 2, 2*idx - 1);\n",
    "    plt.title(image + ' (series ' + str(idx).zfill(2) + ').tif')\n",
    "    plt.xlabel('I_0')\n",
    "    plt.ylabel('# of mRNAs')\n",
    "    plt.axis([Ia_min, Ia_max, 0, 100])\n",
    "    plt.grid(which='major', axis='both', linestyle='dashed')\n",
    "    plt.hist(I, bins=np.arange(min(I), max(I) + binwidth, binwidth), color=['pink'])[2]\n",
    "    \n",
    "    plt.subplot(num_files, 2, 2*idx);\n",
    "    plt.title(image + ' (series ' + str(idx).zfill(2) + ').tif')\n",
    "    plt.xlabel('I_0_adj')\n",
    "    plt.ylabel('# of mRNAs')\n",
    "    plt.axis([Ia_min, Ia_max, 0, 100])\n",
    "    plt.grid(which='major', axis='both', linestyle='dashed')\n",
    "    plt.hist(I_adj, bins=np.arange(min(I), max(I) + binwidth, binwidth), color=['pink'])[2]"
   ]
  },
  {
   "cell_type": "code",
   "execution_count": null,
   "metadata": {
    "collapsed": false,
    "scrolled": false
   },
   "outputs": [],
   "source": [
    "binwidth = 200\n",
    "plt.figure(figsize=(40,100))\n",
    "for idx in range (1, num_files + 1):\n",
    "    z, I = load_data(folder_path + image + '/results', idx, image, channel_id) \n",
    "    \n",
    "    k, b, line_X, line_y = linear_fit(I, z)\n",
    "    I_adj = perform_correction(I, z, k, b) \n",
    "    \n",
    "    plot_distribution(I, I_adj)\n",
    "# plt.savefig('sample.pdf')"
   ]
  },
  {
   "cell_type": "code",
   "execution_count": null,
   "metadata": {
    "collapsed": true
   },
   "outputs": [],
   "source": []
  }
 ],
 "metadata": {
  "kernelspec": {
   "display_name": "Python 3",
   "language": "python",
   "name": "python3"
  },
  "language_info": {
   "codemirror_mode": {
    "name": "ipython",
    "version": 3
   },
   "file_extension": ".py",
   "mimetype": "text/x-python",
   "name": "python",
   "nbconvert_exporter": "python",
   "pygments_lexer": "ipython3",
   "version": "3.6.0"
  }
 },
 "nbformat": 4,
 "nbformat_minor": 2
}
