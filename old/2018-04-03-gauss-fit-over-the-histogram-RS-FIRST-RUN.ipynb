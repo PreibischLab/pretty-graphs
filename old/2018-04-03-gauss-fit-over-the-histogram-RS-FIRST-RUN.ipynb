{
 "cells": [
  {
   "cell_type": "code",
   "execution_count": 1,
   "metadata": {
    "collapsed": true
   },
   "outputs": [],
   "source": [
    "# what are the steps taht we perform here\n",
    "\n",
    "# [x] grab the data \n",
    "# [] run multiple gauss fits over the date with multiple initialization points \n",
    "# [] check what is the result for each run and which one gives the least error\n",
    "# [] take only 70% of the points \n",
    "# [] write the result to the csv\n",
    "\n",
    "# [] final consolidated table -> made per channel per type of gene"
   ]
  },
  {
   "cell_type": "code",
   "execution_count": 2,
   "metadata": {
    "collapsed": false
   },
   "outputs": [],
   "source": [
    "# want to see the images inline\n",
    "%matplotlib inline\n",
    "\n",
    "# imports\n",
    "# general \n",
    "import os\n",
    "import glob\n",
    "from functools import reduce\n",
    "import re\n",
    "import csv as csv\n",
    "# scientific \n",
    "import matplotlib.pyplot as plt\n",
    "import numpy as np\n",
    "from sklearn import linear_model, datasets\n",
    "from scipy.stats import norm, gamma\n",
    "from scipy.optimize import curve_fit\n",
    "from scipy import special\n",
    "\n",
    "import pandas as pd\n",
    "\n",
    "from sklearn.metrics import mean_squared_error, mean_absolute_error"
   ]
  },
  {
   "cell_type": "code",
   "execution_count": null,
   "metadata": {
    "collapsed": true
   },
   "outputs": [],
   "source": []
  },
  {
   "cell_type": "code",
   "execution_count": 3,
   "metadata": {
    "collapsed": true
   },
   "outputs": [],
   "source": [
    "# simple exp function\n",
    "def f_x(x, A, b, x_0):\n",
    "    return A*np.exp(-b*(x - x_0)*(x - x_0))"
   ]
  },
  {
   "cell_type": "code",
   "execution_count": 4,
   "metadata": {
    "collapsed": false
   },
   "outputs": [],
   "source": [
    "# simple gamma function\n",
    "def g_x(x, a, c):\n",
    "    return x**(a - 1)*np.exp(-x)/special.gamma(a) + c"
   ]
  },
  {
   "cell_type": "code",
   "execution_count": 5,
   "metadata": {
    "collapsed": true
   },
   "outputs": [],
   "source": [
    "# function for loading one data-set\n",
    "def load_data(file_path):\n",
    "    data = np.loadtxt(file_path, delimiter = '\\t', skiprows=1)\n",
    "    # print(data.shape) \n",
    "    # handles some weird cases, e.g. when there is no data in the file\n",
    "    if (len(data.shape) < 2):\n",
    "        data = data[None, :]\n",
    "    if (data.shape[1] == 0):\n",
    "        I = np.array([0])\n",
    "    else:\n",
    "        I = data[:, -1]\n",
    "    return I"
   ]
  },
  {
   "cell_type": "code",
   "execution_count": 6,
   "metadata": {
    "collapsed": true
   },
   "outputs": [],
   "source": [
    "# some folder magic\n",
    "folder = '/Volumes/1TB/test/2018-04-17-test-run/csv/'\n",
    "N2_folder = 'N2-results/'\n",
    "SEA12_folder = 'SEA-12-results/'"
   ]
  },
  {
   "cell_type": "code",
   "execution_count": 7,
   "metadata": {
    "collapsed": true
   },
   "outputs": [],
   "source": [
    "# some folder magic \n",
    "folder = '/Users/kkolyva/Desktop/resample/2018-04-03-results-radial-symmetry/'\n",
    "N2_folder = 'N2-results/'\n",
    "SEA12_folder = 'SEA-12-results/'"
   ]
  },
  {
   "cell_type": "code",
   "execution_count": 8,
   "metadata": {
    "collapsed": true
   },
   "outputs": [],
   "source": [
    "# some const params for all graphs\n",
    "binwidth = 0.01\n",
    "# graph [xmin, xmax]\n",
    "xmin = 0\n",
    "xmax = 2.4"
   ]
  },
  {
   "cell_type": "code",
   "execution_count": 9,
   "metadata": {
    "collapsed": false
   },
   "outputs": [
    {
     "ename": "NameError",
     "evalue": "name 'I' is not defined",
     "output_type": "error",
     "traceback": [
      "\u001b[0;31m---------------------------------------------------------------------------\u001b[0m",
      "\u001b[0;31mNameError\u001b[0m                                 Traceback (most recent call last)",
      "\u001b[0;32m<ipython-input-9-296f2570db0d>\u001b[0m in \u001b[0;36m<module>\u001b[0;34m()\u001b[0m\n\u001b[0;32m----> 1\u001b[0;31m \u001b[0mbins\u001b[0m \u001b[0;34m=\u001b[0m \u001b[0mnp\u001b[0m\u001b[0;34m.\u001b[0m\u001b[0marange\u001b[0m\u001b[0;34m(\u001b[0m\u001b[0mmin\u001b[0m\u001b[0;34m(\u001b[0m\u001b[0mI\u001b[0m\u001b[0;34m)\u001b[0m\u001b[0;34m,\u001b[0m \u001b[0mmax\u001b[0m\u001b[0;34m(\u001b[0m\u001b[0mI\u001b[0m\u001b[0;34m)\u001b[0m \u001b[0;34m+\u001b[0m \u001b[0mbinwidth\u001b[0m\u001b[0;34m,\u001b[0m \u001b[0mbinwidth\u001b[0m\u001b[0;34m)\u001b[0m\u001b[0;34m\u001b[0m\u001b[0m\n\u001b[0m\u001b[1;32m      2\u001b[0m \u001b[0mprint\u001b[0m\u001b[0;34m(\u001b[0m\u001b[0mbins\u001b[0m\u001b[0;34m)\u001b[0m\u001b[0;34m\u001b[0m\u001b[0m\n\u001b[1;32m      3\u001b[0m \u001b[0;34m\u001b[0m\u001b[0m\n\u001b[1;32m      4\u001b[0m \u001b[0mbinned_values\u001b[0m\u001b[0;34m,\u001b[0m \u001b[0mreal_bins\u001b[0m \u001b[0;34m=\u001b[0m \u001b[0mnp\u001b[0m\u001b[0;34m.\u001b[0m\u001b[0mhistogram\u001b[0m\u001b[0;34m(\u001b[0m\u001b[0mI\u001b[0m\u001b[0;34m,\u001b[0m \u001b[0mbins\u001b[0m\u001b[0;34m)\u001b[0m\u001b[0;34m\u001b[0m\u001b[0m\n\u001b[1;32m      5\u001b[0m \u001b[0;34m\u001b[0m\u001b[0m\n",
      "\u001b[0;31mNameError\u001b[0m: name 'I' is not defined"
     ]
    }
   ],
   "source": [
    "bins = np.arange(min(I), max(I) + binwidth, binwidth)\n",
    "print(bins)\n",
    "\n",
    "binned_values, real_bins = np.histogram(I, bins)\n",
    "\n",
    "real_bins = real_bins[:-1] + (real_bins[1] - real_bins[0])/2  \n",
    "real_bins, binned_values"
   ]
  },
  {
   "cell_type": "code",
   "execution_count": null,
   "metadata": {
    "collapsed": false,
    "scrolled": false
   },
   "outputs": [],
   "source": [
    "# investigate the data a little bit\n",
    "print ('bins: ', bins.shape, bins)\n",
    "print(x1) # < (centers of the bins)\n",
    "print(y1)\n",
    "# print ('I:', I.shape, I)\n"
   ]
  },
  {
   "cell_type": "code",
   "execution_count": 10,
   "metadata": {
    "collapsed": false
   },
   "outputs": [
    {
     "ename": "NameError",
     "evalue": "name 'I' is not defined",
     "output_type": "error",
     "traceback": [
      "\u001b[0;31m---------------------------------------------------------------------------\u001b[0m",
      "\u001b[0;31mNameError\u001b[0m                                 Traceback (most recent call last)",
      "\u001b[0;32m<ipython-input-10-7029457d562e>\u001b[0m in \u001b[0;36m<module>\u001b[0;34m()\u001b[0m\n\u001b[0;32m----> 1\u001b[0;31m \u001b[0mbins\u001b[0m \u001b[0;34m=\u001b[0m \u001b[0mnp\u001b[0m\u001b[0;34m.\u001b[0m\u001b[0marange\u001b[0m\u001b[0;34m(\u001b[0m\u001b[0mmin\u001b[0m\u001b[0;34m(\u001b[0m\u001b[0mI\u001b[0m\u001b[0;34m)\u001b[0m\u001b[0;34m,\u001b[0m \u001b[0mmax\u001b[0m\u001b[0;34m(\u001b[0m\u001b[0mI\u001b[0m\u001b[0;34m)\u001b[0m \u001b[0;34m+\u001b[0m \u001b[0mbinwidth\u001b[0m\u001b[0;34m,\u001b[0m \u001b[0mbinwidth\u001b[0m\u001b[0;34m)\u001b[0m\u001b[0;34m\u001b[0m\u001b[0m\n\u001b[0m\u001b[1;32m      2\u001b[0m \u001b[0;31m# print(bins)\u001b[0m\u001b[0;34m\u001b[0m\u001b[0;34m\u001b[0m\u001b[0m\n\u001b[1;32m      3\u001b[0m \u001b[0;34m\u001b[0m\u001b[0m\n\u001b[1;32m      4\u001b[0m \u001b[0mx\u001b[0m \u001b[0;34m=\u001b[0m \u001b[0mx1\u001b[0m\u001b[0;34m\u001b[0m\u001b[0m\n\u001b[1;32m      5\u001b[0m \u001b[0my\u001b[0m \u001b[0;34m=\u001b[0m \u001b[0my1\u001b[0m\u001b[0;34m\u001b[0m\u001b[0m\n",
      "\u001b[0;31mNameError\u001b[0m: name 'I' is not defined"
     ]
    }
   ],
   "source": [
    "bins = np.arange(min(I), max(I) + binwidth, binwidth)\n",
    "# print(bins)\n",
    "\n",
    "x = x1 \n",
    "y = y1\n",
    "\n",
    "print ('x:', x)\n",
    "print ('y:', y)\n",
    "\n",
    "popt, pcov = curve_fit(f_x, x, y, p0=[40, 2, 0.2])\n",
    "print(popt)\n",
    "\n",
    "# plt.bar(x, y, width=0.005, color='pink');\n",
    "# plt.plot(x,y, color='red')\n",
    "\n",
    "xx = np.linspace(0, 20, 2000)\n",
    "\n",
    "plt.plot(xx, f_x(xx, *popt))\n",
    "# plt.plot()\n",
    "\n",
    "plt.show()\n",
    "# f_x(x, *popt);"
   ]
  },
  {
   "cell_type": "code",
   "execution_count": 11,
   "metadata": {
    "collapsed": false,
    "scrolled": false
   },
   "outputs": [
    {
     "name": "stdout",
     "output_type": "stream",
     "text": [
      "I_min: 0.1 I_max: 1.3\n",
      "[ 0.1   0.11  0.12  0.13  0.14  0.15  0.16  0.17  0.18  0.19  0.2   0.21\n",
      "  0.22  0.23  0.24  0.25  0.26  0.27  0.28  0.29  0.3   0.31  0.32  0.33\n",
      "  0.34  0.35  0.36  0.37  0.38  0.39  0.4   0.41  0.42  0.43  0.44  0.45\n",
      "  0.46  0.47  0.48  0.49  0.5   0.51  0.52  0.53  0.54  0.55  0.56  0.57\n",
      "  0.58  0.59  0.6   0.61  0.62  0.63  0.64  0.65  0.66  0.67  0.68  0.69\n",
      "  0.7   0.71  0.72  0.73  0.74  0.75  0.76  0.77  0.78  0.79  0.8   0.81\n",
      "  0.82  0.83  0.84  0.85  0.86  0.87  0.88  0.89  0.9   0.91  0.92  0.93\n",
      "  0.94  0.95  0.96  0.97  0.98  0.99  1.    1.01  1.02  1.03  1.04  1.05\n",
      "  1.06  1.07  1.08  1.09  1.1   1.11  1.12  1.13  1.14  1.15  1.16  1.17\n",
      "  1.18  1.19  1.2   1.21  1.22  1.23  1.24  1.25  1.26  1.27  1.28  1.29\n",
      "  1.3 ]\n",
      "72.1451165563 -0.585494466683 0.015499873293\n",
      "peak center: 0.51833030853\n"
     ]
    },
    {
     "name": "stderr",
     "output_type": "stream",
     "text": [
      "/Users/kkolyva/anaconda3/lib/python3.6/site-packages/matplotlib/axes/_axes.py:545: UserWarning: No labelled objects found. Use label='...' kwarg on individual plots.\n",
      "  warnings.warn(\"No labelled objects found. \"\n"
     ]
    },
    {
     "data": {
      "image/png": "[encoded data removed]",
      "text/plain": [
       "<matplotlib.figure.Figure at 0x111c67e80>"
      ]
     },
     "metadata": {},
     "output_type": "display_data"
    }
   ],
   "source": [
    "# for testing \n",
    "# filepath = folder + N2_folder + 'all/C1-N2_16.csv'\n",
    "filepath = '/Users/kkolyva/Desktop/2018-04-18-08-29-25-test/test/2018-05-02-13-33-11-median-median-first-test/csv/C1-N2_96.csv'\n",
    "# filepath = '/Users/kkolyva/Desktop/2018-04-18-08-29-25-test/test/2018-04-24-15-33-21-median-median-first-test/csv/C1-N2_228.csv'\n",
    "\n",
    "I = load_data(filepath)\n",
    "\n",
    "fig = plt.figure(figsize=(8,5))\n",
    "title = \"C1-N2_96\"\n",
    "fig.suptitle(title, fontsize=14, fontweight='bold')\n",
    "    \n",
    "plt.xlabel('Intensity', fontsize=18)\n",
    "plt.ylabel('# spots', fontsize=16)\n",
    "\n",
    "print(\"I_min:\", min(I), \"I_max:\", max(I))\n",
    "\n",
    "bins = np.arange(min(I), max(I) + binwidth, binwidth)\n",
    "# bins = np.arange(xmin, xmax, binwidth)\n",
    "\n",
    "print(bins)\n",
    "\n",
    "I_res = I\n",
    "# (h_mu, h_sigma) = norm.fit(I_res)\n",
    "fit_alpha, fit_loc, fit_beta = gamma.fit(I_res)\n",
    "print(fit_alpha, fit_loc, fit_beta)\n",
    "\n",
    "plt.hist(I, bins=bins, color='pink', normed=True); # \n",
    "plt.text(0.9*xmax, 0.1, \"Total: \" + str(I.shape[0]), color='black', bbox=dict(facecolor='white', alpha=1))\n",
    "\n",
    "x = np.linspace(xmin, xmax, 1103)\n",
    "# y = norm.pdf(x, h_mu, h_sigma)\n",
    "y = gamma.pdf(x, fit_alpha, fit_loc, fit_beta)\n",
    "plt.plot(x,y)\n",
    "\n",
    "\n",
    "print(\"peak center:\", x[np.argmax(y)])\n",
    "\n",
    "plt.xlim([xmin, xmax])\n",
    "\n",
    "plt.legend(loc = 'upper right')"
   ]
  },
  {
   "cell_type": "code",
   "execution_count": 12,
   "metadata": {
    "collapsed": true
   },
   "outputs": [],
   "source": [
    "# possible labels \n",
    "stain = ['DPY-23_EX', 'WDR-5.2', 'MDH-1']\n",
    "stage = 'E' # only embryos\n",
    "comment = '' # only empty ones"
   ]
  },
  {
   "cell_type": "code",
   "execution_count": 13,
   "metadata": {
    "collapsed": true
   },
   "outputs": [],
   "source": [
    "# important indices\n",
    "stain_columns = ['C0_stain', 'C1_stain', 'C2_stain', 'C3_stain', 'C4_stain']\n",
    "type_columns = ['C0_type', 'C1_type', 'C2_type', 'C3_type', 'C4_type']\n",
    "stain_prefix = np.array([['C1-', 'C2-', 'C3-', 'C4-', 'C5-']])\n",
    "ext = '.csv'\n",
    "filename_column = 'new filename'"
   ]
  },
  {
   "cell_type": "code",
   "execution_count": 14,
   "metadata": {
    "collapsed": false
   },
   "outputs": [
    {
     "data": {
      "text/html": [
       "<div>\n",
       "<table border=\"1\" class=\"dataframe\">\n",
       "  <thead>\n",
       "    <tr style=\"text-align: right;\">\n",
       "      <th></th>\n",
       "      <th>Line</th>\n",
       "      <th>ID</th>\n",
       "      <th>C0_lambda</th>\n",
       "      <th>C0_stain</th>\n",
       "      <th>C0_type</th>\n",
       "      <th>C1_lambda</th>\n",
       "      <th>C1_stain</th>\n",
       "      <th>C1_type</th>\n",
       "      <th>C2_lambda</th>\n",
       "      <th>C2_stain</th>\n",
       "      <th>...</th>\n",
       "      <th>C4_lambda</th>\n",
       "      <th>C4_stain</th>\n",
       "      <th>C4_type</th>\n",
       "      <th>signal</th>\n",
       "      <th>Integrity</th>\n",
       "      <th>stage</th>\n",
       "      <th>comment</th>\n",
       "      <th>date</th>\n",
       "      <th>original filename</th>\n",
       "      <th>new filename</th>\n",
       "    </tr>\n",
       "  </thead>\n",
       "  <tbody>\n",
       "    <tr>\n",
       "      <th>0</th>\n",
       "      <td>N2</td>\n",
       "      <td>1</td>\n",
       "      <td>670.0</td>\n",
       "      <td>FISH</td>\n",
       "      <td>DPY-23_EX</td>\n",
       "      <td>488.0</td>\n",
       "      <td>AF</td>\n",
       "      <td>NaN</td>\n",
       "      <td>405.0</td>\n",
       "      <td>NUCLEAR</td>\n",
       "      <td>...</td>\n",
       "      <td>NaN</td>\n",
       "      <td>NaN</td>\n",
       "      <td>NaN</td>\n",
       "      <td>3.0</td>\n",
       "      <td>0.0</td>\n",
       "      <td>L1</td>\n",
       "      <td>not complete</td>\n",
       "      <td>11/17/16</td>\n",
       "      <td>2016-11-17_N2-DPY-23-001.nd2</td>\n",
       "      <td>N2_1</td>\n",
       "    </tr>\n",
       "    <tr>\n",
       "      <th>1</th>\n",
       "      <td>N2</td>\n",
       "      <td>2</td>\n",
       "      <td>670.0</td>\n",
       "      <td>FISH</td>\n",
       "      <td>DPY-23_EX</td>\n",
       "      <td>488.0</td>\n",
       "      <td>AF</td>\n",
       "      <td>NaN</td>\n",
       "      <td>405.0</td>\n",
       "      <td>NUCLEAR</td>\n",
       "      <td>...</td>\n",
       "      <td>NaN</td>\n",
       "      <td>NaN</td>\n",
       "      <td>NaN</td>\n",
       "      <td>4.0</td>\n",
       "      <td>1.0</td>\n",
       "      <td>L1</td>\n",
       "      <td>dirt</td>\n",
       "      <td>11/17/16</td>\n",
       "      <td>2016-11-17_N2-DPY-23-002.nd2</td>\n",
       "      <td>N2_2</td>\n",
       "    </tr>\n",
       "    <tr>\n",
       "      <th>2</th>\n",
       "      <td>N2</td>\n",
       "      <td>3</td>\n",
       "      <td>670.0</td>\n",
       "      <td>FISH</td>\n",
       "      <td>DPY-23_EX</td>\n",
       "      <td>488.0</td>\n",
       "      <td>AF</td>\n",
       "      <td>NaN</td>\n",
       "      <td>405.0</td>\n",
       "      <td>NUCLEAR</td>\n",
       "      <td>...</td>\n",
       "      <td>NaN</td>\n",
       "      <td>NaN</td>\n",
       "      <td>NaN</td>\n",
       "      <td>2.0</td>\n",
       "      <td>0.0</td>\n",
       "      <td>L1</td>\n",
       "      <td>dirt, not complete</td>\n",
       "      <td>11/17/16</td>\n",
       "      <td>2016-11-17_N2-DPY-23-003.nd2</td>\n",
       "      <td>N2_3</td>\n",
       "    </tr>\n",
       "    <tr>\n",
       "      <th>3</th>\n",
       "      <td>N2</td>\n",
       "      <td>4</td>\n",
       "      <td>670.0</td>\n",
       "      <td>FISH</td>\n",
       "      <td>DPY-23_EX</td>\n",
       "      <td>488.0</td>\n",
       "      <td>AF</td>\n",
       "      <td>NaN</td>\n",
       "      <td>405.0</td>\n",
       "      <td>NUCLEAR</td>\n",
       "      <td>...</td>\n",
       "      <td>NaN</td>\n",
       "      <td>NaN</td>\n",
       "      <td>NaN</td>\n",
       "      <td>4.0</td>\n",
       "      <td>1.0</td>\n",
       "      <td>L1</td>\n",
       "      <td>NaN</td>\n",
       "      <td>11/17/16</td>\n",
       "      <td>2016-11-17_N2-DPY-23-004.nd2</td>\n",
       "      <td>N2_4</td>\n",
       "    </tr>\n",
       "    <tr>\n",
       "      <th>4</th>\n",
       "      <td>N2</td>\n",
       "      <td>5</td>\n",
       "      <td>670.0</td>\n",
       "      <td>FISH</td>\n",
       "      <td>DPY-23_EX</td>\n",
       "      <td>488.0</td>\n",
       "      <td>AF</td>\n",
       "      <td>NaN</td>\n",
       "      <td>405.0</td>\n",
       "      <td>NUCLEAR</td>\n",
       "      <td>...</td>\n",
       "      <td>NaN</td>\n",
       "      <td>NaN</td>\n",
       "      <td>NaN</td>\n",
       "      <td>3.0</td>\n",
       "      <td>0.0</td>\n",
       "      <td>L1</td>\n",
       "      <td>not complete</td>\n",
       "      <td>11/17/16</td>\n",
       "      <td>2016-11-17_N2-DPY-23-005.nd2</td>\n",
       "      <td>N2_5</td>\n",
       "    </tr>\n",
       "  </tbody>\n",
       "</table>\n",
       "<p>5 rows × 24 columns</p>\n",
       "</div>"
      ],
      "text/plain": [
       "  Line  ID  C0_lambda C0_stain    C0_type  C1_lambda C1_stain C1_type  \\\n",
       "0   N2   1      670.0     FISH  DPY-23_EX      488.0       AF     NaN   \n",
       "1   N2   2      670.0     FISH  DPY-23_EX      488.0       AF     NaN   \n",
       "2   N2   3      670.0     FISH  DPY-23_EX      488.0       AF     NaN   \n",
       "3   N2   4      670.0     FISH  DPY-23_EX      488.0       AF     NaN   \n",
       "4   N2   5      670.0     FISH  DPY-23_EX      488.0       AF     NaN   \n",
       "\n",
       "   C2_lambda C2_stain     ...      C4_lambda  C4_stain C4_type signal  \\\n",
       "0      405.0  NUCLEAR     ...            NaN       NaN     NaN    3.0   \n",
       "1      405.0  NUCLEAR     ...            NaN       NaN     NaN    4.0   \n",
       "2      405.0  NUCLEAR     ...            NaN       NaN     NaN    2.0   \n",
       "3      405.0  NUCLEAR     ...            NaN       NaN     NaN    4.0   \n",
       "4      405.0  NUCLEAR     ...            NaN       NaN     NaN    3.0   \n",
       "\n",
       "   Integrity stage             comment      date  \\\n",
       "0        0.0    L1        not complete  11/17/16   \n",
       "1        1.0    L1                dirt  11/17/16   \n",
       "2        0.0    L1  dirt, not complete  11/17/16   \n",
       "3        1.0    L1                 NaN  11/17/16   \n",
       "4        0.0    L1        not complete  11/17/16   \n",
       "\n",
       "              original filename new filename  \n",
       "0  2016-11-17_N2-DPY-23-001.nd2         N2_1  \n",
       "1  2016-11-17_N2-DPY-23-002.nd2         N2_2  \n",
       "2  2016-11-17_N2-DPY-23-003.nd2         N2_3  \n",
       "3  2016-11-17_N2-DPY-23-004.nd2         N2_4  \n",
       "4  2016-11-17_N2-DPY-23-005.nd2         N2_5  \n",
       "\n",
       "[5 rows x 24 columns]"
      ]
     },
     "execution_count": 14,
     "metadata": {},
     "output_type": "execute_result"
    }
   ],
   "source": [
    "# read the db and parse images that we want to process\n",
    "df = pd.read_csv(folder + \"smFISH-database/N2-Table 1.csv\", sep=',', na_values=['']);\n",
    "df.head()"
   ]
  },
  {
   "cell_type": "code",
   "execution_count": 15,
   "metadata": {
    "collapsed": false,
    "scrolled": false
   },
   "outputs": [
    {
     "name": "stdout",
     "output_type": "stream",
     "text": [
      "108\n"
     ]
    }
   ],
   "source": [
    "# this is general\n",
    "# filter to have only *good* and *embryo* files\n",
    "good_indices = np.logical_and((df['stage'] == stage).tolist() , (df['comment'].isnull()).tolist())\n",
    "good_indices.shape[0]\n",
    "\n",
    "\n",
    "print(np.sum(good_indices == True))"
   ]
  },
  {
   "cell_type": "code",
   "execution_count": 16,
   "metadata": {
    "collapsed": false
   },
   "outputs": [],
   "source": [
    "# choose necessary stains\n",
    "dataset1 = []\n",
    "df_good = (df[type_columns].astype(np.object) == stain[0]).loc[good_indices, :]\n",
    "row, col = np.where(df_good)\n",
    "n_samples = df.shape[0]\n",
    "new_prefix = np.repeat(stain_prefix, n_samples, axis=0)[row, col]\n",
    "new_filename = df[filename_column].loc[good_indices].as_matrix()[row]\n",
    "dataset1 = [\"{}{}\".format(a_, b_) for a_, b_ in zip(new_prefix, new_filename)]"
   ]
  },
  {
   "cell_type": "code",
   "execution_count": 17,
   "metadata": {
    "collapsed": false,
    "scrolled": true
   },
   "outputs": [],
   "source": [
    "# choose necessary stains\n",
    "dataset2 = []\n",
    "df_good = (df[type_columns].astype(np.object) == stain[1]).loc[good_indices, :]\n",
    "row, col = np.where(df_good)\n",
    "n_samples = df.shape[0]\n",
    "new_prefix = np.repeat(stain_prefix, n_samples, axis=0)[row, col]\n",
    "new_filename = df[filename_column].loc[good_indices].as_matrix()[row]\n",
    "dataset2 = [\"{}{}\".format(a_, b_) for a_, b_ in zip(new_prefix, new_filename)]"
   ]
  },
  {
   "cell_type": "code",
   "execution_count": 18,
   "metadata": {
    "collapsed": false
   },
   "outputs": [],
   "source": [
    "# choose necessary stains\n",
    "dataset3 = []\n",
    "df_good = (df[type_columns].astype(np.object) == stain[2]).loc[good_indices, :]\n",
    "row, col = np.where(df_good)\n",
    "n_samples = df.shape[0]\n",
    "new_prefix = np.repeat(stain_prefix, n_samples, axis=0)[row, col]\n",
    "new_filename = df[filename_column].loc[good_indices].as_matrix()[row]\n",
    "dataset3 = [\"{}{}\".format(a_, b_) for a_, b_ in zip(new_prefix, new_filename)]"
   ]
  },
  {
   "cell_type": "code",
   "execution_count": 19,
   "metadata": {
    "collapsed": false
   },
   "outputs": [
    {
     "name": "stdout",
     "output_type": "stream",
     "text": [
      "225\n"
     ]
    }
   ],
   "source": [
    "print(len(dataset1) + len(dataset2) + len(dataset3))"
   ]
  },
  {
   "cell_type": "code",
   "execution_count": 20,
   "metadata": {
    "collapsed": false
   },
   "outputs": [],
   "source": [
    "def create_title(path):\n",
    "    # get the name of the initial image\n",
    "    image_name = path.split(\"/\")[8] # was 8\n",
    "    # print(path.split(\"/\"))\n",
    "    # create the full title \n",
    "    title = image_name[:-4]\n",
    "    return title\n",
    "# create_title(\"/Users/kkolyva/Desktop/n2/N2-results/all/C1-N2_9.csv\")"
   ]
  },
  {
   "cell_type": "code",
   "execution_count": 36,
   "metadata": {
    "collapsed": true
   },
   "outputs": [],
   "source": [
    "# some presets for the graphs\n",
    "labels = ['MDH-1'] # ['DPY-23_EX', 'WDR-5.2', 'MDH-1']\n",
    "colors = [\"pink\"] # yellow"
   ]
  },
  {
   "cell_type": "code",
   "execution_count": 40,
   "metadata": {
    "collapsed": false,
    "scrolled": true
   },
   "outputs": [
    {
     "name": "stdout",
     "output_type": "stream",
     "text": [
      "/Users/kkolyva/Desktop/2018-04-18-08-29-25-test/test/2018-04-24-15-33-21-median-median-first-test/csv-2/C2-N2_159.csv\n",
      "/Users/kkolyva/Desktop/2018-04-18-08-29-25-test/test/2018-04-24-15-33-21-median-median-first-test/csv-2/C2-N2_167.csv\n",
      "/Users/kkolyva/Desktop/2018-04-18-08-29-25-test/test/2018-04-24-15-33-21-median-median-first-test/csv-2/C2-N2_173.csv\n",
      "/Users/kkolyva/Desktop/2018-04-18-08-29-25-test/test/2018-04-24-15-33-21-median-median-first-test/csv-2/C2-N2_174.csv\n",
      "/Users/kkolyva/Desktop/2018-04-18-08-29-25-test/test/2018-04-24-15-33-21-median-median-first-test/csv-2/C2-N2_176.csv\n",
      "/Users/kkolyva/Desktop/2018-04-18-08-29-25-test/test/2018-04-24-15-33-21-median-median-first-test/csv-2/C2-N2_182.csv\n",
      "/Users/kkolyva/Desktop/2018-04-18-08-29-25-test/test/2018-04-24-15-33-21-median-median-first-test/csv-2/C2-N2_183.csv\n",
      "/Users/kkolyva/Desktop/2018-04-18-08-29-25-test/test/2018-04-24-15-33-21-median-median-first-test/csv-2/C2-N2_184.csv\n",
      "/Users/kkolyva/Desktop/2018-04-18-08-29-25-test/test/2018-04-24-15-33-21-median-median-first-test/csv-2/C2-N2_189.csv\n",
      "/Users/kkolyva/Desktop/2018-04-18-08-29-25-test/test/2018-04-24-15-33-21-median-median-first-test/csv-2/C2-N2_191.csv\n",
      "/Users/kkolyva/Desktop/2018-04-18-08-29-25-test/test/2018-04-24-15-33-21-median-median-first-test/csv-2/C2-N2_199.csv\n",
      "/Users/kkolyva/Desktop/2018-04-18-08-29-25-test/test/2018-04-24-15-33-21-median-median-first-test/csv-2/C2-N2_201.csv\n",
      "/Users/kkolyva/Desktop/2018-04-18-08-29-25-test/test/2018-04-24-15-33-21-median-median-first-test/csv-2/C2-N2_203.csv\n",
      "/Users/kkolyva/Desktop/2018-04-18-08-29-25-test/test/2018-04-24-15-33-21-median-median-first-test/csv-2/C2-N2_204.csv\n",
      "/Users/kkolyva/Desktop/2018-04-18-08-29-25-test/test/2018-04-24-15-33-21-median-median-first-test/csv-2/C2-N2_205.csv\n",
      "/Users/kkolyva/Desktop/2018-04-18-08-29-25-test/test/2018-04-24-15-33-21-median-median-first-test/csv-2/C2-N2_206.csv\n",
      "/Users/kkolyva/Desktop/2018-04-18-08-29-25-test/test/2018-04-24-15-33-21-median-median-first-test/csv-2/C2-N2_219.csv\n",
      "/Users/kkolyva/Desktop/2018-04-18-08-29-25-test/test/2018-04-24-15-33-21-median-median-first-test/csv-2/C2-N2_220.csv\n",
      "/Users/kkolyva/Desktop/2018-04-18-08-29-25-test/test/2018-04-24-15-33-21-median-median-first-test/csv-2/C2-N2_222.csv\n",
      "/Users/kkolyva/Desktop/2018-04-18-08-29-25-test/test/2018-04-24-15-33-21-median-median-first-test/csv-2/C2-N2_223.csv\n",
      "/Users/kkolyva/Desktop/2018-04-18-08-29-25-test/test/2018-04-24-15-33-21-median-median-first-test/csv-2/C2-N2_224.csv\n",
      "/Users/kkolyva/Desktop/2018-04-18-08-29-25-test/test/2018-04-24-15-33-21-median-median-first-test/csv-2/C2-N2_225.csv\n",
      "/Users/kkolyva/Desktop/2018-04-18-08-29-25-test/test/2018-04-24-15-33-21-median-median-first-test/csv-2/C2-N2_226.csv\n",
      "/Users/kkolyva/Desktop/2018-04-18-08-29-25-test/test/2018-04-24-15-33-21-median-median-first-test/csv-2/C2-N2_227.csv\n",
      "/Users/kkolyva/Desktop/2018-04-18-08-29-25-test/test/2018-04-24-15-33-21-median-median-first-test/csv-2/C2-N2_228.csv\n",
      "/Users/kkolyva/Desktop/2018-04-18-08-29-25-test/test/2018-04-24-15-33-21-median-median-first-test/csv-2/C2-N2_229.csv\n",
      "/Users/kkolyva/Desktop/2018-04-18-08-29-25-test/test/2018-04-24-15-33-21-median-median-first-test/csv-2/C2-N2_230.csv\n",
      "/Users/kkolyva/Desktop/2018-04-18-08-29-25-test/test/2018-04-24-15-33-21-median-median-first-test/csv-2/C2-N2_237.csv\n",
      "/Users/kkolyva/Desktop/2018-04-18-08-29-25-test/test/2018-04-24-15-33-21-median-median-first-test/csv-2/C2-N2_239.csv\n",
      "/Users/kkolyva/Desktop/2018-04-18-08-29-25-test/test/2018-04-24-15-33-21-median-median-first-test/csv-2/C2-N2_249.csv\n",
      "/Users/kkolyva/Desktop/2018-04-18-08-29-25-test/test/2018-04-24-15-33-21-median-median-first-test/csv-2/C2-N2_253.csv\n",
      "/Users/kkolyva/Desktop/2018-04-18-08-29-25-test/test/2018-04-24-15-33-21-median-median-first-test/csv-2/C2-N2_261.csv\n",
      "/Users/kkolyva/Desktop/2018-04-18-08-29-25-test/test/2018-04-24-15-33-21-median-median-first-test/csv-2/C2-N2_262.csv\n",
      "/Users/kkolyva/Desktop/2018-04-18-08-29-25-test/test/2018-04-24-15-33-21-median-median-first-test/csv-2/C2-N2_269.csv\n",
      "/Users/kkolyva/Desktop/2018-04-18-08-29-25-test/test/2018-04-24-15-33-21-median-median-first-test/csv-2/C2-N2_270.csv\n",
      "/Users/kkolyva/Desktop/2018-04-18-08-29-25-test/test/2018-04-24-15-33-21-median-median-first-test/csv-2/C2-N2_271.csv\n",
      "/Users/kkolyva/Desktop/2018-04-18-08-29-25-test/test/2018-04-24-15-33-21-median-median-first-test/csv-2/C2-N2_277.csv\n",
      "/Users/kkolyva/Desktop/2018-04-18-08-29-25-test/test/2018-04-24-15-33-21-median-median-first-test/csv-2/C2-N2_278.csv\n"
     ]
    }
   ],
   "source": [
    "# have to perform this step multiple times and choose the best one \n",
    "# perform n_fits with different initial parameters\n",
    "# n_fits = 10\n",
    "\n",
    "# actual plotting \n",
    "dataset = []\n",
    "\n",
    "for j in range(0, len(dataset3)):\n",
    "    tmp_folder = \"/Users/kkolyva/Desktop/2018-04-18-08-29-25-test/test/2018-04-24-15-33-21-median-median-first-test/csv/\"\n",
    "    tmp = tmp_folder + dataset3[j] + \".csv\"\n",
    "    # tmp = folder + N2_folder + \"all/\" + dataset1[j] + \".csv\"\n",
    "    dataset.append(tmp)\n",
    "    print(tmp)"
   ]
  },
  {
   "cell_type": "code",
   "execution_count": 41,
   "metadata": {
    "collapsed": true
   },
   "outputs": [],
   "source": [
    "# how good is fitter-meter?\n",
    "def fitter_meter(y, y_hat):\n",
    "    return [mean_absolute_error(y,y_hat), np.sqrt(mean_squared_error(y,y_hat))]"
   ]
  },
  {
   "cell_type": "code",
   "execution_count": 42,
   "metadata": {
    "collapsed": false,
    "scrolled": false
   },
   "outputs": [
    {
     "name": "stdout",
     "output_type": "stream",
     "text": [
      "error: L1, L2 [10.309274583895919, 13.819813250556011]\n",
      "peak center: 0.95\n"
     ]
    },
    {
     "data": {
      "image/png": "[encoded data removed]",
      "text/plain": [
       "<matplotlib.figure.Figure at 0x11683b160>"
      ]
     },
     "metadata": {},
     "output_type": "display_data"
    },
    {
     "name": "stdout",
     "output_type": "stream",
     "text": [
      "error: L1, L2 [1.1726790640541456, 2.5669205629966525]\n",
      "peak center: 0.97\n"
     ]
    },
    {
     "data": {
      "image/png": "[encoded data removed]",
      "text/plain": [
       "<matplotlib.figure.Figure at 0x1161b0da0>"
      ]
     },
     "metadata": {},
     "output_type": "display_data"
    },
    {
     "name": "stdout",
     "output_type": "stream",
     "text": [
      "error: L1, L2 [2.1770010860494602, 3.9336098855705668]\n",
      "peak center: 0.97\n"
     ]
    },
    {
     "data": {
      "image/png": "[encoded data removed]",
      "text/plain": [
       "<matplotlib.figure.Figure at 0x11655fba8>"
      ]
     },
     "metadata": {},
     "output_type": "display_data"
    },
    {
     "name": "stdout",
     "output_type": "stream",
     "text": [
      "error: L1, L2 [0.72686940263031119, 1.5292335262420491]\n",
      "peak center: 1.16\n"
     ]
    },
    {
     "data": {
      "image/png": "[encoded data removed]",
      "text/plain": [
       "<matplotlib.figure.Figure at 0x11674f1d0>"
      ]
     },
     "metadata": {},
     "output_type": "display_data"
    }
   ],
   "source": [
    "# have to perform this step multiple times and choose the best one \n",
    "# perform n_fits with different initial parameters\n",
    "# n_fits = 10\n",
    "\n",
    "center_path = \"/Users/kkolyva/Desktop/2018-04-18-08-29-25-test/test/2018-04-24-15-33-21-median-median-first-test/centers/all-centers.csv\"\n",
    "# center_path = folder + N2_folder + \"centers/all-centers.csv\"\n",
    "\n",
    "center_set = {}\n",
    "\n",
    "# actual plotting \n",
    "for idx in range(0, len(dataset)):\n",
    "    # feedback\n",
    "    # print(\"Processing:\", dataset[idx]) \n",
    "    \n",
    "    if(not os.path.exists(dataset[idx])):\n",
    "        # print(\"doesn't exist\")\n",
    "        continue\n",
    "        \n",
    "    # create the canvas\n",
    "    fig = plt.figure(figsize=(8,5))\n",
    "    title = create_title(dataset[idx])\n",
    "\n",
    "    fig.suptitle(title, fontsize=14, fontweight='bold')\n",
    "    \n",
    "    # feedback\n",
    "    # print(\"Processing:\", dataset[idx]) \n",
    "    \n",
    "    # load the data and scale it accordingly\n",
    "    I = load_data(dataset[idx])\n",
    "        \n",
    "    # TODO: threshold the data \n",
    "    # TODO: smoothen the data\n",
    "    # I_res = running_average_strides(I)\n",
    "    \n",
    "    # bins = np.arange(min(I), max(I) + binwidth, (max(I) + binwidth - min(I)) / 100)\n",
    "    I_res = I\n",
    "    binned_values, real_bins = np.histogram(I, bins)\n",
    "    use_median = np.median(I_res)\n",
    "    \n",
    "    # (h_mu, h_sigma) = norm.fit(I_res)\n",
    "    fit_alpha, fit_loc, fit_beta = gamma.fit(I_res, loc=use_median/2, scale=1/np.max(binned_values))\n",
    "    \n",
    "    factor = np.sum(binned_values*np.diff(real_bins))\n",
    "             \n",
    "    # create one of the subplot images\n",
    "    bins=np.arange(min(I), max(I) + binwidth, binwidth)\n",
    "    # bins = np.arange(xmin, xmax, binwidth)\n",
    "    plt.hist(I, bins=bins, color=colors, label=labels, normed=False) # this is the \n",
    "    \n",
    "    # plt.plot(real_bins[:-1], binned_values)\n",
    "    \n",
    "    x = np.linspace(xmin, xmax, 1103)\n",
    "    y = gamma.pdf(x, fit_alpha, fit_loc, fit_beta)*factor\n",
    "    plt.plot(x,y)\n",
    "    # binned_values \n",
    "    # real_bins\n",
    "    yhat = gamma.pdf(real_bins, fit_alpha, fit_loc, fit_beta)*factor\n",
    "    \n",
    "    if (np.any(np.isnan(yhat))):\n",
    "        continue\n",
    "    \n",
    "    error = fitter_meter(binned_values, yhat[:-1])\n",
    "    \n",
    "    # print(\"yhat :\", yhat)\n",
    "    # print(\"yreal:\", binned_values)\n",
    "    print(\"error: L1, L2\", error)\n",
    "    print(\"peak center:\", real_bins[np.argmax(yhat)])\n",
    "          \n",
    "    # reasonable adjustments to make the data look nicer\n",
    "    plt.xlabel('Intensity')\n",
    "    plt.ylabel('# spots')\n",
    "    plt.text(max(I) - 10*binwidth, 0.1, \"Total: \" + str(I.shape[0]), color='black', bbox=dict(facecolor='white', alpha=1))\n",
    "    \n",
    "    xmin = min(I)\n",
    "    xmax = max(I) + binwidth\n",
    "    \n",
    "    plt.xlim([xmin, xmax])\n",
    "    plt.legend(loc = 'upper right')\n",
    "\n",
    "    # save the peak values for further \n",
    "    center_set[title] = real_bins[np.argmax(yhat)]  \n",
    "#     if not os.path.exists(folder_path + \"histograms/\" + image):\n",
    "#         os.makedirs(folder_path + \"histograms/\" + image)\n",
    "    plt.savefig(folder + N2_folder + \"histograms/\" + title + \".png\") \n",
    "    plt.show()\n",
    "    # break\n",
    "# print (center_set)\n",
    "# df_center = pd.DataFrame(list(center_set.items()), columns=['filename', 'center'])\n",
    "# if (os.path.exists(center_path)):\n",
    "#     df_center.to_csv(center_path, index=False, header=False, encoding='utf-8', mode = 'a')\n",
    "# else:\n",
    "#     df_center.to_csv(center_path, index=False, header=True, encoding='utf-8', mode = 'w' )\n",
    "# # print (df_center)"
   ]
  },
  {
   "cell_type": "markdown",
   "metadata": {},
   "source": [
    "### ?plt.hist"
   ]
  },
  {
   "cell_type": "code",
   "execution_count": null,
   "metadata": {
    "collapsed": false
   },
   "outputs": [],
   "source": [
    "# general setup for pretty images \n",
    "full_folder = folder + N2_folder\n",
    "print (full_folder)\n",
    "\n",
    "dataset1 = []\n",
    "for path in glob.iglob(full_folder + \"C1/*\"):\n",
    "    dataset1.append(path)\n",
    "dataset2 = []\n",
    "for path in glob.iglob(full_folder + \"C2/*\"):\n",
    "    dataset2.append(path)\n",
    "dataset3 = []\n",
    "for path in glob.iglob(full_folder + \"C3/*\"):\n",
    "    dataset2.append(path)\n",
    "    \n",
    "# print(dataset)"
   ]
  }
 ],
 "metadata": {
  "kernelspec": {
   "display_name": "Python 3",
   "language": "python",
   "name": "python3"
  },
  "language_info": {
   "codemirror_mode": {
    "name": "ipython",
    "version": 3
   },
   "file_extension": ".py",
   "mimetype": "text/x-python",
   "name": "python",
   "nbconvert_exporter": "python",
   "pygments_lexer": "ipython3",
   "version": "3.6.0"
  }
 },
 "nbformat": 4,
 "nbformat_minor": 2
}
