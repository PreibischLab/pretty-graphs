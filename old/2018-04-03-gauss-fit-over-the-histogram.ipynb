{
 "cells": [
  {
   "cell_type": "code",
   "execution_count": 5,
   "metadata": {
    "collapsed": true
   },
   "outputs": [],
   "source": [
    "# what are the steps taht we perform here\n",
    "\n",
    "# [x] grab the data \n",
    "# [] run multiple gauss fits over the date with multiple initialization points \n",
    "# [] check what is the result for each run and which one gives the least error\n",
    "# [] take only 70% of the points \n",
    "# [] write the result to the csv\n",
    "\n",
    "# [] final consolidated table -> made per channel per type of gene"
   ]
  },
  {
   "cell_type": "code",
   "execution_count": 33,
   "metadata": {
    "collapsed": false
   },
   "outputs": [],
   "source": [
    "# want to see the images inline\n",
    "%matplotlib inline\n",
    "\n",
    "# imports\n",
    "# general \n",
    "import os\n",
    "import glob\n",
    "from functools import reduce\n",
    "import re\n",
    "import csv as csv\n",
    "# scientific \n",
    "import matplotlib.pyplot as plt\n",
    "import numpy as np\n",
    "from sklearn import linear_model, datasets\n",
    "from scipy.stats import norm, gamma\n",
    "from scipy.optimize import curve_fit\n",
    "from scipy import special\n",
    "\n",
    "import pandas as pd\n",
    "\n",
    "from sklearn.metrics import mean_squared_error, mean_absolute_error"
   ]
  },
  {
   "cell_type": "code",
   "execution_count": null,
   "metadata": {
    "collapsed": true
   },
   "outputs": [],
   "source": []
  },
  {
   "cell_type": "code",
   "execution_count": 34,
   "metadata": {
    "collapsed": true
   },
   "outputs": [],
   "source": [
    "# simple exp function\n",
    "def f_x(x, A, b, x_0):\n",
    "    return A*np.exp(-b*(x - x_0)*(x - x_0))"
   ]
  },
  {
   "cell_type": "code",
   "execution_count": 35,
   "metadata": {
    "collapsed": false
   },
   "outputs": [],
   "source": [
    "# simple gamma function\n",
    "def g_x(x, a, c):\n",
    "    return x**(a - 1)*np.exp(-x)/special.gamma(a) + c"
   ]
  },
  {
   "cell_type": "code",
   "execution_count": 36,
   "metadata": {
    "collapsed": true
   },
   "outputs": [],
   "source": [
    "# function for loading one data-set\n",
    "def load_data(file_path):\n",
    "    data = np.loadtxt(file_path, delimiter = '\\t', skiprows=1)\n",
    "    # print(data.shape) \n",
    "    # handles some weird cases, e.g. when there is no data in the file\n",
    "    if (len(data.shape) < 2):\n",
    "        data = data[None, :]\n",
    "    if (data.shape[1] == 0):\n",
    "        I = np.array([0])\n",
    "    else:\n",
    "        I = data[:, -1]\n",
    "    return I"
   ]
  },
  {
   "cell_type": "code",
   "execution_count": 37,
   "metadata": {
    "collapsed": true
   },
   "outputs": [],
   "source": [
    "# some folder magic\n",
    "folder = '/Users/kkolyva/Desktop/n2/'\n",
    "N2_folder = 'N2-results-2/'\n",
    "SEA12_folder = 'SEA-12-results/'"
   ]
  },
  {
   "cell_type": "code",
   "execution_count": 38,
   "metadata": {
    "collapsed": true
   },
   "outputs": [],
   "source": [
    "# some folder magic \n",
    "folder = '/Users/kkolyva/Desktop/resample/2018-04-03-results-radial-symmetry/'\n",
    "N2_folder = 'N2-results/'\n",
    "SEA12_folder = 'SEA-12-results/'"
   ]
  },
  {
   "cell_type": "code",
   "execution_count": 39,
   "metadata": {
    "collapsed": true
   },
   "outputs": [],
   "source": [
    "# some const params for all graphs\n",
    "binwidth = 0.01\n",
    "# graph [xmin, xmax]\n",
    "xmin = 0\n",
    "xmax = 2.4"
   ]
  },
  {
   "cell_type": "code",
   "execution_count": 40,
   "metadata": {
    "collapsed": false
   },
   "outputs": [
    {
     "name": "stdout",
     "output_type": "stream",
     "text": [
      "[ 0.08  0.09  0.1   0.11  0.12  0.13  0.14  0.15  0.16  0.17  0.18  0.19\n",
      "  0.2   0.21  0.22  0.23  0.24  0.25  0.26  0.27  0.28  0.29  0.3   0.31\n",
      "  0.32  0.33  0.34  0.35  0.36  0.37  0.38  0.39  0.4   0.41  0.42  0.43\n",
      "  0.44  0.45  0.46  0.47  0.48  0.49  0.5   0.51  0.52  0.53  0.54  0.55\n",
      "  0.56  0.57  0.58  0.59  0.6   0.61  0.62  0.63  0.64  0.65  0.66  0.67\n",
      "  0.68  0.69  0.7   0.71  0.72  0.73  0.74  0.75  0.76  0.77  0.78  0.79\n",
      "  0.8   0.81  0.82  0.83  0.84  0.85  0.86  0.87  0.88  0.89  0.9   0.91\n",
      "  0.92  0.93  0.94  0.95  0.96  0.97  0.98  0.99  1.    1.01  1.02  1.03\n",
      "  1.04  1.05  1.06  1.07  1.08  1.09  1.1   1.11  1.12  1.13  1.14  1.15\n",
      "  1.16  1.17  1.18  1.19  1.2   1.21  1.22  1.23  1.24  1.25  1.26  1.27\n",
      "  1.28  1.29  1.3   1.31  1.32  1.33  1.34  1.35  1.36  1.37  1.38  1.39\n",
      "  1.4   1.41  1.42  1.43  1.44  1.45  1.46  1.47  1.48  1.49  1.5   1.51\n",
      "  1.52  1.53  1.54  1.55  1.56  1.57  1.58  1.59  1.6   1.61  1.62  1.63\n",
      "  1.64  1.65  1.66  1.67  1.68  1.69  1.7   1.71  1.72  1.73  1.74  1.75\n",
      "  1.76  1.77  1.78  1.79  1.8   1.81  1.82  1.83  1.84  1.85  1.86  1.87\n",
      "  1.88  1.89  1.9   1.91  1.92  1.93  1.94  1.95  1.96  1.97  1.98  1.99\n",
      "  2.    2.01  2.02  2.03  2.04  2.05  2.06  2.07  2.08  2.09  2.1   2.11\n",
      "  2.12  2.13  2.14  2.15  2.16  2.17  2.18  2.19  2.2   2.21  2.22  2.23\n",
      "  2.24  2.25  2.26  2.27  2.28  2.29  2.3   2.31  2.32  2.33  2.34  2.35\n",
      "  2.36  2.37  2.38  2.39  2.4   2.41  2.42  2.43  2.44  2.45  2.46  2.47\n",
      "  2.48  2.49  2.5   2.51  2.52  2.53  2.54  2.55  2.56  2.57  2.58  2.59\n",
      "  2.6   2.61  2.62  2.63  2.64  2.65  2.66  2.67  2.68  2.69  2.7   2.71\n",
      "  2.72  2.73  2.74  2.75  2.76  2.77  2.78  2.79  2.8   2.81  2.82  2.83\n",
      "  2.84  2.85  2.86  2.87  2.88  2.89  2.9   2.91]\n"
     ]
    },
    {
     "data": {
      "text/plain": [
       "(array([ 0.085,  0.095,  0.105,  0.115,  0.125,  0.135,  0.145,  0.155,\n",
       "         0.165,  0.175,  0.185,  0.195,  0.205,  0.215,  0.225,  0.235,\n",
       "         0.245,  0.255,  0.265,  0.275,  0.285,  0.295,  0.305,  0.315,\n",
       "         0.325,  0.335,  0.345,  0.355,  0.365,  0.375,  0.385,  0.395,\n",
       "         0.405,  0.415,  0.425,  0.435,  0.445,  0.455,  0.465,  0.475,\n",
       "         0.485,  0.495,  0.505,  0.515,  0.525,  0.535,  0.545,  0.555,\n",
       "         0.565,  0.575,  0.585,  0.595,  0.605,  0.615,  0.625,  0.635,\n",
       "         0.645,  0.655,  0.665,  0.675,  0.685,  0.695,  0.705,  0.715,\n",
       "         0.725,  0.735,  0.745,  0.755,  0.765,  0.775,  0.785,  0.795,\n",
       "         0.805,  0.815,  0.825,  0.835,  0.845,  0.855,  0.865,  0.875,\n",
       "         0.885,  0.895,  0.905,  0.915,  0.925,  0.935,  0.945,  0.955,\n",
       "         0.965,  0.975,  0.985,  0.995,  1.005,  1.015,  1.025,  1.035,\n",
       "         1.045,  1.055,  1.065,  1.075,  1.085,  1.095,  1.105,  1.115,\n",
       "         1.125,  1.135,  1.145,  1.155,  1.165,  1.175,  1.185,  1.195,\n",
       "         1.205,  1.215,  1.225,  1.235,  1.245,  1.255,  1.265,  1.275,\n",
       "         1.285,  1.295,  1.305,  1.315,  1.325,  1.335,  1.345,  1.355,\n",
       "         1.365,  1.375,  1.385,  1.395,  1.405,  1.415,  1.425,  1.435,\n",
       "         1.445,  1.455,  1.465,  1.475,  1.485,  1.495,  1.505,  1.515,\n",
       "         1.525,  1.535,  1.545,  1.555,  1.565,  1.575,  1.585,  1.595,\n",
       "         1.605,  1.615,  1.625,  1.635,  1.645,  1.655,  1.665,  1.675,\n",
       "         1.685,  1.695,  1.705,  1.715,  1.725,  1.735,  1.745,  1.755,\n",
       "         1.765,  1.775,  1.785,  1.795,  1.805,  1.815,  1.825,  1.835,\n",
       "         1.845,  1.855,  1.865,  1.875,  1.885,  1.895,  1.905,  1.915,\n",
       "         1.925,  1.935,  1.945,  1.955,  1.965,  1.975,  1.985,  1.995,\n",
       "         2.005,  2.015,  2.025,  2.035,  2.045,  2.055,  2.065,  2.075,\n",
       "         2.085,  2.095,  2.105,  2.115,  2.125,  2.135,  2.145,  2.155,\n",
       "         2.165,  2.175,  2.185,  2.195,  2.205,  2.215,  2.225,  2.235,\n",
       "         2.245,  2.255,  2.265,  2.275,  2.285,  2.295,  2.305,  2.315,\n",
       "         2.325,  2.335,  2.345,  2.355,  2.365,  2.375,  2.385,  2.395,\n",
       "         2.405,  2.415,  2.425,  2.435,  2.445,  2.455,  2.465,  2.475,\n",
       "         2.485,  2.495,  2.505,  2.515,  2.525,  2.535,  2.545,  2.555,\n",
       "         2.565,  2.575,  2.585,  2.595,  2.605,  2.615,  2.625,  2.635,\n",
       "         2.645,  2.655,  2.665,  2.675,  2.685,  2.695,  2.705,  2.715,\n",
       "         2.725,  2.735,  2.745,  2.755,  2.765,  2.775,  2.785,  2.795,\n",
       "         2.805,  2.815,  2.825,  2.835,  2.845,  2.855,  2.865,  2.875,\n",
       "         2.885,  2.895,  2.905]),\n",
       " array([ 1,  0,  0,  0,  0,  0,  0,  1,  0,  0,  0,  0,  0,  0,  0,  1,  1,\n",
       "         1,  0,  0,  1,  0,  2,  0,  1,  1,  3,  1,  3,  1,  3,  0,  0,  1,\n",
       "         1,  1,  2,  6,  5,  3,  2,  1,  6,  3,  6,  4,  5,  5,  7,  6,  5,\n",
       "         4, 12, 12,  6, 11, 18,  8, 12, 15,  9, 14, 18, 16, 16, 19, 11, 16,\n",
       "        18, 14, 18, 19, 26, 21, 29, 26, 25, 32, 18, 22, 29, 42, 35, 34, 20,\n",
       "        37, 27, 26, 31, 35, 35, 30, 31, 26, 48, 34, 35, 33, 23, 24, 41, 38,\n",
       "        39, 35, 35, 37, 26, 28, 33, 17, 22, 29, 23, 30, 29, 27, 13, 22, 16,\n",
       "        25, 23, 22, 22, 20, 15, 24, 18, 10, 17, 18, 13, 13, 10, 17, 14,  9,\n",
       "        15, 16,  7, 14,  6, 14, 10,  7, 10,  5, 10, 12, 10,  6,  4,  6,  2,\n",
       "         7,  7,  4,  3, 10,  3,  1,  2,  2,  2,  4,  3,  2,  2,  3,  2,  0,\n",
       "         5,  2,  2,  2,  5,  3,  3,  2,  1,  2,  2,  1,  3,  2,  0,  1,  0,\n",
       "         1,  1,  0,  3,  1,  1,  1,  1,  0,  0,  0,  0,  1,  0,  2,  1,  0,\n",
       "         0,  0,  1,  1,  1,  0,  3,  1,  0,  0,  0,  0,  0,  1,  0,  0,  0,\n",
       "         0,  1,  0,  1,  1,  0,  0,  0,  0,  2,  2,  0,  0,  0,  0,  1,  1,\n",
       "         0,  0,  0,  0,  0,  0,  0,  0,  1,  0,  0,  0,  0,  0,  1,  1,  0,\n",
       "         0,  0,  0,  0,  0,  0,  0,  0,  0,  0,  0,  0,  0,  0,  0,  0,  0,\n",
       "         0,  0,  0,  0,  0,  0,  0,  0,  0,  0,  0]))"
      ]
     },
     "execution_count": 40,
     "metadata": {},
     "output_type": "execute_result"
    }
   ],
   "source": [
    "bins = np.arange(min(I), max(I) + binwidth, binwidth)\n",
    "print(bins)\n",
    "\n",
    "binned_values, real_bins = np.histogram(I, bins)\n",
    "\n",
    "real_bins = real_bins[:-1] + (real_bins[1] - real_bins[0])/2  \n",
    "real_bins, binned_values"
   ]
  },
  {
   "cell_type": "code",
   "execution_count": 41,
   "metadata": {
    "collapsed": false,
    "scrolled": false
   },
   "outputs": [
    {
     "name": "stdout",
     "output_type": "stream",
     "text": [
      "bins:  (284,) [ 0.08  0.09  0.1   0.11  0.12  0.13  0.14  0.15  0.16  0.17  0.18  0.19\n",
      "  0.2   0.21  0.22  0.23  0.24  0.25  0.26  0.27  0.28  0.29  0.3   0.31\n",
      "  0.32  0.33  0.34  0.35  0.36  0.37  0.38  0.39  0.4   0.41  0.42  0.43\n",
      "  0.44  0.45  0.46  0.47  0.48  0.49  0.5   0.51  0.52  0.53  0.54  0.55\n",
      "  0.56  0.57  0.58  0.59  0.6   0.61  0.62  0.63  0.64  0.65  0.66  0.67\n",
      "  0.68  0.69  0.7   0.71  0.72  0.73  0.74  0.75  0.76  0.77  0.78  0.79\n",
      "  0.8   0.81  0.82  0.83  0.84  0.85  0.86  0.87  0.88  0.89  0.9   0.91\n",
      "  0.92  0.93  0.94  0.95  0.96  0.97  0.98  0.99  1.    1.01  1.02  1.03\n",
      "  1.04  1.05  1.06  1.07  1.08  1.09  1.1   1.11  1.12  1.13  1.14  1.15\n",
      "  1.16  1.17  1.18  1.19  1.2   1.21  1.22  1.23  1.24  1.25  1.26  1.27\n",
      "  1.28  1.29  1.3   1.31  1.32  1.33  1.34  1.35  1.36  1.37  1.38  1.39\n",
      "  1.4   1.41  1.42  1.43  1.44  1.45  1.46  1.47  1.48  1.49  1.5   1.51\n",
      "  1.52  1.53  1.54  1.55  1.56  1.57  1.58  1.59  1.6   1.61  1.62  1.63\n",
      "  1.64  1.65  1.66  1.67  1.68  1.69  1.7   1.71  1.72  1.73  1.74  1.75\n",
      "  1.76  1.77  1.78  1.79  1.8   1.81  1.82  1.83  1.84  1.85  1.86  1.87\n",
      "  1.88  1.89  1.9   1.91  1.92  1.93  1.94  1.95  1.96  1.97  1.98  1.99\n",
      "  2.    2.01  2.02  2.03  2.04  2.05  2.06  2.07  2.08  2.09  2.1   2.11\n",
      "  2.12  2.13  2.14  2.15  2.16  2.17  2.18  2.19  2.2   2.21  2.22  2.23\n",
      "  2.24  2.25  2.26  2.27  2.28  2.29  2.3   2.31  2.32  2.33  2.34  2.35\n",
      "  2.36  2.37  2.38  2.39  2.4   2.41  2.42  2.43  2.44  2.45  2.46  2.47\n",
      "  2.48  2.49  2.5   2.51  2.52  2.53  2.54  2.55  2.56  2.57  2.58  2.59\n",
      "  2.6   2.61  2.62  2.63  2.64  2.65  2.66  2.67  2.68  2.69  2.7   2.71\n",
      "  2.72  2.73  2.74  2.75  2.76  2.77  2.78  2.79  2.8   2.81  2.82  2.83\n",
      "  2.84  2.85  2.86  2.87  2.88  2.89  2.9   2.91]\n"
     ]
    },
    {
     "ename": "NameError",
     "evalue": "name 'x1' is not defined",
     "output_type": "error",
     "traceback": [
      "\u001b[0;31m---------------------------------------------------------------------------\u001b[0m",
      "\u001b[0;31mNameError\u001b[0m                                 Traceback (most recent call last)",
      "\u001b[0;32m<ipython-input-41-a53a7987190d>\u001b[0m in \u001b[0;36m<module>\u001b[0;34m()\u001b[0m\n\u001b[1;32m      1\u001b[0m \u001b[0;31m# investigate the data a little bit\u001b[0m\u001b[0;34m\u001b[0m\u001b[0;34m\u001b[0m\u001b[0m\n\u001b[1;32m      2\u001b[0m \u001b[0mprint\u001b[0m \u001b[0;34m(\u001b[0m\u001b[0;34m'bins: '\u001b[0m\u001b[0;34m,\u001b[0m \u001b[0mbins\u001b[0m\u001b[0;34m.\u001b[0m\u001b[0mshape\u001b[0m\u001b[0;34m,\u001b[0m \u001b[0mbins\u001b[0m\u001b[0;34m)\u001b[0m\u001b[0;34m\u001b[0m\u001b[0m\n\u001b[0;32m----> 3\u001b[0;31m \u001b[0mprint\u001b[0m\u001b[0;34m(\u001b[0m\u001b[0mx1\u001b[0m\u001b[0;34m)\u001b[0m \u001b[0;31m# < (centers of the bins)\u001b[0m\u001b[0;34m\u001b[0m\u001b[0m\n\u001b[0m\u001b[1;32m      4\u001b[0m \u001b[0mprint\u001b[0m\u001b[0;34m(\u001b[0m\u001b[0my1\u001b[0m\u001b[0;34m)\u001b[0m\u001b[0;34m\u001b[0m\u001b[0m\n\u001b[1;32m      5\u001b[0m \u001b[0;31m# print ('I:', I.shape, I)\u001b[0m\u001b[0;34m\u001b[0m\u001b[0;34m\u001b[0m\u001b[0m\n",
      "\u001b[0;31mNameError\u001b[0m: name 'x1' is not defined"
     ]
    }
   ],
   "source": [
    "# investigate the data a little bit\n",
    "print ('bins: ', bins.shape, bins)\n",
    "print(x1) # < (centers of the bins)\n",
    "print(y1)\n",
    "# print ('I:', I.shape, I)\n"
   ]
  },
  {
   "cell_type": "code",
   "execution_count": 42,
   "metadata": {
    "collapsed": false
   },
   "outputs": [
    {
     "ename": "NameError",
     "evalue": "name 'x1' is not defined",
     "output_type": "error",
     "traceback": [
      "\u001b[0;31m---------------------------------------------------------------------------\u001b[0m",
      "\u001b[0;31mNameError\u001b[0m                                 Traceback (most recent call last)",
      "\u001b[0;32m<ipython-input-42-7029457d562e>\u001b[0m in \u001b[0;36m<module>\u001b[0;34m()\u001b[0m\n\u001b[1;32m      2\u001b[0m \u001b[0;31m# print(bins)\u001b[0m\u001b[0;34m\u001b[0m\u001b[0;34m\u001b[0m\u001b[0m\n\u001b[1;32m      3\u001b[0m \u001b[0;34m\u001b[0m\u001b[0m\n\u001b[0;32m----> 4\u001b[0;31m \u001b[0mx\u001b[0m \u001b[0;34m=\u001b[0m \u001b[0mx1\u001b[0m\u001b[0;34m\u001b[0m\u001b[0m\n\u001b[0m\u001b[1;32m      5\u001b[0m \u001b[0my\u001b[0m \u001b[0;34m=\u001b[0m \u001b[0my1\u001b[0m\u001b[0;34m\u001b[0m\u001b[0m\n\u001b[1;32m      6\u001b[0m \u001b[0;34m\u001b[0m\u001b[0m\n",
      "\u001b[0;31mNameError\u001b[0m: name 'x1' is not defined"
     ]
    }
   ],
   "source": [
    "bins = np.arange(min(I), max(I) + binwidth, binwidth)\n",
    "# print(bins)\n",
    "\n",
    "x = x1 \n",
    "y = y1\n",
    "\n",
    "print ('x:', x)\n",
    "print ('y:', y)\n",
    "\n",
    "popt, pcov = curve_fit(f_x, x, y, p0=[40, 2, 0.2])\n",
    "print(popt)\n",
    "\n",
    "# plt.bar(x, y, width=0.005, color='pink');\n",
    "# plt.plot(x,y, color='red')\n",
    "\n",
    "xx = np.linspace(0, 20, 2000)\n",
    "\n",
    "plt.plot(xx, f_x(xx, *popt))\n",
    "# plt.plot()\n",
    "\n",
    "plt.show()\n",
    "# f_x(x, *popt);"
   ]
  },
  {
   "cell_type": "code",
   "execution_count": 43,
   "metadata": {
    "collapsed": false,
    "scrolled": false
   },
   "outputs": [
    {
     "ename": "FileNotFoundError",
     "evalue": "[Errno 2] No such file or directory: '/Users/kkolyva/Desktop/2018-04-18-08-29-25-test/test/2018-05-02-13-33-11-median-median-first-test/csv-2/C1-N2_96.csv'",
     "output_type": "error",
     "traceback": [
      "\u001b[0;31m---------------------------------------------------------------------------\u001b[0m",
      "\u001b[0;31mFileNotFoundError\u001b[0m                         Traceback (most recent call last)",
      "\u001b[0;32m<ipython-input-43-2cc6e220f135>\u001b[0m in \u001b[0;36m<module>\u001b[0;34m()\u001b[0m\n\u001b[1;32m      5\u001b[0m \u001b[0;34m\u001b[0m\u001b[0m\n\u001b[1;32m      6\u001b[0m \u001b[0;34m\u001b[0m\u001b[0m\n\u001b[0;32m----> 7\u001b[0;31m \u001b[0mI\u001b[0m \u001b[0;34m=\u001b[0m \u001b[0mload_data\u001b[0m\u001b[0;34m(\u001b[0m\u001b[0mfilepath\u001b[0m\u001b[0;34m)\u001b[0m\u001b[0;34m\u001b[0m\u001b[0m\n\u001b[0m\u001b[1;32m      8\u001b[0m \u001b[0;34m\u001b[0m\u001b[0m\n\u001b[1;32m      9\u001b[0m \u001b[0mfig\u001b[0m \u001b[0;34m=\u001b[0m \u001b[0mplt\u001b[0m\u001b[0;34m.\u001b[0m\u001b[0mfigure\u001b[0m\u001b[0;34m(\u001b[0m\u001b[0mfigsize\u001b[0m\u001b[0;34m=\u001b[0m\u001b[0;34m(\u001b[0m\u001b[0;36m8\u001b[0m\u001b[0;34m,\u001b[0m\u001b[0;36m5\u001b[0m\u001b[0;34m)\u001b[0m\u001b[0;34m)\u001b[0m\u001b[0;34m\u001b[0m\u001b[0m\n",
      "\u001b[0;32m<ipython-input-36-152e9e3ca6cb>\u001b[0m in \u001b[0;36mload_data\u001b[0;34m(file_path)\u001b[0m\n\u001b[1;32m      1\u001b[0m \u001b[0;31m# function for loading one data-set\u001b[0m\u001b[0;34m\u001b[0m\u001b[0;34m\u001b[0m\u001b[0m\n\u001b[1;32m      2\u001b[0m \u001b[0;32mdef\u001b[0m \u001b[0mload_data\u001b[0m\u001b[0;34m(\u001b[0m\u001b[0mfile_path\u001b[0m\u001b[0;34m)\u001b[0m\u001b[0;34m:\u001b[0m\u001b[0;34m\u001b[0m\u001b[0m\n\u001b[0;32m----> 3\u001b[0;31m     \u001b[0mdata\u001b[0m \u001b[0;34m=\u001b[0m \u001b[0mnp\u001b[0m\u001b[0;34m.\u001b[0m\u001b[0mloadtxt\u001b[0m\u001b[0;34m(\u001b[0m\u001b[0mfile_path\u001b[0m\u001b[0;34m,\u001b[0m \u001b[0mdelimiter\u001b[0m \u001b[0;34m=\u001b[0m \u001b[0;34m'\\t'\u001b[0m\u001b[0;34m,\u001b[0m \u001b[0mskiprows\u001b[0m\u001b[0;34m=\u001b[0m\u001b[0;36m1\u001b[0m\u001b[0;34m)\u001b[0m\u001b[0;34m\u001b[0m\u001b[0m\n\u001b[0m\u001b[1;32m      4\u001b[0m     \u001b[0;31m# print(data.shape)\u001b[0m\u001b[0;34m\u001b[0m\u001b[0;34m\u001b[0m\u001b[0m\n\u001b[1;32m      5\u001b[0m     \u001b[0;31m# handles some weird cases, e.g. when there is no data in the file\u001b[0m\u001b[0;34m\u001b[0m\u001b[0;34m\u001b[0m\u001b[0m\n",
      "\u001b[0;32m/Users/kkolyva/anaconda3/lib/python3.6/site-packages/numpy/lib/npyio.py\u001b[0m in \u001b[0;36mloadtxt\u001b[0;34m(fname, dtype, comments, delimiter, converters, skiprows, usecols, unpack, ndmin)\u001b[0m\n\u001b[1;32m    803\u001b[0m                 \u001b[0mfh\u001b[0m \u001b[0;34m=\u001b[0m \u001b[0miter\u001b[0m\u001b[0;34m(\u001b[0m\u001b[0mopen\u001b[0m\u001b[0;34m(\u001b[0m\u001b[0mfname\u001b[0m\u001b[0;34m,\u001b[0m \u001b[0;34m'U'\u001b[0m\u001b[0;34m)\u001b[0m\u001b[0;34m)\u001b[0m\u001b[0;34m\u001b[0m\u001b[0m\n\u001b[1;32m    804\u001b[0m             \u001b[0;32melse\u001b[0m\u001b[0;34m:\u001b[0m\u001b[0;34m\u001b[0m\u001b[0m\n\u001b[0;32m--> 805\u001b[0;31m                 \u001b[0mfh\u001b[0m \u001b[0;34m=\u001b[0m \u001b[0miter\u001b[0m\u001b[0;34m(\u001b[0m\u001b[0mopen\u001b[0m\u001b[0;34m(\u001b[0m\u001b[0mfname\u001b[0m\u001b[0;34m)\u001b[0m\u001b[0;34m)\u001b[0m\u001b[0;34m\u001b[0m\u001b[0m\n\u001b[0m\u001b[1;32m    806\u001b[0m         \u001b[0;32melse\u001b[0m\u001b[0;34m:\u001b[0m\u001b[0;34m\u001b[0m\u001b[0m\n\u001b[1;32m    807\u001b[0m             \u001b[0mfh\u001b[0m \u001b[0;34m=\u001b[0m \u001b[0miter\u001b[0m\u001b[0;34m(\u001b[0m\u001b[0mfname\u001b[0m\u001b[0;34m)\u001b[0m\u001b[0;34m\u001b[0m\u001b[0m\n",
      "\u001b[0;31mFileNotFoundError\u001b[0m: [Errno 2] No such file or directory: '/Users/kkolyva/Desktop/2018-04-18-08-29-25-test/test/2018-05-02-13-33-11-median-median-first-test/csv-2/C1-N2_96.csv'"
     ]
    }
   ],
   "source": [
    "# for testing \n",
    "# filepath = folder + N2_folder + 'all/C1-N2_16.csv'\n",
    "filepath = '/Users/kkolyva/Desktop/2018-04-18-08-29-25-test/test/2018-05-02-13-33-11-median-median-first-test/csv-2/C1-N2_96.csv'\n",
    "# filepath = \"/Users/kkolyva/Desktop/2018-04-18-08-29-25-test/test/2018-04-24-15-33-21-median-median-first-test/csv-2/C2-N2_237.csv\"\n",
    "\n",
    "\n",
    "I = load_data(filepath)\n",
    "\n",
    "fig = plt.figure(figsize=(8,5))\n",
    "title = \"Testing the Gauss fit\"\n",
    "fig.suptitle(title, fontsize=14, fontweight='bold')\n",
    "    \n",
    "plt.xlabel('Intensity', fontsize=18)\n",
    "plt.ylabel('# spots', fontsize=16)\n",
    "\n",
    "print(\"I_min:\", min(I), \"I_max:\", max(I))\n",
    "\n",
    "bins = np.arange(min(I), max(I) + binwidth, binwidth)\n",
    "# bins = np.arange(xmin, xmax, binwidth)\n",
    "\n",
    "print(bins)\n",
    "\n",
    "I_res = I\n",
    "# (h_mu, h_sigma) = norm.fit(I_res)\n",
    "fit_alpha, fit_loc, fit_beta = gamma.fit(I_res)\n",
    "print(fit_alpha, fit_loc, fit_beta)\n",
    "\n",
    "plt.hist(I, bins=bins, color='pink', normed=True); # \n",
    "plt.text(0.9, 0.1, \"Total: \" + str(I.shape[0]), color='black', bbox=dict(facecolor='white', alpha=1))\n",
    "\n",
    "x = np.linspace(xmin, xmax, 1103)\n",
    "# y = norm.pdf(x, h_mu, h_sigma)\n",
    "y = gamma.pdf(x, fit_alpha, fit_loc, fit_beta)\n",
    "plt.plot(x,y)\n",
    "\n",
    "plt.xlim([xmin, xmax])\n",
    "\n",
    "plt.legend(loc = 'upper right')"
   ]
  },
  {
   "cell_type": "code",
   "execution_count": 44,
   "metadata": {
    "collapsed": true
   },
   "outputs": [],
   "source": [
    "# possible labels \n",
    "stain = ['DPY-23_EX', 'WDR-5.2', 'MDH-1']\n",
    "stage = 'E' # only embryos\n",
    "comment = '' # only empty ones"
   ]
  },
  {
   "cell_type": "code",
   "execution_count": 45,
   "metadata": {
    "collapsed": true
   },
   "outputs": [],
   "source": [
    "# important indices\n",
    "stain_columns = ['C0_stain', 'C1_stain', 'C2_stain', 'C3_stain', 'C4_stain']\n",
    "type_columns = ['C0_type', 'C1_type', 'C2_type', 'C3_type', 'C4_type']\n",
    "stain_prefix = np.array([['C1-', 'C2-', 'C3-', 'C4-', 'C5-']])\n",
    "ext = '.csv'\n",
    "filename_column = 'new filename'"
   ]
  },
  {
   "cell_type": "code",
   "execution_count": 46,
   "metadata": {
    "collapsed": false
   },
   "outputs": [
    {
     "data": {
      "text/html": [
       "<div>\n",
       "<table border=\"1\" class=\"dataframe\">\n",
       "  <thead>\n",
       "    <tr style=\"text-align: right;\">\n",
       "      <th></th>\n",
       "      <th>Line</th>\n",
       "      <th>ID</th>\n",
       "      <th>C0_lambda</th>\n",
       "      <th>C0_stain</th>\n",
       "      <th>C0_type</th>\n",
       "      <th>C1_lambda</th>\n",
       "      <th>C1_stain</th>\n",
       "      <th>C1_type</th>\n",
       "      <th>C2_lambda</th>\n",
       "      <th>C2_stain</th>\n",
       "      <th>...</th>\n",
       "      <th>C4_lambda</th>\n",
       "      <th>C4_stain</th>\n",
       "      <th>C4_type</th>\n",
       "      <th>signal</th>\n",
       "      <th>Integrity</th>\n",
       "      <th>stage</th>\n",
       "      <th>comment</th>\n",
       "      <th>date</th>\n",
       "      <th>original filename</th>\n",
       "      <th>new filename</th>\n",
       "    </tr>\n",
       "  </thead>\n",
       "  <tbody>\n",
       "    <tr>\n",
       "      <th>0</th>\n",
       "      <td>N2</td>\n",
       "      <td>1</td>\n",
       "      <td>670.0</td>\n",
       "      <td>FISH</td>\n",
       "      <td>DPY-23_EX</td>\n",
       "      <td>488.0</td>\n",
       "      <td>AF</td>\n",
       "      <td>NaN</td>\n",
       "      <td>405.0</td>\n",
       "      <td>NUCLEAR</td>\n",
       "      <td>...</td>\n",
       "      <td>NaN</td>\n",
       "      <td>NaN</td>\n",
       "      <td>NaN</td>\n",
       "      <td>3.0</td>\n",
       "      <td>0.0</td>\n",
       "      <td>L1</td>\n",
       "      <td>not complete</td>\n",
       "      <td>11/17/16</td>\n",
       "      <td>2016-11-17_N2-DPY-23-001.nd2</td>\n",
       "      <td>N2_1</td>\n",
       "    </tr>\n",
       "    <tr>\n",
       "      <th>1</th>\n",
       "      <td>N2</td>\n",
       "      <td>2</td>\n",
       "      <td>670.0</td>\n",
       "      <td>FISH</td>\n",
       "      <td>DPY-23_EX</td>\n",
       "      <td>488.0</td>\n",
       "      <td>AF</td>\n",
       "      <td>NaN</td>\n",
       "      <td>405.0</td>\n",
       "      <td>NUCLEAR</td>\n",
       "      <td>...</td>\n",
       "      <td>NaN</td>\n",
       "      <td>NaN</td>\n",
       "      <td>NaN</td>\n",
       "      <td>4.0</td>\n",
       "      <td>1.0</td>\n",
       "      <td>L1</td>\n",
       "      <td>dirt</td>\n",
       "      <td>11/17/16</td>\n",
       "      <td>2016-11-17_N2-DPY-23-002.nd2</td>\n",
       "      <td>N2_2</td>\n",
       "    </tr>\n",
       "    <tr>\n",
       "      <th>2</th>\n",
       "      <td>N2</td>\n",
       "      <td>3</td>\n",
       "      <td>670.0</td>\n",
       "      <td>FISH</td>\n",
       "      <td>DPY-23_EX</td>\n",
       "      <td>488.0</td>\n",
       "      <td>AF</td>\n",
       "      <td>NaN</td>\n",
       "      <td>405.0</td>\n",
       "      <td>NUCLEAR</td>\n",
       "      <td>...</td>\n",
       "      <td>NaN</td>\n",
       "      <td>NaN</td>\n",
       "      <td>NaN</td>\n",
       "      <td>2.0</td>\n",
       "      <td>0.0</td>\n",
       "      <td>L1</td>\n",
       "      <td>dirt, not complete</td>\n",
       "      <td>11/17/16</td>\n",
       "      <td>2016-11-17_N2-DPY-23-003.nd2</td>\n",
       "      <td>N2_3</td>\n",
       "    </tr>\n",
       "    <tr>\n",
       "      <th>3</th>\n",
       "      <td>N2</td>\n",
       "      <td>4</td>\n",
       "      <td>670.0</td>\n",
       "      <td>FISH</td>\n",
       "      <td>DPY-23_EX</td>\n",
       "      <td>488.0</td>\n",
       "      <td>AF</td>\n",
       "      <td>NaN</td>\n",
       "      <td>405.0</td>\n",
       "      <td>NUCLEAR</td>\n",
       "      <td>...</td>\n",
       "      <td>NaN</td>\n",
       "      <td>NaN</td>\n",
       "      <td>NaN</td>\n",
       "      <td>4.0</td>\n",
       "      <td>1.0</td>\n",
       "      <td>L1</td>\n",
       "      <td>NaN</td>\n",
       "      <td>11/17/16</td>\n",
       "      <td>2016-11-17_N2-DPY-23-004.nd2</td>\n",
       "      <td>N2_4</td>\n",
       "    </tr>\n",
       "    <tr>\n",
       "      <th>4</th>\n",
       "      <td>N2</td>\n",
       "      <td>5</td>\n",
       "      <td>670.0</td>\n",
       "      <td>FISH</td>\n",
       "      <td>DPY-23_EX</td>\n",
       "      <td>488.0</td>\n",
       "      <td>AF</td>\n",
       "      <td>NaN</td>\n",
       "      <td>405.0</td>\n",
       "      <td>NUCLEAR</td>\n",
       "      <td>...</td>\n",
       "      <td>NaN</td>\n",
       "      <td>NaN</td>\n",
       "      <td>NaN</td>\n",
       "      <td>3.0</td>\n",
       "      <td>0.0</td>\n",
       "      <td>L1</td>\n",
       "      <td>not complete</td>\n",
       "      <td>11/17/16</td>\n",
       "      <td>2016-11-17_N2-DPY-23-005.nd2</td>\n",
       "      <td>N2_5</td>\n",
       "    </tr>\n",
       "  </tbody>\n",
       "</table>\n",
       "<p>5 rows × 24 columns</p>\n",
       "</div>"
      ],
      "text/plain": [
       "  Line  ID  C0_lambda C0_stain    C0_type  C1_lambda C1_stain C1_type  \\\n",
       "0   N2   1      670.0     FISH  DPY-23_EX      488.0       AF     NaN   \n",
       "1   N2   2      670.0     FISH  DPY-23_EX      488.0       AF     NaN   \n",
       "2   N2   3      670.0     FISH  DPY-23_EX      488.0       AF     NaN   \n",
       "3   N2   4      670.0     FISH  DPY-23_EX      488.0       AF     NaN   \n",
       "4   N2   5      670.0     FISH  DPY-23_EX      488.0       AF     NaN   \n",
       "\n",
       "   C2_lambda C2_stain     ...      C4_lambda  C4_stain C4_type signal  \\\n",
       "0      405.0  NUCLEAR     ...            NaN       NaN     NaN    3.0   \n",
       "1      405.0  NUCLEAR     ...            NaN       NaN     NaN    4.0   \n",
       "2      405.0  NUCLEAR     ...            NaN       NaN     NaN    2.0   \n",
       "3      405.0  NUCLEAR     ...            NaN       NaN     NaN    4.0   \n",
       "4      405.0  NUCLEAR     ...            NaN       NaN     NaN    3.0   \n",
       "\n",
       "   Integrity stage             comment      date  \\\n",
       "0        0.0    L1        not complete  11/17/16   \n",
       "1        1.0    L1                dirt  11/17/16   \n",
       "2        0.0    L1  dirt, not complete  11/17/16   \n",
       "3        1.0    L1                 NaN  11/17/16   \n",
       "4        0.0    L1        not complete  11/17/16   \n",
       "\n",
       "              original filename new filename  \n",
       "0  2016-11-17_N2-DPY-23-001.nd2         N2_1  \n",
       "1  2016-11-17_N2-DPY-23-002.nd2         N2_2  \n",
       "2  2016-11-17_N2-DPY-23-003.nd2         N2_3  \n",
       "3  2016-11-17_N2-DPY-23-004.nd2         N2_4  \n",
       "4  2016-11-17_N2-DPY-23-005.nd2         N2_5  \n",
       "\n",
       "[5 rows x 24 columns]"
      ]
     },
     "execution_count": 46,
     "metadata": {},
     "output_type": "execute_result"
    }
   ],
   "source": [
    "# read the db and parse images that we want to process\n",
    "df = pd.read_csv(folder + \"smFISH-database/N2-Table 1.csv\", sep=',', na_values=['']);\n",
    "df.head()"
   ]
  },
  {
   "cell_type": "code",
   "execution_count": 47,
   "metadata": {
    "collapsed": false,
    "scrolled": false
   },
   "outputs": [
    {
     "name": "stdout",
     "output_type": "stream",
     "text": [
      "108\n"
     ]
    }
   ],
   "source": [
    "# this is general\n",
    "# filter to have only *good* and *embryo* files\n",
    "good_indices = np.logical_and((df['stage'] == stage).tolist() , (df['comment'].isnull()).tolist())\n",
    "good_indices.shape[0]\n",
    "\n",
    "\n",
    "print(np.sum(good_indices == True))"
   ]
  },
  {
   "cell_type": "code",
   "execution_count": 48,
   "metadata": {
    "collapsed": false
   },
   "outputs": [],
   "source": [
    "# choose necessary stains\n",
    "dataset1 = []\n",
    "df_good = (df[type_columns].astype(np.object) == stain[0]).loc[good_indices, :]\n",
    "row, col = np.where(df_good)\n",
    "n_samples = df.shape[0]\n",
    "new_prefix = np.repeat(stain_prefix, n_samples, axis=0)[row, col]\n",
    "new_filename = df[filename_column].loc[good_indices].as_matrix()[row]\n",
    "dataset1 = [\"{}{}\".format(a_, b_) for a_, b_ in zip(new_prefix, new_filename)]"
   ]
  },
  {
   "cell_type": "code",
   "execution_count": 49,
   "metadata": {
    "collapsed": false,
    "scrolled": true
   },
   "outputs": [],
   "source": [
    "# choose necessary stains\n",
    "dataset2 = []\n",
    "df_good = (df[type_columns].astype(np.object) == stain[1]).loc[good_indices, :]\n",
    "row, col = np.where(df_good)\n",
    "n_samples = df.shape[0]\n",
    "new_prefix = np.repeat(stain_prefix, n_samples, axis=0)[row, col]\n",
    "new_filename = df[filename_column].loc[good_indices].as_matrix()[row]\n",
    "dataset2 = [\"{}{}\".format(a_, b_) for a_, b_ in zip(new_prefix, new_filename)]"
   ]
  },
  {
   "cell_type": "code",
   "execution_count": 50,
   "metadata": {
    "collapsed": false
   },
   "outputs": [],
   "source": [
    "# choose necessary stains\n",
    "dataset3 = []\n",
    "df_good = (df[type_columns].astype(np.object) == stain[2]).loc[good_indices, :]\n",
    "row, col = np.where(df_good)\n",
    "n_samples = df.shape[0]\n",
    "new_prefix = np.repeat(stain_prefix, n_samples, axis=0)[row, col]\n",
    "new_filename = df[filename_column].loc[good_indices].as_matrix()[row]\n",
    "dataset3 = [\"{}{}\".format(a_, b_) for a_, b_ in zip(new_prefix, new_filename)]"
   ]
  },
  {
   "cell_type": "code",
   "execution_count": 51,
   "metadata": {
    "collapsed": false
   },
   "outputs": [
    {
     "name": "stdout",
     "output_type": "stream",
     "text": [
      "225\n"
     ]
    }
   ],
   "source": [
    "print(len(dataset1) + len(dataset2) + len(dataset3))"
   ]
  },
  {
   "cell_type": "code",
   "execution_count": 52,
   "metadata": {
    "collapsed": true
   },
   "outputs": [],
   "source": [
    "def create_title(path):\n",
    "    # get the name of the initial image\n",
    "    image_name = path.split(\"/\")[8] # was 8\n",
    "    # create the full title \n",
    "    title = image_name[:-4]\n",
    "    return title"
   ]
  },
  {
   "cell_type": "code",
   "execution_count": 71,
   "metadata": {
    "collapsed": true
   },
   "outputs": [],
   "source": [
    "# some presets for the graphs\n",
    "labels = ['MDH-1'] # ['DPY-23_EX', 'WDR-5.2', 'MDH-1']\n",
    "colors = [\"#0000ee\"] # yellow"
   ]
  },
  {
   "cell_type": "code",
   "execution_count": 72,
   "metadata": {
    "collapsed": false,
    "scrolled": true
   },
   "outputs": [
    {
     "name": "stdout",
     "output_type": "stream",
     "text": [
      "/Users/kkolyva/Desktop/2018-04-18-08-29-25-test/test/2018-04-24-15-33-21-median-median-first-test/csv-2/C2-N2_159.csv\n",
      "/Users/kkolyva/Desktop/2018-04-18-08-29-25-test/test/2018-04-24-15-33-21-median-median-first-test/csv-2/C2-N2_167.csv\n",
      "/Users/kkolyva/Desktop/2018-04-18-08-29-25-test/test/2018-04-24-15-33-21-median-median-first-test/csv-2/C2-N2_173.csv\n",
      "/Users/kkolyva/Desktop/2018-04-18-08-29-25-test/test/2018-04-24-15-33-21-median-median-first-test/csv-2/C2-N2_174.csv\n",
      "/Users/kkolyva/Desktop/2018-04-18-08-29-25-test/test/2018-04-24-15-33-21-median-median-first-test/csv-2/C2-N2_176.csv\n",
      "/Users/kkolyva/Desktop/2018-04-18-08-29-25-test/test/2018-04-24-15-33-21-median-median-first-test/csv-2/C2-N2_182.csv\n",
      "/Users/kkolyva/Desktop/2018-04-18-08-29-25-test/test/2018-04-24-15-33-21-median-median-first-test/csv-2/C2-N2_183.csv\n",
      "/Users/kkolyva/Desktop/2018-04-18-08-29-25-test/test/2018-04-24-15-33-21-median-median-first-test/csv-2/C2-N2_184.csv\n",
      "/Users/kkolyva/Desktop/2018-04-18-08-29-25-test/test/2018-04-24-15-33-21-median-median-first-test/csv-2/C2-N2_189.csv\n",
      "/Users/kkolyva/Desktop/2018-04-18-08-29-25-test/test/2018-04-24-15-33-21-median-median-first-test/csv-2/C2-N2_191.csv\n",
      "/Users/kkolyva/Desktop/2018-04-18-08-29-25-test/test/2018-04-24-15-33-21-median-median-first-test/csv-2/C2-N2_199.csv\n",
      "/Users/kkolyva/Desktop/2018-04-18-08-29-25-test/test/2018-04-24-15-33-21-median-median-first-test/csv-2/C2-N2_201.csv\n",
      "/Users/kkolyva/Desktop/2018-04-18-08-29-25-test/test/2018-04-24-15-33-21-median-median-first-test/csv-2/C2-N2_203.csv\n",
      "/Users/kkolyva/Desktop/2018-04-18-08-29-25-test/test/2018-04-24-15-33-21-median-median-first-test/csv-2/C2-N2_204.csv\n",
      "/Users/kkolyva/Desktop/2018-04-18-08-29-25-test/test/2018-04-24-15-33-21-median-median-first-test/csv-2/C2-N2_205.csv\n",
      "/Users/kkolyva/Desktop/2018-04-18-08-29-25-test/test/2018-04-24-15-33-21-median-median-first-test/csv-2/C2-N2_206.csv\n",
      "/Users/kkolyva/Desktop/2018-04-18-08-29-25-test/test/2018-04-24-15-33-21-median-median-first-test/csv-2/C2-N2_219.csv\n",
      "/Users/kkolyva/Desktop/2018-04-18-08-29-25-test/test/2018-04-24-15-33-21-median-median-first-test/csv-2/C2-N2_220.csv\n",
      "/Users/kkolyva/Desktop/2018-04-18-08-29-25-test/test/2018-04-24-15-33-21-median-median-first-test/csv-2/C2-N2_222.csv\n",
      "/Users/kkolyva/Desktop/2018-04-18-08-29-25-test/test/2018-04-24-15-33-21-median-median-first-test/csv-2/C2-N2_223.csv\n",
      "/Users/kkolyva/Desktop/2018-04-18-08-29-25-test/test/2018-04-24-15-33-21-median-median-first-test/csv-2/C2-N2_224.csv\n",
      "/Users/kkolyva/Desktop/2018-04-18-08-29-25-test/test/2018-04-24-15-33-21-median-median-first-test/csv-2/C2-N2_225.csv\n",
      "/Users/kkolyva/Desktop/2018-04-18-08-29-25-test/test/2018-04-24-15-33-21-median-median-first-test/csv-2/C2-N2_226.csv\n",
      "/Users/kkolyva/Desktop/2018-04-18-08-29-25-test/test/2018-04-24-15-33-21-median-median-first-test/csv-2/C2-N2_227.csv\n",
      "/Users/kkolyva/Desktop/2018-04-18-08-29-25-test/test/2018-04-24-15-33-21-median-median-first-test/csv-2/C2-N2_228.csv\n",
      "/Users/kkolyva/Desktop/2018-04-18-08-29-25-test/test/2018-04-24-15-33-21-median-median-first-test/csv-2/C2-N2_229.csv\n",
      "/Users/kkolyva/Desktop/2018-04-18-08-29-25-test/test/2018-04-24-15-33-21-median-median-first-test/csv-2/C2-N2_230.csv\n",
      "/Users/kkolyva/Desktop/2018-04-18-08-29-25-test/test/2018-04-24-15-33-21-median-median-first-test/csv-2/C2-N2_237.csv\n",
      "/Users/kkolyva/Desktop/2018-04-18-08-29-25-test/test/2018-04-24-15-33-21-median-median-first-test/csv-2/C2-N2_239.csv\n",
      "/Users/kkolyva/Desktop/2018-04-18-08-29-25-test/test/2018-04-24-15-33-21-median-median-first-test/csv-2/C2-N2_249.csv\n",
      "/Users/kkolyva/Desktop/2018-04-18-08-29-25-test/test/2018-04-24-15-33-21-median-median-first-test/csv-2/C2-N2_253.csv\n",
      "/Users/kkolyva/Desktop/2018-04-18-08-29-25-test/test/2018-04-24-15-33-21-median-median-first-test/csv-2/C2-N2_261.csv\n",
      "/Users/kkolyva/Desktop/2018-04-18-08-29-25-test/test/2018-04-24-15-33-21-median-median-first-test/csv-2/C2-N2_262.csv\n",
      "/Users/kkolyva/Desktop/2018-04-18-08-29-25-test/test/2018-04-24-15-33-21-median-median-first-test/csv-2/C2-N2_269.csv\n",
      "/Users/kkolyva/Desktop/2018-04-18-08-29-25-test/test/2018-04-24-15-33-21-median-median-first-test/csv-2/C2-N2_270.csv\n",
      "/Users/kkolyva/Desktop/2018-04-18-08-29-25-test/test/2018-04-24-15-33-21-median-median-first-test/csv-2/C2-N2_271.csv\n",
      "/Users/kkolyva/Desktop/2018-04-18-08-29-25-test/test/2018-04-24-15-33-21-median-median-first-test/csv-2/C2-N2_277.csv\n",
      "/Users/kkolyva/Desktop/2018-04-18-08-29-25-test/test/2018-04-24-15-33-21-median-median-first-test/csv-2/C2-N2_278.csv\n"
     ]
    }
   ],
   "source": [
    "# have to perform this step multiple times and choose the best one \n",
    "# perform n_fits with different initial parameters\n",
    "# n_fits = 10\n",
    "\n",
    "# actual plotting \n",
    "dataset = []\n",
    "\n",
    "for j in range(0, len(dataset3)):\n",
    "    tmp_folder = \"/Users/kkolyva/Desktop/2018-04-18-08-29-25-test/test/2018-04-24-15-33-21-median-median-first-test/csv-2/\"\n",
    "    tmp = tmp_folder + dataset3[j] + \".csv\"\n",
    "    # tmp = folder + N2_folder + \"all/\" + dataset1[j] + \".csv\"\n",
    "    dataset.append(tmp)\n",
    "    print(tmp)"
   ]
  },
  {
   "cell_type": "code",
   "execution_count": 73,
   "metadata": {
    "collapsed": true
   },
   "outputs": [],
   "source": [
    "# how good is fitter-meter?\n",
    "def fitter_meter(y, y_hat):\n",
    "    return [mean_absolute_error(y,y_hat), np.sqrt(mean_squared_error(y,y_hat))]"
   ]
  },
  {
   "cell_type": "code",
   "execution_count": 74,
   "metadata": {
    "collapsed": false,
    "scrolled": false
   },
   "outputs": [
    {
     "name": "stdout",
     "output_type": "stream",
     "text": [
      "error: L1, L2 [2.8813471208828019, 5.0435365899033187]\n",
      "peak center: 0.95\n"
     ]
    },
    {
     "data": {
      "image/png": "[encoded data removed]",
      "text/plain": [
       "<matplotlib.figure.Figure at 0x115089c18>"
      ]
     },
     "metadata": {},
     "output_type": "display_data"
    },
    {
     "name": "stdout",
     "output_type": "stream",
     "text": [
      "error: L1, L2 [1.1726790640541456, 2.5669205629966525]\n",
      "peak center: 0.97\n"
     ]
    },
    {
     "data": {
      "image/png": "[encoded data removed]",
      "text/plain": [
       "<matplotlib.figure.Figure at 0x11604c2e8>"
      ]
     },
     "metadata": {},
     "output_type": "display_data"
    },
    {
     "name": "stdout",
     "output_type": "stream",
     "text": [
      "error: L1, L2 [2.1770010860494602, 3.9336098855705668]\n",
      "peak center: 0.97\n"
     ]
    },
    {
     "data": {
      "image/png": "[encoded data removed]",
      "text/plain": [
       "<matplotlib.figure.Figure at 0x11670c2e8>"
      ]
     },
     "metadata": {},
     "output_type": "display_data"
    },
    {
     "name": "stdout",
     "output_type": "stream",
     "text": [
      "error: L1, L2 [0.72686940263031119, 1.5292335262420491]\n",
      "peak center: 1.16\n"
     ]
    },
    {
     "data": {
      "image/png": "[encoded data removed]",
      "text/plain": [
       "<matplotlib.figure.Figure at 0x116973518>"
      ]
     },
     "metadata": {},
     "output_type": "display_data"
    }
   ],
   "source": [
    "# have to perform this step multiple times and choose the best one \n",
    "# perform n_fits with different initial parameters\n",
    "# n_fits = 10\n",
    "\n",
    "center_path = \"/Users/kkolyva/Desktop/2018-04-18-08-29-25-test/test/2018-04-24-15-33-21-median-median-first-test/centers/all-centers.csv\"\n",
    "# center_path = folder + N2_folder + \"centers/all-centers.csv\"\n",
    "\n",
    "center_set = {}\n",
    "\n",
    "# actual plotting \n",
    "for idx in range(0, len(dataset)):\n",
    "    # feedback\n",
    "    # print(\"Processing:\", dataset[idx]) \n",
    "    \n",
    "    if(not os.path.exists(dataset[idx])):\n",
    "        # print(\"doesn't exist\")\n",
    "        continue\n",
    "        \n",
    "    # create the canvas\n",
    "    fig = plt.figure(figsize=(8,5))\n",
    "    title = create_title(dataset[idx])\n",
    "\n",
    "    fig.suptitle(title, fontsize=14, fontweight='bold')\n",
    "    \n",
    "    # feedback\n",
    "    # print(\"Processing:\", dataset[idx]) \n",
    "    \n",
    "    # load the data and scale it accordingly\n",
    "    I = load_data(dataset[idx])\n",
    "        \n",
    "    # TODO: threshold the data \n",
    "    # TODO: smoothen the data\n",
    "    # I_res = running_average_strides(I)\n",
    "    \n",
    "    # bins = np.arange(min(I), max(I) + binwidth, (max(I) + binwidth - min(I)) / 100)\n",
    "    \n",
    "    I_res = I\n",
    "    binned_values, real_bins = np.histogram(I, bins)\n",
    "    use_median = np.median(I_res)\n",
    "    \n",
    "    # (h_mu, h_sigma) = norm.fit(I_res)\n",
    "    fit_alpha, fit_loc, fit_beta = gamma.fit(I_res, loc=use_median/2, scale=1/np.max(binned_values))\n",
    "    \n",
    "    factor = np.sum(binned_values*np.diff(real_bins))\n",
    "             \n",
    "    # create one of the subplot images\n",
    "    bins=np.arange(min(I), max(I) + binwidth, binwidth)\n",
    "    # bins = np.arange(xmin, xmax, binwidth)\n",
    "    plt.hist(I, bins=bins, color=colors, label=labels, normed=False) # this is the \n",
    "    \n",
    "    # plt.plot(real_bins[:-1], binned_values)\n",
    "    \n",
    "    x = np.linspace(xmin, xmax, 1103)\n",
    "    y = gamma.pdf(x, fit_alpha, fit_loc, fit_beta)*factor\n",
    "    plt.plot(x,y)\n",
    "    # binned_values \n",
    "    # real_bins\n",
    "    yhat = gamma.pdf(real_bins, fit_alpha, fit_loc, fit_beta)*factor\n",
    "    \n",
    "    if (np.any(np.isnan(yhat))):\n",
    "        continue\n",
    "    \n",
    "    error = fitter_meter(binned_values, yhat[:-1])\n",
    "    \n",
    "    # print(\"yhat :\", yhat)\n",
    "    # print(\"yreal:\", binned_values)\n",
    "    print(\"error: L1, L2\", error)\n",
    "    print(\"peak center:\", real_bins[np.argmax(yhat)])\n",
    "          \n",
    "    # reasonable adjustments to make the data look nicer\n",
    "    plt.xlabel('Intensity')\n",
    "    plt.ylabel('# spots')\n",
    "    plt.text(0.9, 0.1, \"Total: \" + str(I.shape[0]), color='black', bbox=dict(facecolor='white', alpha=1))\n",
    "    \n",
    "    xmin = min(I)\n",
    "    xmax = max(I) + binwidth\n",
    "    \n",
    "    plt.xlim([xmin, xmax])\n",
    "    plt.legend(loc = 'upper right')\n",
    "\n",
    "    # save the peak values for further \n",
    "    center_set[title] = real_bins[np.argmax(yhat)]  \n",
    "#     if not os.path.exists(folder_path + \"histograms/\" + image):\n",
    "#         os.makedirs(folder_path + \"histograms/\" + image)\n",
    "    plt.savefig(folder + N2_folder + \"histograms/\" + title + \".png\") \n",
    "    plt.show()\n",
    "    # break\n",
    "# print (center_set)\n",
    "# df_center = pd.DataFrame(list(center_set.items()), columns=['filename', 'center'])\n",
    "# if (os.path.exists(center_path)):\n",
    "#     df_center.to_csv(center_path, index=False, header=False, encoding='utf-8', mode = 'a')\n",
    "# else:\n",
    "#     df_center.to_csv(center_path, index=False, header=True, encoding='utf-8', mode = 'w' )\n",
    "# print (df_center)"
   ]
  },
  {
   "cell_type": "markdown",
   "metadata": {},
   "source": [
    "### ?plt.hist"
   ]
  },
  {
   "cell_type": "code",
   "execution_count": null,
   "metadata": {
    "collapsed": false
   },
   "outputs": [],
   "source": [
    "# general setup for pretty images \n",
    "full_folder = folder + N2_folder\n",
    "print (full_folder)\n",
    "\n",
    "dataset1 = []\n",
    "for path in glob.iglob(full_folder + \"C1/*\"):\n",
    "    dataset1.append(path)\n",
    "dataset2 = []\n",
    "for path in glob.iglob(full_folder + \"C2/*\"):\n",
    "    dataset2.append(path)\n",
    "dataset3 = []\n",
    "for path in glob.iglob(full_folder + \"C3/*\"):\n",
    "    dataset2.append(path)\n",
    "    \n",
    "# print(dataset)"
   ]
  },
  {
   "cell_type": "code",
   "execution_count": null,
   "metadata": {
    "collapsed": true
   },
   "outputs": [],
   "source": []
  },
  {
   "cell_type": "code",
   "execution_count": null,
   "metadata": {
    "collapsed": true
   },
   "outputs": [],
   "source": []
  }
 ],
 "metadata": {
  "kernelspec": {
   "display_name": "Python 3",
   "language": "python",
   "name": "python3"
  },
  "language_info": {
   "codemirror_mode": {
    "name": "ipython",
    "version": 3
   },
   "file_extension": ".py",
   "mimetype": "text/x-python",
   "name": "python",
   "nbconvert_exporter": "python",
   "pygments_lexer": "ipython3",
   "version": "3.6.0"
  }
 },
 "nbformat": 4,
 "nbformat_minor": 2
}
