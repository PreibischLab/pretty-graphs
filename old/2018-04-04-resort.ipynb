{
 "cells": [
  {
   "cell_type": "code",
   "execution_count": 1,
   "metadata": {
    "collapsed": true
   },
   "outputs": [],
   "source": [
    "# create the files for each experiment with the content: \n",
    "# image - # of detected spots"
   ]
  },
  {
   "cell_type": "code",
   "execution_count": 2,
   "metadata": {
    "collapsed": true
   },
   "outputs": [],
   "source": [
    "# imports\n",
    "# general \n",
    "import os\n",
    "import glob\n",
    "from functools import reduce\n",
    "import re\n",
    "import csv as csv\n",
    "# scientific \n",
    "import matplotlib.pyplot as plt\n",
    "import numpy as np\n",
    "from sklearn import linear_model, datasets\n",
    "from scipy.stats import norm\n",
    "from scipy.optimize import curve_fit\n",
    "import pandas as pd"
   ]
  },
  {
   "cell_type": "code",
   "execution_count": 3,
   "metadata": {
    "collapsed": true
   },
   "outputs": [],
   "source": [
    "# want to see the images inline\n",
    "%matplotlib inline"
   ]
  },
  {
   "cell_type": "code",
   "execution_count": 35,
   "metadata": {
    "collapsed": true
   },
   "outputs": [],
   "source": [
    "# some folder magic \n",
    "folder = '/Users/kkolyva/Desktop/resample/2018-04-03-results-radial-symmetry/'\n",
    "N2_folder = 'N2-results/'\n",
    "SEA12_folder = 'SEA-12-results/'"
   ]
  },
  {
   "cell_type": "code",
   "execution_count": 36,
   "metadata": {
    "collapsed": false
   },
   "outputs": [],
   "source": [
    "# read the database first]\n",
    "db_path = folder + \"smFISH-database/N2-Table 1.csv\"\n",
    "df = pd.read_csv(db_path, sep=',', na_values=['']);\n",
    "# df.head()"
   ]
  },
  {
   "cell_type": "code",
   "execution_count": 37,
   "metadata": {
    "collapsed": true
   },
   "outputs": [],
   "source": [
    "# possible labels \n",
    "stain = ['DPY-23_EX', 'WDR-5.2', 'MDH-1']\n",
    "stage = 'E' # only embryos\n",
    "comment = '' # only empty ones == NaN"
   ]
  },
  {
   "cell_type": "code",
   "execution_count": 38,
   "metadata": {
    "collapsed": true
   },
   "outputs": [],
   "source": [
    "# important indices\n",
    "stain_columns = ['C0_stain', 'C1_stain', 'C2_stain', 'C3_stain', 'C4_stain']\n",
    "type_columns = ['C0_type', 'C1_type', 'C2_type', 'C3_type', 'C4_type']\n",
    "stain_prefix = np.array([['C1-', 'C2-', 'C3-', 'C4-', 'C5-']])\n",
    "ext = '.csv'\n",
    "filename_column = 'new filename'"
   ]
  },
  {
   "cell_type": "code",
   "execution_count": 39,
   "metadata": {
    "collapsed": false
   },
   "outputs": [
    {
     "data": {
      "text/plain": [
       "311"
      ]
     },
     "execution_count": 39,
     "metadata": {},
     "output_type": "execute_result"
    }
   ],
   "source": [
    "# this is general\n",
    "# filter to have only *good* and *embryo* files\n",
    "good_indices = np.logical_and((df['stage'] == stage).tolist() , (df['comment'].isnull()).tolist())\n",
    "good_indices.shape[0]"
   ]
  },
  {
   "cell_type": "code",
   "execution_count": 40,
   "metadata": {
    "collapsed": false
   },
   "outputs": [],
   "source": [
    "# choose necessary stains\n",
    "dataset1 = []\n",
    "df_good = (df[type_columns].astype(np.object) == stain[0]).loc[good_indices, :]\n",
    "row, col = np.where(df_good)\n",
    "n_samples = df.shape[0]\n",
    "new_prefix = np.repeat(stain_prefix, n_samples, axis=0)[row, col]\n",
    "new_filename = df[filename_column].loc[good_indices].as_matrix() # [row]\n",
    "dataset1 = [\"{}{}\".format(a_, b_) for a_, b_ in zip(new_prefix, new_filename)]"
   ]
  },
  {
   "cell_type": "code",
   "execution_count": 41,
   "metadata": {
    "collapsed": true
   },
   "outputs": [],
   "source": [
    "dataset2 = []\n",
    "df_good = (df[type_columns].astype(np.object) == stain[1]).loc[good_indices, :]\n",
    "row, col = np.where(df_good)\n",
    "n_samples = df.shape[0]\n",
    "new_prefix = np.repeat(stain_prefix, n_samples, axis=0)[row, col]\n",
    "new_filename = df[filename_column].loc[good_indices].as_matrix()[row]\n",
    "dataset2 = [\"{}{}\".format(a_, b_) for a_, b_ in zip(new_prefix, new_filename)]"
   ]
  },
  {
   "cell_type": "code",
   "execution_count": 42,
   "metadata": {
    "collapsed": true
   },
   "outputs": [],
   "source": [
    "# choose necessary stains\n",
    "dataset3 = []\n",
    "df_good = (df[type_columns].astype(np.object) == stain[2]).loc[good_indices, :]\n",
    "row, col = np.where(df_good)\n",
    "n_samples = df.shape[0]\n",
    "new_prefix = np.repeat(stain_prefix, n_samples, axis=0)[row, col]\n",
    "new_filename = df[filename_column].loc[good_indices].as_matrix()[row]\n",
    "dataset3 = [\"{}{}\".format(a_, b_) for a_, b_ in zip(new_prefix, new_filename)]"
   ]
  },
  {
   "cell_type": "code",
   "execution_count": 45,
   "metadata": {
    "collapsed": false,
    "scrolled": false
   },
   "outputs": [
    {
     "name": "stdout",
     "output_type": "stream",
     "text": [
      "(38, 3)\n"
     ]
    }
   ],
   "source": [
    "output = []\n",
    "for data in dataset3:\n",
    "    full_filepath = folder + N2_folder + \"all/\" + data + \".csv\"\n",
    "    # print(full_filepath)\n",
    "    db_tmp = pd.read_csv(full_filepath, sep='\\t', na_values=[''])\n",
    "    \n",
    "    output.append([data[3:],  data[:2],  db_tmp.shape[0]])\n",
    "print(np.array(output).shape)\n",
    "\n",
    "df_tmp = pd.DataFrame(np.array(output))\n",
    "full_save_filepath = folder + N2_folder + \"separately/N2-MDH-1.csv\"\n",
    "df_tmp.to_csv(full_save_filepath, header=[\"new filename\", \"channel\", \"total spots\"])"
   ]
  },
  {
   "cell_type": "code",
   "execution_count": 29,
   "metadata": {
    "collapsed": true
   },
   "outputs": [],
   "source": [
    "# stain = ['DPY-23_EX', 'WDR-5.2', 'MDH-1']"
   ]
  },
  {
   "cell_type": "code",
   "execution_count": null,
   "metadata": {
    "collapsed": true
   },
   "outputs": [],
   "source": []
  }
 ],
 "metadata": {
  "kernelspec": {
   "display_name": "Python 3",
   "language": "python",
   "name": "python3"
  },
  "language_info": {
   "codemirror_mode": {
    "name": "ipython",
    "version": 3
   },
   "file_extension": ".py",
   "mimetype": "text/x-python",
   "name": "python",
   "nbconvert_exporter": "python",
   "pygments_lexer": "ipython3",
   "version": "3.6.0"
  }
 },
 "nbformat": 4,
 "nbformat_minor": 2
}
