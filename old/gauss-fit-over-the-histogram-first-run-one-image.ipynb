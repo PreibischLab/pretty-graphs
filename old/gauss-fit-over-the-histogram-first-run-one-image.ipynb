{
 "cells": [
  {
   "cell_type": "code",
   "execution_count": 1,
   "metadata": {
    "collapsed": false
   },
   "outputs": [],
   "source": [
    "# want to see the images inline\n",
    "%matplotlib inline\n",
    "\n",
    "# general \n",
    "import os\n",
    "# scientific \n",
    "import numpy as np\n",
    "import matplotlib.pyplot as plt\n",
    "# from sklearn import linear_model, datasets\n",
    "from scipy.stats import norm, gamma\n",
    "from scipy.optimize import curve_fit\n",
    "from scipy import special\n",
    "\n",
    "import pandas as pd\n",
    "\n",
    "from sklearn.metrics import mean_squared_error, mean_absolute_error"
   ]
  },
  {
   "cell_type": "code",
   "execution_count": 2,
   "metadata": {
    "collapsed": true
   },
   "outputs": [],
   "source": [
    "# these are the parameters that should be passed to the script \n",
    "FOLDER = '/Volumes/MILKYKLIM4G/2019-02-19-11-02-35-rs-batch/processing/'\n",
    "IMAGENAME = 'C1-SEA-12_227'\n",
    "CSVPATH = FOLDER + \"csv/\" + IMAGENAME + '.csv'\n",
    "\n",
    "CENTERPATH = FOLDER  + \"centers/\" + \"all-centers.csv\" "
   ]
  },
  {
   "cell_type": "code",
   "execution_count": 3,
   "metadata": {
    "collapsed": false
   },
   "outputs": [
    {
     "name": "stdout",
     "output_type": "stream",
     "text": [
      "bins:  (100,)\n"
     ]
    }
   ],
   "source": [
    "# some const params for all graphs\n",
    "num_bins = 100 \n",
    "# graph [xmin, xmax]\n",
    "xmin = -0.2\n",
    "xmax = 1.2\n",
    "\n",
    "binwidth = (xmax - xmin)/(num_bins - 1)\n",
    "bins = np.arange(xmin, xmax + binwidth, binwidth)\n",
    "print ('bins: ', bins.shape)"
   ]
  },
  {
   "cell_type": "code",
   "execution_count": 4,
   "metadata": {
    "collapsed": true
   },
   "outputs": [],
   "source": [
    "# how good is fitter-meter?\n",
    "def fitter_meter(y, y_hat):\n",
    "    return [mean_absolute_error(y,y_hat), np.sqrt(mean_squared_error(y,y_hat))]"
   ]
  },
  {
   "cell_type": "code",
   "execution_count": 5,
   "metadata": {
    "collapsed": true
   },
   "outputs": [],
   "source": [
    "# function for loading one data-set\n",
    "def load_data(file_path, skiprows_=1):\n",
    "    data = np.loadtxt(file_path, delimiter = '\\t', skiprows=skiprows_)\n",
    "    # print(data.shape) \n",
    "    # handles some weird cases, e.g. when there is no data in the file\n",
    "    if (len(data.shape) < 2):\n",
    "        data = data[None, :]\n",
    "    if (data.shape[1] == 0):\n",
    "        I = np.array([0])\n",
    "    else:\n",
    "        I = data[:, -1]\n",
    "    return I"
   ]
  },
  {
   "cell_type": "code",
   "execution_count": 6,
   "metadata": {
    "collapsed": true
   },
   "outputs": [],
   "source": [
    "def create_title(path, name_id=-1):\n",
    "    # get the name of the initial image\n",
    "    image_name = path.split(\"/\")[name_id] \n",
    "    # print(path.split(\"/\"))\n",
    "    # create the full title \n",
    "    title = image_name[:-4] # drop .csv\n",
    "    return title"
   ]
  },
  {
   "cell_type": "code",
   "execution_count": 7,
   "metadata": {
    "collapsed": true
   },
   "outputs": [],
   "source": [
    "def get_info_text(total, peak, e1, e2):\n",
    "    return f'Total: {total}\\nPeak: {peak:.2f}\\nL1: {e1:.2f}\\nL2: {e2:.2f}'"
   ]
  },
  {
   "cell_type": "code",
   "execution_count": 8,
   "metadata": {
    "collapsed": false
   },
   "outputs": [],
   "source": [
    "# read the db and parse images that we want to process\n",
    "df = pd.read_csv(FOLDER + \"smFISH-database/SEA-12-Table 1.csv\", sep=',', na_values=[''])\n",
    "# df.head()"
   ]
  },
  {
   "cell_type": "code",
   "execution_count": 9,
   "metadata": {
    "collapsed": false
   },
   "outputs": [
    {
     "name": "stdout",
     "output_type": "stream",
     "text": [
      "C1_type 89\n",
      "MDH-1\n"
     ]
    }
   ],
   "source": [
    "column = IMAGENAME[:2] + \"_type\"\n",
    "row = df[ df['new filename'].values == IMAGENAME[3:]].index[0]\n",
    "\n",
    "label = df[column].iloc[row]\n",
    "\n",
    "print(column, row)\n",
    "print(label)"
   ]
  },
  {
   "cell_type": "code",
   "execution_count": 10,
   "metadata": {
    "collapsed": false
   },
   "outputs": [],
   "source": [
    "# ['DPY-23_EX', 'WDR-5.2', 'MDH-1']\n",
    "# set color parameter \n",
    "color = '#BA5536'\n",
    "if label == 'MDH-1':\n",
    "    color = \"#693D3D\" \n",
    "color_dist = '#66A5AD'"
   ]
  },
  {
   "cell_type": "code",
   "execution_count": 11,
   "metadata": {
    "collapsed": true
   },
   "outputs": [],
   "source": [
    "center_set = {}"
   ]
  },
  {
   "cell_type": "code",
   "execution_count": 12,
   "metadata": {
    "collapsed": false
   },
   "outputs": [
    {
     "name": "stdout",
     "output_type": "stream",
     "text": [
      "error: L1, L2 [11.414536666255827, 23.641059800824536]\n",
      "peak center: 0.29494949494949524\n"
     ]
    },
    {
     "data": {
      "image/png": "[encoded data removed]",
      "text/plain": [
       "<Figure size 576x360 with 1 Axes>"
      ]
     },
     "metadata": {},
     "output_type": "display_data"
    }
   ],
   "source": [
    "# check that csv with detections exist \n",
    "if(not os.path.exists(CSVPATH)):\n",
    "    print(\".csv doesn\\'t exist{CSVPATH}\")\n",
    "else:    \n",
    "    # load the data and scale it accordingly\n",
    "    I = load_data(CSVPATH, skiprows_=0)\n",
    "    # calculate the params for gauss fit\n",
    "    binned_values, real_bins = np.histogram(I, bins)\n",
    "    use_median = np.median(I)\n",
    "    fit_alpha, fit_loc, fit_beta = gamma.fit(I, loc=use_median/2, scale=1/np.max(binned_values))\n",
    "    # normalization factor\n",
    "    factor = np.sum(binned_values*np.diff(real_bins))\n",
    "\n",
    "    # create the canvas\n",
    "    fig = plt.figure(figsize=(8,5))\n",
    "    title = create_title(CSVPATH, name_id=-1) # -1 last word\n",
    "    fig.suptitle(title + \" / \" + label) \n",
    "    plt.hist(I, bins=bins, color=color, label=label, density=False)\n",
    "\n",
    "    x = np.linspace(xmin, xmax, 1000)\n",
    "    y = gamma.pdf(x, fit_alpha, fit_loc, fit_beta)*factor\n",
    "    plt.plot(x,y, linewidth=5, color=color_dist)\n",
    "    yhat = gamma.pdf(real_bins, fit_alpha, fit_loc, fit_beta)*factor\n",
    "\n",
    "    # vertical line for center\n",
    "    plt.axvline(x=real_bins[np.argmax(yhat)], linestyle=\"--\", linewidth=5, color=color_dist)\n",
    "\n",
    "    if (not np.any(np.isnan(yhat))):\n",
    "        error = fitter_meter(binned_values, yhat[:-1])\n",
    "\n",
    "        print(\"error: L1, L2\", error)\n",
    "        print(\"peak center:\", real_bins[np.argmax(yhat)])\n",
    "\n",
    "        # reasonable adjustments to make the data look nicer\n",
    "        info_text = get_info_text(I.shape[0], real_bins[np.argmax(yhat)], error[0], error[1])\n",
    "        \n",
    "        x_limits = [xmin, xmax]\n",
    "        ymax = np.max(np.histogram(I, bins)[0])\n",
    "        y_limits = [0, ymax]\n",
    " \n",
    "        plt.xlabel('intensity')\n",
    "        plt.ylabel('# spots')\n",
    "        plt.text(x_limits[1] - (x_limits[1] - x_limits[0])*0.15, y_limits[1]*0.8, info_text, color='black', bbox=dict(facecolor='white', alpha=1))\n",
    "        plt.xlim([xmin, xmax])\n",
    "\n",
    "        # save the peak values for further \n",
    "        center_set[title] = real_bins[np.argmax(yhat)]\n",
    "    \n",
    "        HISTOGRAMFOLDER = FOLDER + \"histograms/\" + label + \"/\"\n",
    "        HISTOGRAMFILE = HISTOGRAMFOLDER + IMAGENAME + \".pdf\"\n",
    "        if not os.path.exists(HISTOGRAMFOLDER):\n",
    "            os.makedirs(HISTOGRAMFOLDER)\n",
    "        plt.savefig(HISTOGRAMFILE) \n",
    "        plt.show()\n",
    "        \n",
    "df_center = pd.DataFrame(list(center_set.items()), columns=['filename', 'center'])\n",
    "if (os.path.exists(CENTERPATH)):\n",
    "    df_center.to_csv(CENTERPATH, index=False, header=False, encoding='utf-8', mode = 'a')\n",
    "else:\n",
    "    df_center.to_csv(CENTERPATH, index=False, header=True, encoding='utf-8', mode = 'w' )\n",
    "    print (df_center)"
   ]
  },
  {
   "cell_type": "markdown",
   "metadata": {},
   "source": [
    "### ?plt.hist"
   ]
  },
  {
   "cell_type": "code",
   "execution_count": null,
   "metadata": {
    "collapsed": true
   },
   "outputs": [],
   "source": []
  }
 ],
 "metadata": {
  "kernelspec": {
   "display_name": "Python (revolut)",
   "language": "python",
   "name": "revolut"
  },
  "language_info": {
   "codemirror_mode": {
    "name": "ipython",
    "version": 3
   },
   "file_extension": ".py",
   "mimetype": "text/x-python",
   "name": "python",
   "nbconvert_exporter": "python",
   "pygments_lexer": "ipython3",
   "version": "3.6.7"
  }
 },
 "nbformat": 4,
 "nbformat_minor": 2
}
