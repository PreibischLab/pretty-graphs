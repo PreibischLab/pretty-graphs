{
 "cells": [
  {
   "cell_type": "code",
   "execution_count": null,
   "metadata": {
    "collapsed": true
   },
   "outputs": [],
   "source": [
    "# a script for making pretty plots"
   ]
  },
  {
   "cell_type": "code",
   "execution_count": null,
   "metadata": {
    "collapsed": true
   },
   "outputs": [],
   "source": [
    "# imports\n",
    "import os\n",
    "import glob\n",
    "from functools import reduce\n",
    "import re\n",
    "\n",
    "import matplotlib.pyplot as plt\n",
    "import numpy as np\n",
    "import csv as csv\n",
    "\n",
    "from sklearn import linear_model, datasets\n",
    "\n",
    "%matplotlib inline"
   ]
  },
  {
   "cell_type": "code",
   "execution_count": null,
   "metadata": {
    "collapsed": false
   },
   "outputs": [],
   "source": [
    "# function for loading one data-set\n",
    "def load_data(file_path):\n",
    "    data = np.loadtxt(file_path, delimiter = ',', skiprows=1)\n",
    "    print(data.shape) \n",
    "    if (len(data.shape) < 2):\n",
    "        data = data[None, :]\n",
    "    if (data.shape[1] == 0):\n",
    "        I = np.array([0])\n",
    "    else:\n",
    "        I = data[:, -1]\n",
    "    return I"
   ]
  },
  {
   "cell_type": "code",
   "execution_count": null,
   "metadata": {
    "collapsed": false,
    "scrolled": true
   },
   "outputs": [],
   "source": [
    "# general setup for pretty images \n",
    "folder_path = os.getcwd() + '/data/processed/'\n",
    "image = 'MK4_DPY23-ex-int_mdh1_003'\n",
    "\n",
    "dataset = []\n",
    "for path1 in glob.iglob(folder_path + image + \"/c\" + str(0 + 1) + \"-result/*\"):\n",
    "    \n",
    "    repls = (\" - C=0-\", \" - C=2-\"), (\"c1-result\", \"c3-result\")\n",
    "    path2 = reduce(lambda a, kv: a.replace(*kv), repls, path1)\n",
    "    \n",
    "    repls = (\" - C=0-\", \" - C=1-\"), (\"c1-result\", \"c2-result\")\n",
    "    path3 = reduce(lambda a, kv: a.replace(*kv), repls, path1)\n",
    "\n",
    "    dataset.append([path1, path2, path3])\n",
    "    # print(dataset, \"processed\")\n"
   ]
  },
  {
   "cell_type": "code",
   "execution_count": null,
   "metadata": {
    "collapsed": false
   },
   "outputs": [],
   "source": [
    "# check that all files exist\n",
    "for path in dataset:\n",
    "    for j in range(0,2):\n",
    "        if (not os.path.isfile(path[j])):\n",
    "            print(path, \"bad\", path[j])"
   ]
  },
  {
   "cell_type": "code",
   "execution_count": null,
   "metadata": {
    "collapsed": false,
    "scrolled": true
   },
   "outputs": [],
   "source": [
    "# actual plotting \n",
    "labels = [\"dpy23-exon\", \"dpy23-intron\", \"mdh-1\"]\n",
    "colors = [\"#ffc900\", \"#56b900\", \"#0096ff\"] # yellow, green, blue\n",
    "binwidth = [100, 100, 100]\n",
    "\n",
    "image_name = dataset[0][0][43:67] \n",
    "\n",
    "for idx in range(0, len(dataset)):\n",
    "    fig = plt.figure(figsize=(16,10))\n",
    "    m = re.search('[^/]+$', dataset[idx][0])\n",
    "    title = m.group(0)[:14]\n",
    "    fig.suptitle(image_name + \" - \" + title, fontsize=14, fontweight='bold')\n",
    "    for j in range(0, 3): # iterate over all channels\n",
    "        print(dataset[idx][j])\n",
    "        I = load_data(dataset[idx][j])\n",
    "        \n",
    "        ax = fig.add_subplot(3,1,j + 1)\n",
    "        ax.set_xlabel('Intensity')\n",
    "        ax.set_ylabel('# spots')\n",
    "        ax.hist(I, bins=np.arange(min(I), max(I) + binwidth[j], binwidth[j]), color=colors[j], label=labels[j])\n",
    "        ax.text(0.9, 0.1, \"Total: \" + str(I.shape[0]), color='black', bbox=dict(facecolor='white', alpha=1), transform=ax.transAxes)\n",
    "        ax.set_xlim([-10, 14000])\n",
    "\n",
    "        if (j == 2):\n",
    "            ax.set_ylim([0, 2500])\n",
    "        else:\n",
    "            ax.set_ylim([0, 200])\n",
    "        plt.legend(loc = 'upper right')\n",
    "\n",
    "    if not os.path.exists(folder_path + \"histograms/\" + image):\n",
    "        os.makedirs(folder_path + \"histograms/\" + image)\n",
    "    plt.savefig(folder_path + \"histograms/\" + image + \"/\" + title + \".png\")\n",
    "    plt.show()"
   ]
  },
  {
   "cell_type": "code",
   "execution_count": null,
   "metadata": {
    "collapsed": true
   },
   "outputs": [],
   "source": []
  }
 ],
 "metadata": {
  "kernelspec": {
   "display_name": "Python 3",
   "language": "python",
   "name": "python3"
  },
  "language_info": {
   "codemirror_mode": {
    "name": "ipython",
    "version": 3
   },
   "file_extension": ".py",
   "mimetype": "text/x-python",
   "name": "python",
   "nbconvert_exporter": "python",
   "pygments_lexer": "ipython3",
   "version": "3.6.0"
  }
 },
 "nbformat": 4,
 "nbformat_minor": 2
}
