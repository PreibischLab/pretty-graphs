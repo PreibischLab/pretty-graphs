{
 "cells": [
  {
   "cell_type": "code",
   "execution_count": null,
   "metadata": {},
   "outputs": [],
   "source": [
    "import pandas as pd\n",
    "import numpy as np\n",
    "import os\n",
    "\n",
    "from configparser import ConfigParser, ExtendedInterpolation"
   ]
  },
  {
   "cell_type": "code",
   "execution_count": null,
   "metadata": {},
   "outputs": [],
   "source": [
    "# read config file\n",
    "config = ConfigParser(interpolation=ExtendedInterpolation())\n",
    "config.read(\"config.ini\")"
   ]
  },
  {
   "cell_type": "code",
   "execution_count": null,
   "metadata": {},
   "outputs": [],
   "source": [
    "FOLDER = config.get(\"main\", \"ROOTFOLDER\")\n",
    "SATURATION_FILENAME = config.get(\"main\", \"SATURATION_FILENAME\")\n",
    "SATURATION_NEW_FILENAME = config.get(\"main\", \"SATURATION_NEW_FILENAME\")\n",
    "\n",
    "DB_FILENAME = config.get(\"main\", \"DB_FILENAME\")\n",
    "DB_NEW_FILENAME = config.get(\"main\", \"DB_NEW_FILENAME\")"
   ]
  },
  {
   "cell_type": "code",
   "execution_count": null,
   "metadata": {},
   "outputs": [],
   "source": [
    "os.path.join(FOLDER, \"smFISH-database\", SATURATION_FILENAME)"
   ]
  },
  {
   "cell_type": "code",
   "execution_count": null,
   "metadata": {},
   "outputs": [],
   "source": [
    "df_path = os.path.join(FOLDER, \"smFISH-database\", SATURATION_FILENAME)\n",
    "df = pd.read_csv(df_path, sep=\",\", names=[\"image\", \"count\"])"
   ]
  },
  {
   "cell_type": "code",
   "execution_count": null,
   "metadata": {},
   "outputs": [],
   "source": [
    "df.head()"
   ]
  },
  {
   "cell_type": "code",
   "execution_count": null,
   "metadata": {},
   "outputs": [],
   "source": [
    "df[\"channel\"] = df[\"image\"].apply(lambda x: x[:2].lower() + '_saturation')\n",
    "df[\"image\"] = df[\"image\"].apply(lambda x: x[3:] + '.tif')"
   ]
  },
  {
   "cell_type": "code",
   "execution_count": null,
   "metadata": {},
   "outputs": [],
   "source": [
    "df.head()"
   ]
  },
  {
   "cell_type": "code",
   "execution_count": null,
   "metadata": {},
   "outputs": [],
   "source": [
    "df_out = df.pivot_table(\n",
    "    values='count', \n",
    "    index='image', \n",
    "    columns='channel',\n",
    ")"
   ]
  },
  {
   "cell_type": "code",
   "execution_count": null,
   "metadata": {},
   "outputs": [],
   "source": [
    "df_out.head()"
   ]
  },
  {
   "cell_type": "code",
   "execution_count": null,
   "metadata": {},
   "outputs": [],
   "source": [
    "df_path = os.path.join(FOLDER, \"smFISH-database\", DB_FILENAME)\n",
    "df = pd.read_csv(df_path, sep=\",\")"
   ]
  },
  {
   "cell_type": "code",
   "execution_count": null,
   "metadata": {
    "scrolled": true
   },
   "outputs": [],
   "source": [
    "df.head().T"
   ]
  },
  {
   "cell_type": "code",
   "execution_count": null,
   "metadata": {},
   "outputs": [],
   "source": [
    "len(df), len(df_out)"
   ]
  },
  {
   "cell_type": "code",
   "execution_count": null,
   "metadata": {},
   "outputs": [],
   "source": [
    "dff = df.copy()"
   ]
  },
  {
   "cell_type": "code",
   "execution_count": null,
   "metadata": {},
   "outputs": [],
   "source": [
    "dff = pd.merge(dff, df_out, how='left',left_on='cropped_image_file', right_on='image')\n",
    "#          left_index=False, right_index=False, sort=True,\n",
    "#          suffixes=('_x', '_y'), copy=True, indicator=False,\n",
    "#          validate=None)\n"
   ]
  },
  {
   "cell_type": "code",
   "execution_count": null,
   "metadata": {},
   "outputs": [],
   "source": [
    "df_out.to_csv(os.path.join(FOLDER, \"smFISH-database\", SATURATION_NEW_FILENAME))"
   ]
  },
  {
   "cell_type": "code",
   "execution_count": null,
   "metadata": {},
   "outputs": [],
   "source": [
    "dff.to_csv(os.path.join(FOLDER, \"smFISH-database\", DB_NEW_FILENAME))"
   ]
  },
  {
   "cell_type": "code",
   "execution_count": null,
   "metadata": {},
   "outputs": [],
   "source": []
  }
 ],
 "metadata": {
  "kernelspec": {
   "display_name": "Python [conda env:pretty-graphs] *",
   "language": "python",
   "name": "conda-env-pretty-graphs-py"
  },
  "language_info": {
   "codemirror_mode": {
    "name": "ipython",
    "version": 3
   },
   "file_extension": ".py",
   "mimetype": "text/x-python",
   "name": "python",
   "nbconvert_exporter": "python",
   "pygments_lexer": "ipython3",
   "version": "3.6.7"
  }
 },
 "nbformat": 4,
 "nbformat_minor": 2
}
