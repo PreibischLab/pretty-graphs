{
 "cells": [
  {
   "cell_type": "code",
   "execution_count": null,
   "metadata": {},
   "outputs": [],
   "source": [
    "# want to see the images inline\n",
    "# %matplotlib inline"
   ]
  },
  {
   "cell_type": "code",
   "execution_count": null,
   "metadata": {},
   "outputs": [],
   "source": [
    "import os\n",
    "\n",
    "import matplotlib.pyplot as plt\n",
    "import numpy as np\n",
    "import pandas as pd\n",
    "\n",
    "from scipy.stats import gamma\n",
    "from scipy.optimize import curve_fit\n",
    "from scipy import special\n",
    "\n",
    "from configparser import ConfigParser, ExtendedInterpolation\n",
    "\n",
    "import utils as utils\n",
    "\n",
    "from tqdm import tqdm_notebook as tqdm"
   ]
  },
  {
   "cell_type": "code",
   "execution_count": null,
   "metadata": {},
   "outputs": [],
   "source": [
    "# read config file \n",
    "config = ConfigParser(interpolation=ExtendedInterpolation())\n",
    "config.read('config.ini')"
   ]
  },
  {
   "cell_type": "code",
   "execution_count": null,
   "metadata": {},
   "outputs": [],
   "source": [
    "PARAMS = config.get('main', 'PARAMS')"
   ]
  },
  {
   "cell_type": "code",
   "execution_count": null,
   "metadata": {},
   "outputs": [],
   "source": [
    "FOLDER = config.get(PARAMS, 'FOLDER')\n",
    "EXPERIMENT = config.get(PARAMS, 'EXPERIMENT')\n",
    "DB_FILENAME = config.get(PARAMS, 'DB_FILENAME')\n",
    "TYPE = config.get(PARAMS, 'TYPE')\n",
    "COLOR = config.get(PARAMS, 'COLOR')\n",
    "MAKE_IMAGES = config.getboolean('main', 'MAKE_IMAGES')"
   ]
  },
  {
   "cell_type": "code",
   "execution_count": null,
   "metadata": {},
   "outputs": [],
   "source": [
    "# some const params for all graphs\n",
    "num_bins = 100\n",
    "# graph [xmin, xmax]\n",
    "xmin = 0\n",
    "xmax = 100\n",
    "binwidth = (xmax - xmin)/num_bins\n",
    "\n",
    "bins = np.arange(xmin, xmax + binwidth, binwidth)\n",
    "print ('bins: ', bins.shape)"
   ]
  },
  {
   "cell_type": "code",
   "execution_count": null,
   "metadata": {},
   "outputs": [],
   "source": [
    "# important indices\n",
    "type_columns = ['c0_type', 'c1_type', 'c2_type']\n",
    "stain_prefix = np.array([['C0-', 'C1-', 'C2-', 'C3-', 'C4-']])\n",
    "filename_column = 'cropped_image_file'"
   ]
  },
  {
   "cell_type": "code",
   "execution_count": null,
   "metadata": {
    "scrolled": false
   },
   "outputs": [],
   "source": [
    "# read the db and parse images that we want to process\n",
    "df_path = os.path.join(FOLDER, 'smFISH-database', DB_FILENAME)\n",
    "df = pd.read_csv(df_path, \n",
    "                 sep=',', \n",
    "                )"
   ]
  },
  {
   "cell_type": "code",
   "execution_count": null,
   "metadata": {},
   "outputs": [],
   "source": [
    "# TODO: maybe it is necessary to fill in other values here, too\n",
    "# fix missing entries in the colmns that we are planning to use \n",
    "df['cropped_image_file'].fillna('', inplace=True)\n",
    "df['c0_type'].fillna('', inplace=True)\n",
    "df['c1_type'].fillna('', inplace=True)\n",
    "df['c2_type'].fillna('', inplace=True)"
   ]
  },
  {
   "cell_type": "code",
   "execution_count": null,
   "metadata": {
    "scrolled": true
   },
   "outputs": [],
   "source": [
    "dff = df[df['cropped_image_file'].apply(lambda x: x.startswith(EXPERIMENT))]"
   ]
  },
  {
   "cell_type": "code",
   "execution_count": null,
   "metadata": {},
   "outputs": [],
   "source": [
    "# seems to be working\n",
    "row, col = np.where(dff[type_columns].applymap(lambda x: x == TYPE))\n",
    "n_samples = dff.shape[0]\n",
    "new_prefix = np.repeat(stain_prefix, n_samples, axis=0)[row, col]\n",
    "new_filename = dff[filename_column].values[row]\n",
    "full_filenames = [\"{}{}\".format(a_, b_[:-4]) for a_, b_ in zip(new_prefix, new_filename)]"
   ]
  },
  {
   "cell_type": "code",
   "execution_count": null,
   "metadata": {
    "scrolled": true
   },
   "outputs": [],
   "source": [
    "dataset = []\n",
    "pbar = tqdm(total=len(full_filenames))\n",
    "for ff in full_filenames: \n",
    "    tmp = os.path.join(FOLDER, \"csv-2\", ff + \".csv\")\n",
    "    dataset.append(tmp)\n",
    "    pbar.update(1)\n",
    "pbar.close()"
   ]
  },
  {
   "cell_type": "code",
   "execution_count": null,
   "metadata": {},
   "outputs": [],
   "source": [
    "# center_path = os.path.join(FOLDER, \"centers\", \"all-centers.csv\")"
   ]
  },
  {
   "cell_type": "code",
   "execution_count": null,
   "metadata": {
    "scrolled": true
   },
   "outputs": [],
   "source": [
    "# d = '/Volumes/MILKYKLIM/2019-05-06-exp/SEA-12/csv-2/C2-SEA-12_277_cropped_4.csv'\n",
    "# I, z = utils.load_i_z(d, skiprows_=0)\n",
    "# print(np.round(z))"
   ]
  },
  {
   "cell_type": "code",
   "execution_count": null,
   "metadata": {
    "scrolled": false
   },
   "outputs": [],
   "source": [
    "print(f'Processing: {len(dataset)} files') \n",
    "\n",
    "# actual plotting \n",
    "pbar = tqdm(total=len(dataset))\n",
    "for d in dataset:    \n",
    "    pbar.update(1) \n",
    "    if(not os.path.exists(d)):\n",
    "        continue\n",
    "        \n",
    "    try:\n",
    "        # create the canvas\n",
    "        fig = plt.figure(figsize=(8,5))\n",
    "        title = utils.create_title(d, name_id=-1)\n",
    "        fig.suptitle(title + \" / \" + TYPE)\n",
    "        \n",
    "        # load the data and scale it accordingly\n",
    "        I, z = utils.load_i_z(d, skiprows_=0)\n",
    "\n",
    "        # calculate the params for gauss fit\n",
    "        binned_values, real_bins = np.histogram(z, bins)\n",
    "\n",
    "        plt.hist(z, \n",
    "                 bins=bins, \n",
    "                 color=COLOR, \n",
    "                 label=TYPE, \n",
    "                 density=False,\n",
    "                )\n",
    "        plt.grid(True, lw = 2, ls = '--', c = '.85')\n",
    "        \n",
    "        # reasonable adjustments to make the data look nicer\n",
    "        plt.xlabel('z')\n",
    "        plt.ylabel('# spots')\n",
    "\n",
    "        x_limits = [xmin, xmax]\n",
    "        ymax = 45 # np.max(np.histogram(z, bins)[0])\n",
    "        y_limits = [0, ymax]\n",
    "\n",
    "        plt.xlim(x_limits)\n",
    "        plt.ylim(y_limits)\n",
    "        plt.xticks(np.arange(xmin, xmax + binwidth, binwidth*10))\n",
    "\n",
    "        folder_path = os.path.join(FOLDER, \"z-counts\", TYPE)\n",
    "        os.makedirs(folder_path, exist_ok=True)\n",
    "            \n",
    "        plt.savefig(os.path.join(folder_path, title + \".pdf\"))\n",
    "        # plt.show()\n",
    "        # break\n",
    "        plt.close()\n",
    "    except(RuntimeError, TypeError, ValueError):\n",
    "        print(\"There was an exception but we\\'ll fix it for you\")\n",
    "pbar.close()\n",
    "    "
   ]
  },
  {
   "cell_type": "code",
   "execution_count": null,
   "metadata": {},
   "outputs": [],
   "source": [
    "TYPE"
   ]
  },
  {
   "cell_type": "code",
   "execution_count": null,
   "metadata": {},
   "outputs": [],
   "source": [
    "PARAMS"
   ]
  },
  {
   "cell_type": "code",
   "execution_count": null,
   "metadata": {},
   "outputs": [],
   "source": []
  }
 ],
 "metadata": {
  "kernelspec": {
   "display_name": "Python 3",
   "language": "python",
   "name": "python3"
  },
  "language_info": {
   "codemirror_mode": {
    "name": "ipython",
    "version": 3
   },
   "file_extension": ".py",
   "mimetype": "text/x-python",
   "name": "python",
   "nbconvert_exporter": "python",
   "pygments_lexer": "ipython3",
   "version": "3.6.7"
  },
  "widgets": {
   "state": {
    "9241e0b020c2460daa688eff85232332": {
     "views": [
      {
       "cell_index": 14
      }
     ]
    },
    "981b0f2f137246d0a1c687d330727dba": {
     "views": [
      {
       "cell_index": 11
      }
     ]
    }
   },
   "version": "1.2.0"
  }
 },
 "nbformat": 4,
 "nbformat_minor": 2
}
