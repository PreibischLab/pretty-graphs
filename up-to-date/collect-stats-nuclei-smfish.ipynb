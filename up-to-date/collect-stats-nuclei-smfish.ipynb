{
 "cells": [
  {
   "cell_type": "code",
   "execution_count": null,
   "metadata": {},
   "outputs": [],
   "source": [
    "# want to see the images inline\n",
    "# %matplotlib inline\n",
    "%load_ext nb_black"
   ]
  },
  {
   "cell_type": "code",
   "execution_count": null,
   "metadata": {},
   "outputs": [],
   "source": [
    "import os\n",
    "\n",
    "import matplotlib.pyplot as plt\n",
    "import numpy as np\n",
    "import pandas as pd\n",
    "\n",
    "from scipy.stats import gamma\n",
    "from scipy.optimize import curve_fit\n",
    "from scipy import special\n",
    "\n",
    "from configparser import ConfigParser, ExtendedInterpolation\n",
    "\n",
    "import utils as utils\n",
    "\n",
    "from tqdm import tqdm_notebook as tqdm"
   ]
  },
  {
   "cell_type": "code",
   "execution_count": null,
   "metadata": {},
   "outputs": [],
   "source": [
    "from pandas.errors import EmptyDataError"
   ]
  },
  {
   "cell_type": "code",
   "execution_count": null,
   "metadata": {},
   "outputs": [],
   "source": [
    "pd.set_option(\"display.max_columns\", 50)"
   ]
  },
  {
   "cell_type": "code",
   "execution_count": null,
   "metadata": {},
   "outputs": [],
   "source": [
    "# read config file\n",
    "config = ConfigParser(interpolation=ExtendedInterpolation())\n",
    "config.read(\"config.ini\")"
   ]
  },
  {
   "cell_type": "code",
   "execution_count": null,
   "metadata": {},
   "outputs": [],
   "source": [
    "FOLDER = config.get(\"all\", \"FOLDER\")\n",
    "DB_FILENAME = config.get(\"all\", \"DB_FILENAME\")\n",
    "DB_NEW_FILENAME = config.get(\"all\", \"DB_NEW_FILENAME\")\n",
    "# EXPERIMENTS = [\"N2\", \"SEA-12\", \"MK4\", \"CB428\", \"RNAi\"]\n",
    "CHANNELS = [\"C0-\", \"C1-\", \"C2-\"]\n",
    "SMFISH_COLUMNS = [\"#c0_smfish\", \"#c1_smfish\", \"#c2_smfish\"]"
   ]
  },
  {
   "cell_type": "code",
   "execution_count": null,
   "metadata": {},
   "outputs": [],
   "source": [
    "# read the db and parse images that we want to process\n",
    "df_path = os.path.join(FOLDER, \"smFISH-database\", DB_FILENAME)\n",
    "df = pd.read_csv(df_path, sep=\",\", na_values=[\"\"])\n",
    "df.head()"
   ]
  },
  {
   "cell_type": "code",
   "execution_count": null,
   "metadata": {},
   "outputs": [],
   "source": [
    "# TODO: maybe it is necessary to fill in other values here, too\n",
    "# fix missing entries in the colmns that we are planning to use\n",
    "df[\"cropped_image_file\"].fillna(\"\", inplace=True)\n",
    "df[\"c0_type\"].fillna(\"\", inplace=True)\n",
    "df[\"c1_type\"].fillna(\"\", inplace=True)\n",
    "df[\"c2_type\"].fillna(\"\", inplace=True)"
   ]
  },
  {
   "cell_type": "code",
   "execution_count": null,
   "metadata": {},
   "outputs": [],
   "source": [
    "for c in SMFISH_COLUMNS:\n",
    "    df[c] = -1"
   ]
  },
  {
   "cell_type": "code",
   "execution_count": null,
   "metadata": {
    "scrolled": true
   },
   "outputs": [],
   "source": [
    "pbar = tqdm(total=len(df))\n",
    "for i, r in df.iterrows():\n",
    "    pbar.update(1)\n",
    "    filename = r[\"cropped_image_file\"]\n",
    "    if filename == \"\":\n",
    "        continue\n",
    "\n",
    "    # e = filename.split('_')[0]\n",
    "    folder = os.path.join(FOLDER, \"csv-2\")\n",
    "\n",
    "    for c in CHANNELS:\n",
    "        filepath = os.path.join(folder, c + filename[:-4] + \".csv\")\n",
    "        if not os.path.exists(filepath):\n",
    "            continue\n",
    "\n",
    "        smfish_column = \"#\" + c.lower()[:2] + \"_smfish\"\n",
    "        df.at[i, smfish_column] = -3\n",
    "        # this one is for counting\n",
    "        num_lines = sum(1 for line in open(filepath))\n",
    "        df.at[i, smfish_column] = num_lines\n",
    "        # this one is for adjusted intensities\n",
    "        try:\n",
    "            tmp = pd.read_csv(\n",
    "                filepath,\n",
    "                sep=\"\\t\",\n",
    "                na_values=[\"\"],\n",
    "                index_col=0,\n",
    "                header=None,\n",
    "                error_bad_lines=False,\n",
    "                warn_bad_lines=True,\n",
    "            )\n",
    "\n",
    "            df.at[i, smfish_column + \"_adj\"] = tmp[4].sum()\n",
    "        except (EmptyDataError):\n",
    "            print(f\"Is empty: {filepath}\")\n",
    "\n",
    "pbar.close()"
   ]
  },
  {
   "cell_type": "code",
   "execution_count": null,
   "metadata": {},
   "outputs": [],
   "source": [
    "df.head()"
   ]
  },
  {
   "cell_type": "code",
   "execution_count": null,
   "metadata": {},
   "outputs": [],
   "source": [
    "df.to_csv(os.path.join(FOLDER, \"smFISH-database\", DB_NEW_FILENAME), index=False)"
   ]
  }
 ],
 "metadata": {
  "kernelspec": {
   "display_name": "Python 3",
   "language": "python",
   "name": "python3"
  },
  "language_info": {
   "codemirror_mode": {
    "name": "ipython",
    "version": 3
   },
   "file_extension": ".py",
   "mimetype": "text/x-python",
   "name": "python",
   "nbconvert_exporter": "python",
   "pygments_lexer": "ipython3",
   "version": "3.6.7"
  }
 },
 "nbformat": 4,
 "nbformat_minor": 2
}
