{
 "cells": [
  {
   "cell_type": "code",
   "execution_count": null,
   "metadata": {},
   "outputs": [],
   "source": [
    "# update bad images status "
   ]
  },
  {
   "cell_type": "code",
   "execution_count": null,
   "metadata": {},
   "outputs": [],
   "source": [
    "import os\n",
    "\n",
    "import matplotlib.pyplot as plt\n",
    "import numpy as np\n",
    "import pandas as pd\n",
    "\n",
    "from scipy.stats import gamma\n",
    "from scipy.optimize import curve_fit\n",
    "from scipy import special\n",
    "\n",
    "from configparser import ConfigParser, ExtendedInterpolation\n",
    "\n",
    "import utils as utils\n",
    "\n",
    "from tqdm import tqdm_notebook as tqdm"
   ]
  },
  {
   "cell_type": "code",
   "execution_count": null,
   "metadata": {},
   "outputs": [],
   "source": [
    "pd.set_option('display.max_columns', 50)"
   ]
  },
  {
   "cell_type": "code",
   "execution_count": null,
   "metadata": {},
   "outputs": [],
   "source": [
    "# read config file \n",
    "config = ConfigParser(interpolation=ExtendedInterpolation())\n",
    "config.read('config.ini')"
   ]
  },
  {
   "cell_type": "code",
   "execution_count": null,
   "metadata": {},
   "outputs": [],
   "source": [
    "FOLDER = config.get(\"all\", \"FOLDER\")\n",
    "DB_FILENAME = config.get(\"all\", \"DB_FILENAME\")\n",
    "DB_NEW_FILENAME = config.get(\"all\", \"DB_NEW_FILENAME\")\n",
    "# EXPERIMENTS = [\"N2\", \"SEA-12\", \"MK4\", \"CB428\", \"RNAi\"]\n",
    "CHANNELS = [\"C0-\", \"C1-\", \"C2-\"]\n",
    "SMFISH_COLUMNS = [\"#c0_smfish\", \"#c1_smfish\", \"#c2_smfish\"]"
   ]
  },
  {
   "cell_type": "code",
   "execution_count": null,
   "metadata": {},
   "outputs": [],
   "source": [
    "EXPERIMENTS = ['N2', 'SEA-12', 'MK4', 'CB428', 'RNAi']\n",
    "CHANNELS = ['C0-', 'C1-', 'C2-', 'C3-', 'C4-']\n",
    "SMFISH_COLUMNS = ['#c0_smfish', '#c1_smfish', '#c2_smfish', '#c3_smfish', '#c4_smfish']"
   ]
  },
  {
   "cell_type": "code",
   "execution_count": null,
   "metadata": {
    "scrolled": true
   },
   "outputs": [],
   "source": [
    "# read the db and parse images that we want to process\n",
    "df_path = os.path.join(FOLDER, \"smFISH-database\", DB_FILENAME)\n",
    "df = pd.read_csv(df_path, \n",
    "                 sep=',',\n",
    "                 na_values=[''],\n",
    "                 # index_col=['cropped_image_file'],\n",
    "            )\n"
   ]
  },
  {
   "cell_type": "code",
   "execution_count": null,
   "metadata": {},
   "outputs": [],
   "source": [
    "df = df[[\n",
    "    '#c0_smfish',\n",
    "    '#c0_smfish_adj',\n",
    "    '#c1_smfish',\n",
    "    '#c1_smfish_adj',\n",
    "    '#c2_smfish',\n",
    "    '#c2_smfish_adj',\n",
    "    '#channels',\n",
    "    '#nuclei',\n",
    "    '#nucs_predicted',\n",
    "    'DAPI channel',\n",
    "    'GFP channel',\n",
    "    'c0',\n",
    "    'c0_lambda',\n",
    "    'c0_type',\n",
    "    'c1',\n",
    "    'c1_lambda',\n",
    "    'c1_type',\n",
    "    'c2',\n",
    "    'c2_lambda',\n",
    "    'c2_type',\n",
    "    'c3',\n",
    "    'c3_lambda',\n",
    "    'c4',\n",
    "    'c4_lambda',\n",
    "    'crop_offset_x',\n",
    "    'crop_offset_y',\n",
    "    'cropped_image_file',\n",
    "    'cropped_mask_file',\n",
    "    'ellipse',\n",
    "    'filename',\n",
    "    'is_dapi_stack',\n",
    "    'is_male',\n",
    "    'is_male_batch',\n",
    "    'is_too_bleached',\n",
    "    'is_valid_final',\n",
    "    'is_z_cropped',\n",
    "    'num_z_planes',\n",
    "    'original filename',\n",
    "    'signal',\n",
    "    'status',\n",
    "    'tx',\n",
    "    'tx_desc',\n",
    "    'unique_id',\n",
    "]]"
   ]
  },
  {
   "cell_type": "code",
   "execution_count": null,
   "metadata": {},
   "outputs": [],
   "source": [
    "df.head()"
   ]
  },
  {
   "cell_type": "code",
   "execution_count": null,
   "metadata": {},
   "outputs": [],
   "source": [
    "# update happens here"
   ]
  },
  {
   "cell_type": "code",
   "execution_count": null,
   "metadata": {
    "scrolled": false
   },
   "outputs": [],
   "source": [
    "dataset = []\n",
    "for r, d, f in os.walk(os.path.join(FOLDER, 'bad')):\n",
    "    for file in f:\n",
    "        if '.csv' in file:\n",
    "            dataset.append(file)"
   ]
  },
  {
   "cell_type": "code",
   "execution_count": null,
   "metadata": {},
   "outputs": [],
   "source": [
    "dff = df.copy()"
   ]
  },
  {
   "cell_type": "code",
   "execution_count": null,
   "metadata": {
    "scrolled": true
   },
   "outputs": [],
   "source": [
    "pbar = tqdm(total=len(dataset))\n",
    "for f in dataset:\n",
    "    pbar.update(1)\n",
    "    \n",
    "    smfish_column = '#' + f[:3].lower()[:2] + '_smfish'    \n",
    "    index = df[df['cropped_image_file'] == f[3:-4] + '.tif'].index\n",
    "    \n",
    "    \n",
    "    print(smfish_column, index)\n",
    "    \n",
    "    df.at[index, smfish_column] = -3\n",
    "    \n",
    "pbar.close()"
   ]
  },
  {
   "cell_type": "code",
   "execution_count": null,
   "metadata": {},
   "outputs": [],
   "source": [
    "df"
   ]
  },
  {
   "cell_type": "code",
   "execution_count": null,
   "metadata": {},
   "outputs": [],
   "source": [
    "for col in [\n",
    "        # '#channels',\n",
    "        '#nuclei',\n",
    "        '#nucs_predicted',\n",
    "        'DAPI channel',\n",
    "        'GFP channel',\n",
    "        'c4_lambda',\n",
    "        'crop_offset_x',\n",
    "        'crop_offset_y',\n",
    "        'is_dapi_stack',\n",
    "        'is_male',\n",
    "        'is_male_batch',\n",
    "        'is_too_bleached',\n",
    "        'is_valid_final',\n",
    "        'is_z_cropped',\n",
    "        'num_z_planes',\n",
    "        'signal',\n",
    "        'status',\n",
    "        'tx',\n",
    "        'tx_desc',\n",
    "        # 'unique_id',\n",
    "    ]:\n",
    "    dff[col] = dff[col].astype(np.float32)"
   ]
  },
  {
   "cell_type": "code",
   "execution_count": null,
   "metadata": {},
   "outputs": [],
   "source": [
    "for col in [\n",
    "        'unique_id',\n",
    "    ]:\n",
    "    dff[col] = dff[col].astype(np.int32)"
   ]
  },
  {
   "cell_type": "code",
   "execution_count": null,
   "metadata": {},
   "outputs": [],
   "source": [
    "dff.to_csv(\n",
    "    os.path.join(FOLDER, \"smFISH-database\", DB_NEW_FILENAME), \n",
    "    index=False,\n",
    "    columns=[\n",
    "        '#c0_smfish',\n",
    "        '#c0_smfish_adj',\n",
    "        '#c1_smfish',\n",
    "        '#c1_smfish_adj',\n",
    "        '#c2_smfish',\n",
    "        '#c2_smfish_adj',\n",
    "        '#channels',\n",
    "        '#nuclei',\n",
    "        '#nucs_predicted',\n",
    "        'DAPI channel',\n",
    "        'GFP channel',\n",
    "        'c0',\n",
    "        'c0_lambda',\n",
    "        'c0_type',\n",
    "        'c1',\n",
    "        'c1_lambda',\n",
    "        'c1_type',\n",
    "        'c2',\n",
    "        'c2_lambda',\n",
    "        'c2_type',\n",
    "        'c3',\n",
    "        'c3_lambda',\n",
    "        'c4',\n",
    "        'c4_lambda',\n",
    "        'crop_offset_x',\n",
    "        'crop_offset_y',\n",
    "        'cropped_image_file',\n",
    "        'cropped_mask_file',\n",
    "        'ellipse',\n",
    "        'filename',\n",
    "        'is_dapi_stack',\n",
    "        'is_male',\n",
    "        'is_male_batch',\n",
    "        'is_too_bleached',\n",
    "        'is_valid_final',\n",
    "        'is_z_cropped',\n",
    "        'num_z_planes',\n",
    "        'original filename',\n",
    "        'signal',\n",
    "        'status',\n",
    "        'tx',\n",
    "        'tx_desc',\n",
    "        'unique_id',\n",
    "    ]\n",
    ")"
   ]
  },
  {
   "cell_type": "code",
   "execution_count": null,
   "metadata": {},
   "outputs": [],
   "source": []
  }
 ],
 "metadata": {
  "kernelspec": {
   "display_name": "Python 3",
   "language": "python",
   "name": "python3"
  },
  "language_info": {
   "codemirror_mode": {
    "name": "ipython",
    "version": 3
   },
   "file_extension": ".py",
   "mimetype": "text/x-python",
   "name": "python",
   "nbconvert_exporter": "python",
   "pygments_lexer": "ipython3",
   "version": "3.6.7"
  },
  "widgets": {
   "state": {
    "7083948364604c5789752b45bc07e735": {
     "views": [
      {
       "cell_index": 18
      }
     ]
    }
   },
   "version": "1.2.0"
  }
 },
 "nbformat": 4,
 "nbformat_minor": 2
}
