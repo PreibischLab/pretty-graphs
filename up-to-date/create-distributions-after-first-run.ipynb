{
 "cells": [
  {
   "cell_type": "code",
   "execution_count": null,
   "metadata": {},
   "outputs": [],
   "source": [
    "# want to see the images inline\n",
    "%matplotlib inline"
   ]
  },
  {
   "cell_type": "code",
   "execution_count": null,
   "metadata": {},
   "outputs": [],
   "source": [
    "# imports\n",
    "# general \n",
    "import os\n",
    "import glob\n",
    "from functools import reduce\n",
    "import re\n",
    "import csv as csv\n",
    "# scientific \n",
    "import matplotlib.pyplot as plt\n",
    "import numpy as np\n",
    "from sklearn import linear_model, datasets\n",
    "from scipy.stats import norm, gamma\n",
    "from scipy.optimize import curve_fit\n",
    "from scipy import special\n",
    "\n",
    "import pandas as pd\n",
    "\n",
    "from sklearn.metrics import mean_squared_error, mean_absolute_error"
   ]
  },
  {
   "cell_type": "code",
   "execution_count": null,
   "metadata": {},
   "outputs": [],
   "source": [
    "pd.set_option('display.max_columns', 100)"
   ]
  },
  {
   "cell_type": "code",
   "execution_count": null,
   "metadata": {},
   "outputs": [],
   "source": [
    "import utils as utils"
   ]
  },
  {
   "cell_type": "code",
   "execution_count": null,
   "metadata": {},
   "outputs": [],
   "source": [
    "FOLDER = '/Volumes/MILKYKLIM/2019-05-06-exp/rnai' # folder contains z-corrected spots \n",
    "EXPERIMENT = 'RNAi'"
   ]
  },
  {
   "cell_type": "code",
   "execution_count": null,
   "metadata": {},
   "outputs": [],
   "source": []
  },
  {
   "cell_type": "code",
   "execution_count": null,
   "metadata": {},
   "outputs": [],
   "source": [
    "# some const params for all graphs\n",
    "num_bins = 100; \n",
    "# graph [xmin, xmax]\n",
    "xmin = -0.2\n",
    "xmax = 1.2\n",
    "binwidth = (xmax - xmin)/(num_bins - 1)\n",
    "\n",
    "bins = np.arange(xmin, xmax + binwidth, binwidth)\n",
    "print ('bins: ', bins.shape)"
   ]
  },
  {
   "cell_type": "code",
   "execution_count": null,
   "metadata": {},
   "outputs": [],
   "source": [
    "# for testing \n",
    "filename = 'C0-RNAi_868_cropped_4417'\n",
    "filepath = os.path.join(FOLDER, 'csv', filename + '.csv')\n",
    "\n",
    "I = utils.load_data(filepath)\n",
    "\n",
    "fig = plt.figure(figsize=(8,5))\n",
    "title = filename\n",
    "plt.title(title)\n",
    "    \n",
    "plt.xlabel('intensity')\n",
    "plt.ylabel('# spots')\n",
    "\n",
    "print(\"I_min:\", min(I), \"I_max:\", max(I))\n",
    "\n",
    "I_res = I\n",
    "fit_alpha, fit_loc, fit_beta = gamma.fit(I_res)\n",
    "print(fit_alpha, fit_loc, fit_beta)\n",
    "\n",
    "plt.hist(I, bins=bins, color='pink', density=True); # \n",
    "# plt.text(0.9*xmax, 0.1, \"Total: \" + str(I.shape[0]), color='black', bbox=dict(facecolor='white', alpha=1))\n",
    "\n",
    "info_text = \"Total: \" + str(I.shape[0])\n",
    "\n",
    "x_limits = [xmin, xmax]\n",
    "ymax = np.max(np.histogram(I, bins)[0])\n",
    "y_limits = [0, ymax]\n",
    "\n",
    "plt.text(x_limits[1] - (x_limits[1] - x_limits[0])*0.1, y_limits[0] + (y_limits[1] - y_limits[0])*0.04, info_text, color='black', bbox=dict(facecolor='white', alpha=1))\n",
    "   \n",
    "\n",
    "x = np.linspace(xmin, xmax, 1000)\n",
    "y = gamma.pdf(x, fit_alpha, fit_loc, fit_beta)\n",
    "plt.plot(x,y)\n",
    "\n",
    "print(\"peak center:\", x[np.argmax(y)])\n",
    "\n",
    "plt.xlim([xmin, xmax])\n",
    "\n",
    "# plt.legend(loc = 'upper right')"
   ]
  },
  {
   "cell_type": "code",
   "execution_count": null,
   "metadata": {},
   "outputs": [],
   "source": [
    "# possible labels \n",
    "stain = ['DPY-23_EX', 'MDH-1', 'WDR-5.2', 'DPY-23_INT']\n",
    "stage = 'E' # only embryos\n",
    "comment = '' # only empty ones"
   ]
  },
  {
   "cell_type": "code",
   "execution_count": null,
   "metadata": {},
   "outputs": [],
   "source": [
    "# TODO: fix this one\n",
    "# important indices\n",
    "# stain_columns = ['C0_stain', 'C1_stain', 'C2_stain', 'C3_stain', 'C4_stain']\n",
    "# type_columns = ['C0_type', 'C1_type', 'C2_type', 'C3_type', 'C4_type']\n",
    "# smfish_columns = ['#C0_smfish', '#C1_smfish', '#C2_smfish', '#C3_smfish', '#C4_smfish']\n",
    "# nuclei_column = ['#nuclei']\n",
    "# stain_prefix = np.array([['C1-', 'C2-', 'C3-', 'C4-', 'C5-']])\n",
    "# ext = '.csv'\n",
    "# filename_column = 'new filename'"
   ]
  },
  {
   "cell_type": "code",
   "execution_count": null,
   "metadata": {},
   "outputs": [],
   "source": [
    "# TODO: fix this one\n",
    "# important indices\n",
    "type_columns = ['c0_type', 'c1_type', 'c2_type']\n",
    "\n",
    "\n",
    "stain_columns = ['C0_stain', 'C1_stain', 'C2_stain', 'C3_stain', 'C4_stain']\n",
    "\n",
    "# smfish_columns = ['#C0_smfish', '#C1_smfish', '#C2_smfish', '#C3_smfish', '#C4_smfish']\n",
    "nuclei_column = ['#nuclei']\n",
    "stain_prefix = np.array([['C0-', 'C1-', 'C2-', 'C3-', 'C4-']])\n",
    "ext = '.csv'\n",
    "filename_column = 'cropped_image_file'"
   ]
  },
  {
   "cell_type": "code",
   "execution_count": null,
   "metadata": {
    "scrolled": false
   },
   "outputs": [],
   "source": [
    "# read the db and parse images that we want to process\n",
    "df = pd.read_csv(os.path.join(FOLDER, 'smFISH-database/embryo4_cropped.csv'), \n",
    "                 sep=',', \n",
    "                 # na_values=[''],\n",
    "                )\n",
    "df.head().T"
   ]
  },
  {
   "cell_type": "code",
   "execution_count": null,
   "metadata": {},
   "outputs": [],
   "source": [
    "# fix missing entries in the colmns that we are planning to use \n",
    "df['cropped_image_file'].fillna('', inplace=True)\n",
    "df['c0_type'].fillna('', inplace=True)\n",
    "df['c1_type'].fillna('', inplace=True)\n",
    "df['c2_type'].fillna('', inplace=True)\n",
    "\n",
    "\n",
    "# TODO: maybe it is necessary to fill in other values here, too"
   ]
  },
  {
   "cell_type": "code",
   "execution_count": null,
   "metadata": {
    "scrolled": true
   },
   "outputs": [],
   "source": [
    "dff = df[df['cropped_image_file'].apply(lambda x: x.startswith('RNAi'))]\n",
    "dff.head()"
   ]
  },
  {
   "cell_type": "code",
   "execution_count": null,
   "metadata": {},
   "outputs": [],
   "source": [
    "np.unique(dff[type_columns])"
   ]
  },
  {
   "cell_type": "code",
   "execution_count": null,
   "metadata": {},
   "outputs": [],
   "source": [
    "# suppose we are looking\n",
    "labels = ['sdc-2'] \n",
    "# ['Pha-4_ex', 'ama-1_ex', 'dpy-23_ex', 'dpy-23_int', 'mdh-1_ex', \n",
    "#  'sdc-2_ex', 'sdc-2_int', 'wdr-5.2_ex']"
   ]
  },
  {
   "cell_type": "code",
   "execution_count": null,
   "metadata": {},
   "outputs": [],
   "source": [
    "# seems to be working\n",
    "row, col = np.where(dff[type_columns].applymap(lambda x: x == 'sdc-2_ex'))\n",
    "\n",
    "n_samples = dff.shape[0]\n",
    "new_prefix = np.repeat(stain_prefix, n_samples, axis=0)[row, col]\n",
    "\n",
    "new_filename = dff[filename_column].values[row]\n",
    "dataset2 = [\"{}{}\".format(a_, b_[:-4]) for a_, b_ in zip(new_prefix, new_filename)]"
   ]
  },
  {
   "cell_type": "code",
   "execution_count": null,
   "metadata": {
    "scrolled": true
   },
   "outputs": [],
   "source": [
    "# actual plotting \n",
    "dataset_to_use = dataset2\n",
    "# if labels[0] == 'MDH-1':\n",
    "#     dataset_to_use = dataset3\n",
    "    \n",
    "dataset = []\n",
    "for j in range(0, len(dataset_to_use)):    \n",
    "    tmp = os.path.join(FOLDER, \"csv\", dataset_to_use[j] + \".csv\")\n",
    "    dataset.append(tmp)\n",
    "    print(tmp)"
   ]
  },
  {
   "cell_type": "code",
   "execution_count": null,
   "metadata": {},
   "outputs": [],
   "source": [
    "center_path = os.path.join(FOLDER, \"centers\", \"all-centers.csv\")"
   ]
  },
  {
   "cell_type": "code",
   "execution_count": null,
   "metadata": {},
   "outputs": [],
   "source": [
    "color = '#693D3D'\n",
    "if labels[0] == 'mdh1-1':\n",
    "    color = \"#693D3D\""
   ]
  },
  {
   "cell_type": "code",
   "execution_count": null,
   "metadata": {
    "scrolled": true
   },
   "outputs": [],
   "source": [
    "# have to perform this step multiple times and choose the best one \n",
    "# perform n_fits with different initial parameters\n",
    "# n_fits = 10\n",
    "\n",
    "center_set = {}\n",
    "\n",
    "print(f'Processing: {len(dataset)} files') \n",
    "\n",
    "# actual plotting \n",
    "for idx in range(0, len(dataset)):    \n",
    "    if(not os.path.exists(dataset[idx])):\n",
    "        # print(\"doesn't exist\")\n",
    "        continue\n",
    "        \n",
    "    try:\n",
    "        # create the canvas\n",
    "        fig = plt.figure(figsize=(8,5))\n",
    "        title = utils.create_title(dataset[idx], name_id=6)\n",
    "        fig.suptitle(title + \" / \" + labels[0])\n",
    "\n",
    "        # load the data and scale it accordingly\n",
    "        I = utils.load_data(dataset[idx], skiprows_=0)\n",
    "\n",
    "        I_res = I\n",
    "        # calculate the params for gauss fit\n",
    "        binned_values, real_bins = np.histogram(I, bins)\n",
    "        use_median = np.median(I_res)\n",
    "        # inititally there was use_median/2 \n",
    "        fit_alpha, fit_loc, fit_beta = gamma.fit(I_res, loc=use_median/2, scale=1/np.max(binned_values))\n",
    "        # normalization factor\n",
    "        factor = np.sum(binned_values*np.diff(real_bins))\n",
    "\n",
    "        plt.hist(I, bins=bins, color=color, label=labels, density=False)\n",
    "\n",
    "        x = np.linspace(xmin, xmax, 1000)\n",
    "        y = gamma.pdf(x, fit_alpha, fit_loc, fit_beta)*factor\n",
    "        plt.plot(x,y, linewidth=5, color='#66A5AD')\n",
    "        yhat = gamma.pdf(real_bins, fit_alpha, fit_loc, fit_beta)*factor\n",
    "\n",
    "        # vertical line for center\n",
    "        plt.axvline(x=real_bins[np.argmax(yhat)], linestyle=\"--\", linewidth=5, color='#66A5AD')\n",
    "\n",
    "        if (np.any(np.isnan(yhat))):\n",
    "            continue\n",
    "\n",
    "        error = utils.fitter_meter(binned_values, yhat[:-1])\n",
    "\n",
    "        print(\"error: L1, L2\", error)\n",
    "        print(\"peak center:\", real_bins[np.argmax(yhat)])\n",
    "\n",
    "        # reasonable adjustments to make the data look nicer\n",
    "        plt.xlabel('intensity')\n",
    "        plt.ylabel('# spots')\n",
    "\n",
    "        info_text = \"Total: \" + str(I.shape[0]) + \"\\n\" + \"Peak: \" +  str('%.2f' % real_bins[np.argmax(yhat)]) + \"\\n\" + \"L1: \" + str('%.2f' % error[0]) + \"\\n\" + \"L2: \" +  str('%.2f' % error[1]) \n",
    "\n",
    "        x_limits = [xmin, xmax]\n",
    "        ymax = np.max(np.histogram(I, bins)[0])\n",
    "        y_limits = [0, ymax]\n",
    "\n",
    "        plt.text(x_limits[1] - (x_limits[1] - x_limits[0])*0.15, y_limits[1]*0.8, info_text, color='black', bbox=dict(facecolor='white', alpha=1))\n",
    "        plt.xlim([xmin, xmax])\n",
    "\n",
    "        # save the peak values for further \n",
    "        center_set[title] = real_bins[np.argmax(yhat)]  \n",
    "        folder_path = os.path.join(FOLDER, \"histograms\", labels[0])\n",
    "\n",
    "        if not os.path.exists(folder_path):\n",
    "            os.makedirs(folder_path)\n",
    "            \n",
    "        plt.savefig(os.path.join(folder_path, title + \".pdf\"))\n",
    "        plt.show()\n",
    "        # break\n",
    "    except(RuntimeError, TypeError, ValueError):\n",
    "        print(\"There was an exception but we\\'ll fix it for you\")\n",
    "df_center = pd.DataFrame(list(center_set.items()), columns=['filename', 'center'])\n",
    "if (os.path.exists(center_path)):\n",
    "    df_center.to_csv(center_path, index=False, header=False, encoding='utf-8', mode = 'a')\n",
    "else:\n",
    "    df_center.to_csv(center_path, index=False, header=True, encoding='utf-8', mode = 'w' )\n",
    "    print (df_center)"
   ]
  },
  {
   "cell_type": "code",
   "execution_count": null,
   "metadata": {},
   "outputs": [],
   "source": []
  }
 ],
 "metadata": {
  "kernelspec": {
   "display_name": "Python 3",
   "language": "python",
   "name": "python3"
  },
  "language_info": {
   "codemirror_mode": {
    "name": "ipython",
    "version": 3
   },
   "file_extension": ".py",
   "mimetype": "text/x-python",
   "name": "python",
   "nbconvert_exporter": "python",
   "pygments_lexer": "ipython3",
   "version": "3.6.7"
  }
 },
 "nbformat": 4,
 "nbformat_minor": 2
}
