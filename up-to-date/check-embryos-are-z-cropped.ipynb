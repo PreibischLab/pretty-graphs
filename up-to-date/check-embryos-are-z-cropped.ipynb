{
 "cells": [
  {
   "cell_type": "code",
   "execution_count": null,
   "metadata": {},
   "outputs": [],
   "source": [
    "# want to see the images inline\n",
    "%matplotlib inline"
   ]
  },
  {
   "cell_type": "code",
   "execution_count": null,
   "metadata": {},
   "outputs": [],
   "source": [
    "import os\n",
    "\n",
    "import matplotlib.pyplot as plt\n",
    "import numpy as np\n",
    "import pandas as pd\n",
    "import seaborn as sns\n",
    "\n",
    "from scipy.stats import gamma\n",
    "from scipy.optimize import curve_fit\n",
    "from scipy import special\n",
    "from scipy.signal import medfilt\n",
    "\n",
    "from configparser import ConfigParser, ExtendedInterpolation\n",
    "\n",
    "import utils as utils\n",
    "\n",
    "from tqdm import tqdm_notebook as tqdm\n",
    "import json"
   ]
  },
  {
   "cell_type": "code",
   "execution_count": null,
   "metadata": {},
   "outputs": [],
   "source": [
    "# read config file\n",
    "config = ConfigParser(interpolation=ExtendedInterpolation())\n",
    "config.read(\"config.ini\")"
   ]
  },
  {
   "cell_type": "code",
   "execution_count": null,
   "metadata": {},
   "outputs": [],
   "source": [
    "FOLDER = config.get(\"main\", \"ROOTFOLDER\")\n",
    "DB_FILENAME = config.get(\"main\", \"DB_FILENAME\")\n",
    "DB_NEW_FILENAME = config.get(\"main\", \"DB_NEW_FILENAME\")\n",
    "COLOR = config.get(\"main\", \"COLOR\")\n",
    "MAKE_IMAGES = config.getboolean(\"main\", \"MAKE_IMAGES\")\n",
    "TYPES = json.loads(config.get(\"main\",\"TYPES\"))"
   ]
  },
  {
   "cell_type": "code",
   "execution_count": null,
   "metadata": {},
   "outputs": [],
   "source": [
    "# number of slices from top and bottom\n",
    "Z_BOUND = 1\n",
    "# number of detections that we consider as a cut\n",
    "Z_COUNT = 10"
   ]
  },
  {
   "cell_type": "code",
   "execution_count": null,
   "metadata": {},
   "outputs": [],
   "source": [
    "# some const params for all graphs\n",
    "num_bins = 120\n",
    "# graph [xmin, xmax]\n",
    "xmin = 0\n",
    "xmax = num_bins\n",
    "binwidth = (xmax - xmin) / num_bins\n",
    "\n",
    "bins = np.arange(xmin, xmax + binwidth, binwidth)\n",
    "print(\"bins: \", bins.shape)"
   ]
  },
  {
   "cell_type": "code",
   "execution_count": null,
   "metadata": {},
   "outputs": [],
   "source": [
    "# important indices\n",
    "type_columns = [\"c0_type\", \"c1_type\", \"c2_type\"]\n",
    "stain_prefix = np.array([[\"C0-\", \"C1-\", \"C2-\", \"C3-\", \"C4-\"]])\n",
    "filename_column = \"cropped_image_file\"\n",
    "num_z_planes_colmumn = \"num_z_planes\"\n",
    "is_z_cropped = \"is_z_cropped\""
   ]
  },
  {
   "cell_type": "code",
   "execution_count": null,
   "metadata": {},
   "outputs": [],
   "source": [
    "os.path.join(FOLDER, \"smFISH-database\", DB_FILENAME)"
   ]
  },
  {
   "cell_type": "code",
   "execution_count": null,
   "metadata": {
    "scrolled": false
   },
   "outputs": [],
   "source": [
    "# read the db and parse images that we want to process\n",
    "df_path = os.path.join(FOLDER, \"smFISH-database\", DB_FILENAME)\n",
    "df = pd.read_csv(df_path, sep=\",\")"
   ]
  },
  {
   "cell_type": "code",
   "execution_count": null,
   "metadata": {},
   "outputs": [],
   "source": [
    "# TODO: maybe it is necessary to fill in other values here, too\n",
    "# fix missing entries in the colmns that we are planning to use\n",
    "df[\"cropped_image_file\"].fillna(\"\", inplace=True)\n",
    "df[\"c0_type\"].fillna(\"\", inplace=True)\n",
    "df[\"c1_type\"].fillna(\"\", inplace=True)\n",
    "df[\"c2_type\"].fillna(\"\", inplace=True)"
   ]
  },
  {
   "cell_type": "code",
   "execution_count": null,
   "metadata": {
    "scrolled": true
   },
   "outputs": [],
   "source": [
    "dff = (\n",
    "    df.copy()\n",
    ")  # df[df['cropped_image_file'].apply(lambda x: x.startswith(EXPERIMENT))]"
   ]
  },
  {
   "cell_type": "code",
   "execution_count": null,
   "metadata": {},
   "outputs": [],
   "source": [
    "# seems to be working\n",
    "row, col = np.where(dff[type_columns].applymap(lambda x: x in TYPES))\n",
    "n_samples = dff.shape[0]\n",
    "new_prefix = np.repeat(stain_prefix, n_samples, axis=0)[row, col]\n",
    "new_filename = dff[filename_column].values[row]\n",
    "num_z_planes = dff[num_z_planes_colmumn].values[row]\n",
    "full_filenames = [\n",
    "    \"{}{}\".format(a_, b_[:-4]) for a_, b_ in zip(new_prefix, new_filename)\n",
    "]"
   ]
  },
  {
   "cell_type": "code",
   "execution_count": null,
   "metadata": {
    "scrolled": true
   },
   "outputs": [],
   "source": [
    "dataset = []\n",
    "pbar = tqdm(total=len(full_filenames))\n",
    "for ff in full_filenames:\n",
    "    if len(ff) != 3:\n",
    "        tmp = os.path.join(FOLDER, \"csv\", ff + \".csv\")\n",
    "        dataset.append(tmp)\n",
    "    pbar.update(1)\n",
    "pbar.close()"
   ]
  },
  {
   "cell_type": "code",
   "execution_count": null,
   "metadata": {},
   "outputs": [],
   "source": [
    "def smooth_histogram(values, kernel_size=5, smooth=False):\n",
    "    # use initial values, not bins!\n",
    "    if smooth:\n",
    "        padded_values = np.pad(\n",
    "            values, \n",
    "            (kernel_size // 2, kernel_size // 2), \n",
    "            'constant', \n",
    "            constant_values=(0, 0)\n",
    "        )\n",
    "        return medfilt(padded_values)[kernel_size // 2:-kernel_size // 2]\n",
    "    else:\n",
    "        return values"
   ]
  },
  {
   "cell_type": "code",
   "execution_count": null,
   "metadata": {},
   "outputs": [],
   "source": [
    "def check_boundaries(values, z_bound=Z_BOUND, z_count=Z_COUNT):\n",
    "    return np.any(values[:z_bound] >= z_count) or np.any(values[-z_bound:] >= z_count)"
   ]
  },
  {
   "cell_type": "code",
   "execution_count": null,
   "metadata": {
    "scrolled": true
   },
   "outputs": [],
   "source": [
    "z_cut_defects = {}\n",
    "print(f\"Processing: {len(dataset)} files\")\n",
    "\n",
    "# actual plotting\n",
    "pbar = tqdm(total=len(dataset))\n",
    "for i, d in enumerate(dataset, start=0):\n",
    "    pbar.update(1)\n",
    "    \n",
    "    if not os.path.exists(d):\n",
    "        continue\n",
    "\n",
    "    try:\n",
    "        # computation\n",
    "        # load the data and scale it accordingly\n",
    "        I, z = utils.load_i_z(d, skiprows_=0)\n",
    "\n",
    "        # calculate the params for gauss fit\n",
    "        binned_values, real_bins = np.histogram(z, bins)\n",
    "\n",
    "        zmin = z.min()\n",
    "        zmax = z.max()\n",
    "        \n",
    "        smooth_binned_values = smooth_histogram(\n",
    "            binned_values, \n",
    "            kernel_size=5, \n",
    "            smooth=True\n",
    "        )\n",
    "\n",
    "        z_cut_defects[d.split(\"/\")[-1][3:-3] + \"tif\"] = 0\n",
    "        \n",
    "        if (check_boundaries(smooth_binned_values, Z_BOUND, Z_COUNT)):\n",
    "            z_cut_defects[d.split(\"/\")[-1][3:-3] + \"tif\"] = 1 \n",
    "\n",
    "        # plotting\n",
    "        if MAKE_IMAGES:\n",
    "            # create the canvas\n",
    "            fig = plt.figure(figsize=(8, 5))\n",
    "            title = utils.create_title(d, name_id=-1)\n",
    "            fig.suptitle(title)\n",
    "\n",
    "            sns.distplot(\n",
    "                z,\n",
    "                bins=bins,\n",
    "                rug=False,\n",
    "                kde=True,\n",
    "                norm_hist=True,\n",
    "                kde_kws={\n",
    "                    \"shade\": True,\n",
    "                    \"linewidth\": 3,\n",
    "                    # 'bw': 1/40,\n",
    "                    # 'cumulative': True,\n",
    "                },\n",
    "            )\n",
    "\n",
    "            plt.grid(True, lw=2, ls=\"--\", c=\".85\")\n",
    "\n",
    "            # reasonable adjustments to make the data look nicer\n",
    "            plt.xlabel(\"z\")\n",
    "            plt.ylabel(\"# spots\")\n",
    "\n",
    "            x_limits = [0, num_z_planes[i]]\n",
    "            ymax = 45  # np.max(np.histogram(z, bins)[0])\n",
    "\n",
    "            plt.xticks(np.arange(xmin, xmax + binwidth, binwidth * 10))\n",
    "\n",
    "            # boundary lines to check\n",
    "            plt.axvline(x=0 + Z_BOUND, lw=2, ls=\"--\", c=\"red\")\n",
    "            plt.axvline(x=num_z_planes[i] - Z_BOUND, lw=2, ls=\"--\", c=\"red\")\n",
    "\n",
    "            plt.xlim(x_limits)\n",
    "\n",
    "            folder_path = os.path.join(FOLDER, \"z-counts\")\n",
    "            os.makedirs(folder_path, exist_ok=True)\n",
    "\n",
    "            plt.savefig(os.path.join(folder_path, title + \".pdf\"))\n",
    "            # plt.show()\n",
    "            # break\n",
    "            plt.close()\n",
    "\n",
    "    except (RuntimeError, TypeError, ValueError):\n",
    "        print(\"There was an exception but we'll fix it for you\")\n",
    "pbar.close()"
   ]
  },
  {
   "cell_type": "code",
   "execution_count": null,
   "metadata": {},
   "outputs": [],
   "source": [
    "# merge results in one array\n",
    "# for r in zip(dataset, z_cut_defects):\n",
    "#     print(r[0].split(\"/\")[-1])"
   ]
  },
  {
   "cell_type": "code",
   "execution_count": null,
   "metadata": {},
   "outputs": [],
   "source": [
    "df_out = dff.copy()"
   ]
  },
  {
   "cell_type": "code",
   "execution_count": null,
   "metadata": {},
   "outputs": [],
   "source": [
    "df_out[is_z_cropped] = df_out['cropped_image_file'][df_out['cropped_image_file'].isin(z_cut_defects)].apply(lambda x: z_cut_defects[x])"
   ]
  },
  {
   "cell_type": "code",
   "execution_count": null,
   "metadata": {},
   "outputs": [],
   "source": [
    "df_out[is_z_cropped] = np.maximum(\n",
    "    df[is_z_cropped].values, df_out[is_z_cropped].fillna(-2).values\n",
    ")"
   ]
  },
  {
   "cell_type": "code",
   "execution_count": null,
   "metadata": {},
   "outputs": [],
   "source": [
    "df_out.to_csv(os.path.join(FOLDER, \"smFISH-database\", DB_NEW_FILENAME), index=False)"
   ]
  }
 ],
 "metadata": {
  "kernelspec": {
   "display_name": "Python [conda env:pretty-graphs] *",
   "language": "python",
   "name": "conda-env-pretty-graphs-py"
  },
  "language_info": {
   "codemirror_mode": {
    "name": "ipython",
    "version": 3
   },
   "file_extension": ".py",
   "mimetype": "text/x-python",
   "name": "python",
   "nbconvert_exporter": "python",
   "pygments_lexer": "ipython3",
   "version": "3.6.7"
  }
 },
 "nbformat": 4,
 "nbformat_minor": 2
}
