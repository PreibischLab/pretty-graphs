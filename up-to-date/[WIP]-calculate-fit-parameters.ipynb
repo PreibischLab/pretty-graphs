{
 "cells": [
  {
   "cell_type": "code",
   "execution_count": null,
   "metadata": {
    "collapsed": true
   },
   "outputs": [],
   "source": [
    "# want to see the images inline\n",
    "%matplotlib inline"
   ]
  },
  {
   "cell_type": "code",
   "execution_count": null,
   "metadata": {
    "collapsed": true
   },
   "outputs": [],
   "source": [
    "import os\n",
    "\n",
    "import matplotlib.pyplot as plt\n",
    "import numpy as np\n",
    "import pandas as pd\n",
    "import seaborn as sns\n",
    "\n",
    "from scipy.stats import gamma\n",
    "from scipy.optimize import curve_fit\n",
    "from scipy import special\n",
    "\n",
    "from configparser import ConfigParser, ExtendedInterpolation\n",
    "\n",
    "import utils as utils\n",
    "\n",
    "from tqdm import tqdm_notebook as tqdm"
   ]
  },
  {
   "cell_type": "code",
   "execution_count": null,
   "metadata": {
    "collapsed": false
   },
   "outputs": [],
   "source": [
    "# read config file \n",
    "config = ConfigParser(interpolation=ExtendedInterpolation())\n",
    "config.read('config.ini')"
   ]
  },
  {
   "cell_type": "code",
   "execution_count": null,
   "metadata": {
    "collapsed": true
   },
   "outputs": [],
   "source": [
    "PARAMS = config.get('main', 'PARAMS')"
   ]
  },
  {
   "cell_type": "code",
   "execution_count": null,
   "metadata": {
    "collapsed": true
   },
   "outputs": [],
   "source": [
    "FOLDER = config.get(PARAMS, 'FOLDER')\n",
    "EXPERIMENT = config.get(PARAMS, 'EXPERIMENT')\n",
    "DB_FILENAME = config.get(PARAMS, 'DB_FILENAME')\n",
    "TYPE = config.get(PARAMS, 'TYPE')\n",
    "COLOR = config.get(PARAMS, 'COLOR')"
   ]
  },
  {
   "cell_type": "code",
   "execution_count": null,
   "metadata": {
    "collapsed": false
   },
   "outputs": [],
   "source": [
    "FOLDER"
   ]
  },
  {
   "cell_type": "code",
   "execution_count": null,
   "metadata": {
    "collapsed": true
   },
   "outputs": [],
   "source": [
    "# important indices\n",
    "type_columns = ['c0_type', 'c1_type', 'c2_type']\n",
    "stain_prefix = np.array([['C0-', 'C1-', 'C2-', 'C3-', 'C4-']])\n",
    "filename_column = 'cropped_image_file'"
   ]
  },
  {
   "cell_type": "code",
   "execution_count": null,
   "metadata": {
    "collapsed": true
   },
   "outputs": [],
   "source": [
    "# read the db and parse images that we want to process\n",
    "df_path = os.path.join(FOLDER, 'smFISH-database', DB_FILENAME)\n",
    "df = pd.read_csv(df_path, \n",
    "                 sep=',', \n",
    "                )"
   ]
  },
  {
   "cell_type": "code",
   "execution_count": null,
   "metadata": {
    "collapsed": true
   },
   "outputs": [],
   "source": [
    "# TODO: maybe it is necessary to fill in other values here, too\n",
    "# fix missing entries in the colmns that we are planning to use \n",
    "df['cropped_image_file'].fillna('', inplace=True)\n",
    "df['c0_type'].fillna('', inplace=True)\n",
    "df['c1_type'].fillna('', inplace=True)\n",
    "df['c2_type'].fillna('', inplace=True)"
   ]
  },
  {
   "cell_type": "code",
   "execution_count": null,
   "metadata": {
    "collapsed": true
   },
   "outputs": [],
   "source": [
    "dff = df[df['cropped_image_file'].apply(lambda x: x.startswith(EXPERIMENT))]"
   ]
  },
  {
   "cell_type": "code",
   "execution_count": null,
   "metadata": {
    "collapsed": true
   },
   "outputs": [],
   "source": [
    "# seems to be working\n",
    "row, col = np.where(dff[type_columns].applymap(lambda x: x == TYPE))\n",
    "n_samples = dff.shape[0]\n",
    "new_prefix = np.repeat(stain_prefix, n_samples, axis=0)[row, col]\n",
    "new_filename = dff[filename_column].values[row]\n",
    "full_filenames = [\"{}{}\".format(a_, b_[:-4]) for a_, b_ in zip(new_prefix, new_filename)]"
   ]
  },
  {
   "cell_type": "code",
   "execution_count": null,
   "metadata": {
    "collapsed": false
   },
   "outputs": [],
   "source": [
    "dataset = []\n",
    "pbar = tqdm(total=len(full_filenames))\n",
    "for ff in full_filenames: \n",
    "    tmp = os.path.join(FOLDER, \"csv\", ff + \".csv\")\n",
    "    dataset.append(tmp)\n",
    "    pbar.update(1)\n",
    "pbar.close()"
   ]
  },
  {
   "cell_type": "code",
   "execution_count": null,
   "metadata": {
    "collapsed": true
   },
   "outputs": [],
   "source": [
    "# function to perform fitting  "
   ]
  },
  {
   "cell_type": "code",
   "execution_count": null,
   "metadata": {
    "collapsed": true
   },
   "outputs": [],
   "source": [
    "def g_x(a, x):\n",
    "    return np.polyval(a, x)"
   ]
  },
  {
   "cell_type": "code",
   "execution_count": null,
   "metadata": {
    "collapsed": false,
    "scrolled": false
   },
   "outputs": [],
   "source": [
    "print(f'Processing: {len(dataset)} files') \n",
    "\n",
    "# actual plotting \n",
    "pbar = tqdm(total=len(dataset))\n",
    "for d in dataset:    \n",
    "    pbar.update(1) \n",
    "    if(not os.path.exists(d)):\n",
    "        continue\n",
    "        \n",
    "    try:\n",
    "        # create the canvas\n",
    "        fig = plt.figure(figsize=(8,5))\n",
    "        title = utils.create_title(d, name_id=-1)\n",
    "        fig.suptitle(title + \" / \" + TYPE)\n",
    "        \n",
    "        # load the data and scale it accordingly\n",
    "        I, z = utils.load_i_z(d, skiprows_=0)\n",
    "\n",
    "        # calculate the params for gauss fit\n",
    "        a = np.polyfit(z, I, deg=2)\n",
    "        \n",
    "        z_fit = np.linspace(np.min(z), np.max(z)) # np.linspace(0, 60) \n",
    "        \n",
    "        plt.plot(z, I, 'o')\n",
    "        plt.plot(z_fit, \n",
    "                 g_x(a, z_fit),\n",
    "                 lw=4,\n",
    "                 ls='--')\n",
    "        \n",
    "        # print(a)\n",
    "        \n",
    "        # plt.close()\n",
    "        \n",
    "        plt.show()\n",
    "    except(RuntimeError, TypeError, ValueError, np.linalg.LinAlgError):\n",
    "        print(\"There was an exception but we\\'ll fix it for you\")\n",
    "pbar.close()"
   ]
  },
  {
   "cell_type": "code",
   "execution_count": null,
   "metadata": {
    "collapsed": true
   },
   "outputs": [],
   "source": []
  }
 ],
 "metadata": {
  "kernelspec": {
   "display_name": "Python 3",
   "language": "python",
   "name": "python3"
  },
  "language_info": {
   "codemirror_mode": {
    "name": "ipython",
    "version": 3
   },
   "file_extension": ".py",
   "mimetype": "text/x-python",
   "name": "python",
   "nbconvert_exporter": "python",
   "pygments_lexer": "ipython3",
   "version": "3.6.7"
  },
  "widgets": {
   "state": {
    "49daf89029a746738a9be4fcf0ad7ed2": {
     "views": [
      {
       "cell_index": 11
      }
     ]
    },
    "9c69d28b232a4e42a05f75b01953dc9a": {
     "views": [
      {
       "cell_index": 14
      }
     ]
    }
   },
   "version": "1.2.0"
  }
 },
 "nbformat": 4,
 "nbformat_minor": 2
}
