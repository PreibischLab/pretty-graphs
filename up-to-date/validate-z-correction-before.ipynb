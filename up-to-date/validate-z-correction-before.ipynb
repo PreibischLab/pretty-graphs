{
 "cells": [
  {
   "cell_type": "code",
   "execution_count": null,
   "metadata": {
    "collapsed": true
   },
   "outputs": [],
   "source": [
    "# want to see the images inline\n",
    "# %matplotlib inline"
   ]
  },
  {
   "cell_type": "code",
   "execution_count": null,
   "metadata": {
    "collapsed": true
   },
   "outputs": [],
   "source": [
    "import os\n",
    "\n",
    "import matplotlib.pyplot as plt\n",
    "import numpy as np\n",
    "import pandas as pd\n",
    "\n",
    "from scipy.stats import gamma\n",
    "from scipy.optimize import curve_fit\n",
    "from scipy import special\n",
    "\n",
    "from configparser import ConfigParser, ExtendedInterpolation\n",
    "import utils as utils\n",
    "\n",
    "from tqdm import tqdm_notebook as tqdm"
   ]
  },
  {
   "cell_type": "code",
   "execution_count": null,
   "metadata": {
    "collapsed": false
   },
   "outputs": [],
   "source": [
    "# read config file \n",
    "config = ConfigParser(interpolation=ExtendedInterpolation())\n",
    "config.read('config.ini')"
   ]
  },
  {
   "cell_type": "code",
   "execution_count": null,
   "metadata": {
    "collapsed": true
   },
   "outputs": [],
   "source": [
    "PARAMS = config.get('main', 'PARAMS')"
   ]
  },
  {
   "cell_type": "code",
   "execution_count": null,
   "metadata": {
    "collapsed": false
   },
   "outputs": [],
   "source": [
    "PARAMS"
   ]
  },
  {
   "cell_type": "code",
   "execution_count": null,
   "metadata": {
    "collapsed": false
   },
   "outputs": [],
   "source": [
    "FOLDER = config.get(PARAMS, 'FOLDER')\n",
    "EXPERIMENT = config.get(PARAMS, 'EXPERIMENT')\n",
    "DB_FILENAME = config.get(PARAMS, 'DB_FILENAME')\n",
    "TYPE = config.get(PARAMS, 'TYPE')\n",
    "COLOR = config.get(PARAMS, 'COLOR')"
   ]
  },
  {
   "cell_type": "code",
   "execution_count": null,
   "metadata": {
    "collapsed": false
   },
   "outputs": [],
   "source": [
    "FOLDER"
   ]
  },
  {
   "cell_type": "code",
   "execution_count": null,
   "metadata": {
    "collapsed": true
   },
   "outputs": [],
   "source": [
    "# use load_i_z(file_path, skiprows_=1)\n",
    "# returns I, z"
   ]
  },
  {
   "cell_type": "code",
   "execution_count": null,
   "metadata": {
    "collapsed": true
   },
   "outputs": [],
   "source": [
    "# returns the y coordinate for the given line\n",
    "# y = kx + b; also works with vectors\n",
    "def f_x(x_, k_, b_):\n",
    "    return k_*x_ + b_"
   ]
  },
  {
   "cell_type": "code",
   "execution_count": null,
   "metadata": {
    "collapsed": true
   },
   "outputs": [],
   "source": [
    "def g_x(a, x):\n",
    "    return polyval(a, x)"
   ]
  },
  {
   "cell_type": "code",
   "execution_count": null,
   "metadata": {
    "collapsed": true
   },
   "outputs": [],
   "source": [
    "# important indices\n",
    "type_columns = ['c0_type', 'c1_type', 'c2_type']\n",
    "stain_prefix = np.array([['C0-', 'C1-', 'C2-', 'C3-', 'C4-']])\n",
    "filename_column = 'cropped_image_file'"
   ]
  },
  {
   "cell_type": "code",
   "execution_count": null,
   "metadata": {
    "collapsed": false
   },
   "outputs": [],
   "source": [
    "# read the db and parse images that we want to process\n",
    "df_path = os.path.join(FOLDER, 'smFISH-database', DB_FILENAME)\n",
    "df = pd.read_csv(df_path, \n",
    "                 sep=',', \n",
    "                )"
   ]
  },
  {
   "cell_type": "code",
   "execution_count": null,
   "metadata": {
    "collapsed": true
   },
   "outputs": [],
   "source": [
    "# TODO: maybe it is necessary to fill in other values here, too\n",
    "# fix missing entries in the colmns that we are planning to use \n",
    "df['cropped_image_file'].fillna('', inplace=True)\n",
    "df['c0_type'].fillna('', inplace=True)\n",
    "df['c1_type'].fillna('', inplace=True)\n",
    "df['c2_type'].fillna('', inplace=True)"
   ]
  },
  {
   "cell_type": "code",
   "execution_count": null,
   "metadata": {
    "collapsed": true
   },
   "outputs": [],
   "source": [
    "dff = df[df['cropped_image_file'].apply(lambda x: x.startswith(EXPERIMENT))]"
   ]
  },
  {
   "cell_type": "code",
   "execution_count": null,
   "metadata": {
    "collapsed": true
   },
   "outputs": [],
   "source": [
    "# seems to be working\n",
    "row, col = np.where(dff[type_columns].applymap(lambda x: x == TYPE))\n",
    "n_samples = dff.shape[0]\n",
    "new_prefix = np.repeat(stain_prefix, n_samples, axis=0)[row, col]\n",
    "new_filename = dff[filename_column].values[row]\n",
    "full_filenames = [\"{}{}\".format(a_, b_[:-4]) for a_, b_ in zip(new_prefix, new_filename)]"
   ]
  },
  {
   "cell_type": "code",
   "execution_count": null,
   "metadata": {
    "collapsed": false
   },
   "outputs": [],
   "source": [
    "dataset = []\n",
    "pbar = tqdm(total=len(full_filenames))\n",
    "for ff in full_filenames: \n",
    "    tmp = os.path.join(FOLDER, 'csv-before', ff + '.csv')\n",
    "    dataset.append(tmp)\n",
    "    pbar.update(1)\n",
    "pbar.close()"
   ]
  },
  {
   "cell_type": "code",
   "execution_count": null,
   "metadata": {
    "collapsed": true
   },
   "outputs": [],
   "source": []
  },
  {
   "cell_type": "code",
   "execution_count": null,
   "metadata": {
    "collapsed": false
   },
   "outputs": [],
   "source": [
    "print(f'Processing: {len(dataset)} files') \n",
    "\n",
    "pbar = tqdm(total=len(dataset))\n",
    "for d in dataset: \n",
    "    pbar.update(1)\n",
    "    if(not os.path.exists(d)):\n",
    "        continue\n",
    "        \n",
    "    try:\n",
    "        # create the canvas\n",
    "        fig = plt.figure(figsize=(8,5))\n",
    "        title = utils.create_title(d, name_id=-1)\n",
    "        fig.suptitle(title + \" / \" + TYPE)\n",
    "        \n",
    "        # load the data and scale it accordingly\n",
    "        I, z = utils.load_i_z(d, skiprows_=0)\n",
    "        \n",
    "        # load parameters\n",
    "        p_path = d.replace('csv-before', 'csv-parameters')\n",
    "        coeff = utils.load_params(p_path, skiprows_=0)\n",
    "        \n",
    "        plt.close()\n",
    "    except(ValueError, StopIteration, RuntimeError):\n",
    "        print(\"Caught the error for you\")    \n",
    "        \n",
    "pbar.close()"
   ]
  },
  {
   "cell_type": "code",
   "execution_count": null,
   "metadata": {
    "collapsed": false,
    "scrolled": false
   },
   "outputs": [],
   "source": [
    "# actual plotting \n",
    "for idx in range(0, len(dataset)):\n",
    "    # feedback\n",
    "    \n",
    "    if(not os.path.exists(dataset[idx])):\n",
    "        # print(\"doesn't exist\")\n",
    "        continue\n",
    "    \n",
    "    try:\n",
    "        # print(\"Processing:\", dataset[idx]) \n",
    "        z,I = load_data(dataset[idx])\n",
    "\n",
    "        # load the parameters from file\n",
    "        coeff = load_params(p_dataset[idx])\n",
    "\n",
    "        print(coeff)\n",
    "\n",
    "        plt.figure(figsize=(8,5))\n",
    "\n",
    "        title = create_title(dataset[idx], name_id=5)\n",
    "        plt.title(title + \" / \" + labels[0])\n",
    "\n",
    "        x_fit = np.linspace(np.min(z), np.max(z))\n",
    "        y_fit = g_x(coeff[::-1], x_fit)\n",
    "\n",
    "        plt.plot(z, I, 'o', color=color)\n",
    "        plt.plot(x_fit, y_fit, linewidth=5, color='#66A5AD')\n",
    "\n",
    "        x_min = np.min(x_fit)\n",
    "        y_min = np.min(y_fit)\n",
    "\n",
    "        x_limits = [0, 120]\n",
    "        y_limits = [-0.2, 1.0]\n",
    "\n",
    "        axes = plt.gca()\n",
    "        axes.set_xlim(x_limits)\n",
    "        axes.set_ylim(y_limits)\n",
    "\n",
    "        plt.xlabel('z-slice')\n",
    "        plt.ylabel('intensity')\n",
    "\n",
    "        info_text = \"Total: \" + str(I.shape[0]) + \"\\n\" + \"Coeff: \" + str(['%.2e' % elem for elem in coeff])\n",
    "        plt.text(x_limits[0] + (x_limits[1] - x_limits[0])*0.02, y_limits[0] + (y_limits[1] - y_limits[0])*0.04, info_text, color='black', bbox=dict(facecolor='white', alpha=1))\n",
    "\n",
    "        # plt.legend(loc = 'upper right')      \n",
    "        full_path_to_use = folder_path + \"img-before/\" + labels[0] + \"/\" \n",
    "        if not os.path.exists(full_path_to_use):\n",
    "            os.makedirs(full_path_to_use)\n",
    "        plt.savefig(full_path_to_use + title + \".pdf\")\n",
    "\n",
    "        plt.show()\n",
    "    except(ValueError, StopIteration, RuntimeError):\n",
    "        print(\"Caught the error for you\")"
   ]
  },
  {
   "cell_type": "code",
   "execution_count": null,
   "metadata": {
    "collapsed": true
   },
   "outputs": [],
   "source": [
    "# function to normalize the z-correction curve \n",
    "def norm_z(x, y):\n",
    "    scale = np.max(x) - np.min(x)\n",
    "    x_normed = (x - np.min(x))/scale\n",
    "    y_normed = y / scale \n",
    "    return (x_normed, y_normed)"
   ]
  },
  {
   "cell_type": "code",
   "execution_count": null,
   "metadata": {
    "collapsed": true
   },
   "outputs": [],
   "source": [
    "# shift so that intensity value starts at val = 0.5\n",
    "def shift_z(y, top = 0.5):\n",
    "    y_shift = y - np.max(y) + top \n",
    "    return y_shift"
   ]
  },
  {
   "cell_type": "code",
   "execution_count": null,
   "metadata": {
    "collapsed": true,
    "scrolled": true
   },
   "outputs": [],
   "source": [
    "# have to figure aout what are the min-max value\n",
    "z_min = sys.float_info.max\n",
    "z_max = -sys.float_info.max\n",
    "\n",
    "for idx in range(0, len(dataset)):\n",
    "    if(not os.path.exists(dataset[idx])):\n",
    "        # print(\"doesn't exist\")\n",
    "        continue\n",
    "    try:\n",
    "        z,I = load_data(dataset[idx])\n",
    "        if (np.max(z) - np.min(z) > z_max):\n",
    "            z_max = np.max(z) - np.min(z)\n",
    "    except(ValueError, StopIteration, RuntimeError):\n",
    "        print(\"Caught the error for you\")\n",
    "        \n",
    "\n",
    "# plot of all ovelaping images\n",
    "# actual plotting \n",
    "plt.figure(figsize=(8,5))\n",
    "for idx in range(0, len(dataset)):\n",
    "    # feedback\n",
    "    \n",
    "    if(not os.path.exists(dataset[idx])):\n",
    "        # print(\"doesn't exist\")\n",
    "        continue\n",
    "    \n",
    "    try:\n",
    "        # print(\"Processing:\", dataset[idx]) \n",
    "        z,I = load_data(dataset[idx])\n",
    "\n",
    "        # load the parameters from file\n",
    "        coeff = load_params(p_dataset[idx])\n",
    "\n",
    "        print(title, \":\", coeff)  \n",
    "        print('from {0} to {1}'.format(np.min(z), np.max(z)))\n",
    "        title = create_title(dataset[idx], name_id=5)\n",
    "        plt.title(labels[0])\n",
    "\n",
    "        x_fit = np.linspace(np.min(z), np.max(z)) # np.linspace(0, 60) \n",
    "        fix_factor = g_x(coeff[::-1], np.min(z)) / g_x(coeff[::-1], x_fit)\n",
    "        print (1/fix_factor)\n",
    "\n",
    "        # always shift the min so that it is located at min\n",
    "        x_fit_shifted = x_fit - np.min(z) \n",
    "        x_fit_shifted_normed = (x_fit_shifted - 0)/(z_max - 0)\n",
    "\n",
    "        x_limits = [-0.05, 1.05]\n",
    "        y_limits = [0.35, 1.05]\n",
    "\n",
    "        axes = plt.gca()\n",
    "        axes.set_xlim(x_limits)\n",
    "        axes.set_ylim(y_limits)\n",
    "\n",
    "        plt.xlabel('z-slice')\n",
    "        plt.ylabel('intensity')\n",
    "\n",
    "        # plt.plot(x_fit, y_fit, linewidth=5, label=title)\n",
    "        plt.plot(x_fit_shifted_normed, 1/fix_factor, linewidth=5, label=title)\n",
    "    \n",
    "    except(ValueError, StopIteration, RuntimeError):\n",
    "        print(\"Caught the error for you\")\n",
    "        \n",
    "full_path_to_use = folder_path + \"img-full/\" + labels[0] + \"/\" \n",
    "if not os.path.exists(full_path_to_use):\n",
    "    os.makedirs(full_path_to_use)\n",
    "plt.savefig(full_path_to_use + (title[3:9] + \"-\" + labels[0]) + \".pdf\")\n",
    "    \n",
    "# plt.legend(loc = 'upper right')\n",
    "plt.show()"
   ]
  },
  {
   "cell_type": "code",
   "execution_count": null,
   "metadata": {
    "collapsed": true
   },
   "outputs": [],
   "source": []
  },
  {
   "cell_type": "code",
   "execution_count": null,
   "metadata": {
    "collapsed": true
   },
   "outputs": [],
   "source": []
  }
 ],
 "metadata": {
  "kernelspec": {
   "display_name": "Python 3",
   "language": "python",
   "name": "python3"
  },
  "language_info": {
   "codemirror_mode": {
    "name": "ipython",
    "version": 3
   },
   "file_extension": ".py",
   "mimetype": "text/x-python",
   "name": "python",
   "nbconvert_exporter": "python",
   "pygments_lexer": "ipython3",
   "version": "3.6.7"
  },
  "widgets": {
   "state": {
    "181c3f694d7145d48444ea03e72833f7": {
     "views": [
      {
       "cell_index": 15
      }
     ]
    },
    "8c6ad93a594a4ee1bbcb1722264b759f": {
     "views": [
      {
       "cell_index": 17
      }
     ]
    }
   },
   "version": "1.2.0"
  }
 },
 "nbformat": 4,
 "nbformat_minor": 2
}
