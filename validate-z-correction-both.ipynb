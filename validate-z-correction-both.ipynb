{
 "cells": [
  {
   "cell_type": "code",
   "execution_count": null,
   "metadata": {
    "collapsed": true
   },
   "outputs": [],
   "source": [
    "# a script for making pretty plots"
   ]
  },
  {
   "cell_type": "code",
   "execution_count": null,
   "metadata": {
    "collapsed": true
   },
   "outputs": [],
   "source": [
    "# imports\n",
    "import matplotlib.pyplot as plt\n",
    "import numpy as np\n",
    "import csv as csv\n",
    "\n",
    "# general \n",
    "import os\n",
    "import glob\n",
    "from functools import reduce\n",
    "import re\n",
    "import sys as sys\n",
    "\n",
    "from sklearn import linear_model, datasets\n",
    "\n",
    "from numpy import polyval\n",
    "\n",
    "import pandas as pd\n",
    "\n",
    "%matplotlib inline"
   ]
  },
  {
   "cell_type": "code",
   "execution_count": null,
   "metadata": {
    "collapsed": true
   },
   "outputs": [],
   "source": [
    "# function for loading one data-set\n",
    "def load_data(file_path):\n",
    "    data = np.loadtxt(file_path, delimiter = '\\t', skiprows=1)\n",
    "    # print(data.shape) \n",
    "    # handles some weird cases, e.g. when there is no data in the file\n",
    "    if (len(data.shape) < 2):\n",
    "        data = data[None, :]\n",
    "    if (data.shape[1] == 0):\n",
    "        I = np.array([0])\n",
    "        z = np.array([0])\n",
    "    else:\n",
    "        I = data[:, -1]\n",
    "        z = data[:, -2]\n",
    "    return (z, I)"
   ]
  },
  {
   "cell_type": "code",
   "execution_count": null,
   "metadata": {
    "collapsed": true
   },
   "outputs": [],
   "source": [
    "# returns the y coordinate for the given line\n",
    "# y = kx + b; also works with vectors\n",
    "def f_x(x_, k_, b_):\n",
    "    return k_*x_ + b_"
   ]
  },
  {
   "cell_type": "code",
   "execution_count": null,
   "metadata": {
    "collapsed": false
   },
   "outputs": [],
   "source": [
    "def g_x(a, x):\n",
    "    return polyval(a, x)"
   ]
  },
  {
   "cell_type": "code",
   "execution_count": null,
   "metadata": {
    "collapsed": false
   },
   "outputs": [],
   "source": [
    "# general setup for pretty images \n",
    "num_files = 16\n",
    "lines_params = np.zeros([num_files, 2])\n",
    "channel_id = 1 # 1,2,3\n",
    "# folder_path = '/Users/kkolyva/Desktop/2018-04-18-08-29-25-test/test/2018-04-24-15-33-21-median-median-first-test/csv/' \n",
    "image = 'N2_dpy-23_ex_int_ama-1_016'\n",
    "Ia_min, Ia_max = 0, 40000\n",
    "za_min, za_max = 0, 55\n",
    "\n",
    "# folder_path = '/Users/kkolyva/Desktop/2018-04-18-08-29-25-test/test/2018-05-08-11-57-09-median-median-first-test/'\n",
    "folder_path = '/Volumes/MILKYKLIM4G/input/'"
   ]
  },
  {
   "cell_type": "code",
   "execution_count": null,
   "metadata": {
    "collapsed": true
   },
   "outputs": [],
   "source": [
    "# possible labels \n",
    "stain = ['DPY-23_EX', 'WDR-5.2', 'MDH-1']\n",
    "stage = 'E' # only embryos\n",
    "comment = '' # only empty ones"
   ]
  },
  {
   "cell_type": "code",
   "execution_count": null,
   "metadata": {
    "collapsed": true
   },
   "outputs": [],
   "source": [
    "# important indices\n",
    "stain_columns = ['C0_stain', 'C1_stain', 'C2_stain', 'C3_stain', 'C4_stain']\n",
    "type_columns = ['C0_type', 'C1_type', 'C2_type', 'C3_type', 'C4_type']\n",
    "stain_prefix = np.array([['C1-', 'C2-', 'C3-', 'C4-', 'C5-']])\n",
    "ext = '.csv'\n",
    "filename_column = 'new filename'"
   ]
  },
  {
   "cell_type": "code",
   "execution_count": null,
   "metadata": {
    "collapsed": false
   },
   "outputs": [],
   "source": [
    "# read the db and parse images that we want to process\n",
    "df = pd.read_csv(folder_path + \"smFISH-database/N2-Table 1.csv\", sep=',', na_values=['']);\n",
    "df.head()"
   ]
  },
  {
   "cell_type": "code",
   "execution_count": null,
   "metadata": {
    "collapsed": false
   },
   "outputs": [],
   "source": [
    "# this is general\n",
    "# filter to have only *good* and *embryo* files\n",
    "good_indices = np.logical_and((df['stage'] == stage).tolist() , (df['comment'].isnull()).tolist())\n",
    "good_indices.shape[0]\n",
    "print(np.sum(good_indices == True))"
   ]
  },
  {
   "cell_type": "code",
   "execution_count": null,
   "metadata": {
    "collapsed": true
   },
   "outputs": [],
   "source": [
    "# choose necessary stains\n",
    "dataset1 = []\n",
    "df_good = (df[type_columns].astype(np.object) == stain[0]).loc[good_indices, :]\n",
    "row, col = np.where(df_good)\n",
    "n_samples = df.shape[0]\n",
    "new_prefix = np.repeat(stain_prefix, n_samples, axis=0)[row, col]\n",
    "new_filename = df[filename_column].loc[good_indices].as_matrix()[row]\n",
    "dataset1 = [\"{}{}\".format(a_, b_) for a_, b_ in zip(new_prefix, new_filename)]"
   ]
  },
  {
   "cell_type": "code",
   "execution_count": null,
   "metadata": {
    "collapsed": true
   },
   "outputs": [],
   "source": [
    "# choose necessary stains\n",
    "dataset2 = []\n",
    "df_good = (df[type_columns].astype(np.object) == stain[1]).loc[good_indices, :]\n",
    "row, col = np.where(df_good)\n",
    "n_samples = df.shape[0]\n",
    "new_prefix = np.repeat(stain_prefix, n_samples, axis=0)[row, col]\n",
    "new_filename = df[filename_column].loc[good_indices].as_matrix()[row]\n",
    "dataset2 = [\"{}{}\".format(a_, b_) for a_, b_ in zip(new_prefix, new_filename)]"
   ]
  },
  {
   "cell_type": "code",
   "execution_count": null,
   "metadata": {
    "collapsed": true
   },
   "outputs": [],
   "source": [
    "# choose necessary stains\n",
    "dataset3 = []\n",
    "df_good = (df[type_columns].astype(np.object) == stain[2]).loc[good_indices, :]\n",
    "row, col = np.where(df_good)\n",
    "n_samples = df.shape[0]\n",
    "new_prefix = np.repeat(stain_prefix, n_samples, axis=0)[row, col]\n",
    "new_filename = df[filename_column].loc[good_indices].as_matrix()[row]\n",
    "dataset3 = [\"{}{}\".format(a_, b_) for a_, b_ in zip(new_prefix, new_filename)]"
   ]
  },
  {
   "cell_type": "code",
   "execution_count": null,
   "metadata": {
    "collapsed": true
   },
   "outputs": [],
   "source": [
    "def create_title(path, name_id=8):\n",
    "    # get the name of the initial image\n",
    "    image_name = path.split(\"/\")[name_id] # was 8\n",
    "    # print(path.split(\"/\"))\n",
    "    # create the full title \n",
    "    title = image_name[:-4]\n",
    "    return title\n",
    "# create_title(\"/Users/kkolyva/Desktop/n2/N2-results/all/C1-N2_9.csv\")"
   ]
  },
  {
   "cell_type": "code",
   "execution_count": null,
   "metadata": {
    "collapsed": false,
    "scrolled": true
   },
   "outputs": [],
   "source": [
    "# actual plotting \n",
    "\n",
    "# OLD PART CHANGED THE LOGIC A LITTLE BIT\n",
    "\n",
    "# dataset_mdh1 = []\n",
    "# dataset_dpy23 = []\n",
    "# p_dataset_mdh1 = []\n",
    "# p_dataset_dpy23 = []\n",
    "\n",
    "# for j in range(0, len(dataset1)):\n",
    "#     tmp = folder_path + \"csv-before/\" + dataset1[j] + \".csv\"\n",
    "#     # tmp = folder + N2_folder + \"all/\" + dataset1[j] + \".csv\"\n",
    "#     dataset_dpy23.append(tmp)\n",
    "#     tmp = folder_path + \"csv-parameters/\" + dataset1[j] + \".csv\"\n",
    "#     p_dataset_dpy23.append(tmp)\n",
    "#     # print(tmp)\n",
    "    \n",
    "# for j in range(0, len(dataset3)):\n",
    "#     tmp = folder_path + \"csv-before/\" + dataset3[j] + \".csv\"\n",
    "#     # tmp = folder + N2_folder + \"all/\" + dataset1[j] + \".csv\"\n",
    "#     dataset_mdh1.append(tmp)\n",
    "#     tmp = folder_path + \"csv-parameters/\" + dataset3[j] + \".csv\"\n",
    "#     p_dataset_mdh1.append(tmp)\n",
    "#     # print(tmp)\n",
    "    \n",
    "    \n",
    "# # to be sure that the results are consistent\n",
    "# dataset_dpy23 = np.sort(dataset_dpy23)\n",
    "# dataset_mdh1 = np.sort(dataset_mdh1)\n",
    "\n",
    "# p_dataset_dpy23 = np.sort(p_dataset_dpy23)\n",
    "# p_dataset_mdh1 = np.sort(p_dataset_mdh1)"
   ]
  },
  {
   "cell_type": "code",
   "execution_count": null,
   "metadata": {
    "collapsed": false,
    "scrolled": false
   },
   "outputs": [],
   "source": [
    "# actual plotting \n",
    "dataset_mdh1 = []\n",
    "dataset_dpy23 = []\n",
    "p_dataset_mdh1 = []\n",
    "p_dataset_dpy23 = []\n",
    "\n",
    "for j in range(0, len(dataset1)):\n",
    "    # tmp = folder_path + \"csv-before/\" + dataset1[j] + \".csv\"\n",
    "    dataset_dpy23.append(dataset1[j])\n",
    "    # tmp = folder_path + \"csv-parameters/\" + dataset1[j] + \".csv\"\n",
    "    p_dataset_dpy23.append(dataset1[j])\n",
    "    # print(tmp)\n",
    "    \n",
    "for j in range(0, len(dataset3)):\n",
    "    # tmp = folder_path + \"csv-before/\" + dataset3[j] + \".csv\"\n",
    "    dataset_mdh1.append(dataset3[j])\n",
    "    # tmp = folder_path + \"csv-parameters/\" + dataset3[j] + \".csv\"\n",
    "    p_dataset_mdh1.append(dataset3[j])\n",
    "    # print(tmp)\n",
    "    \n",
    "    \n",
    "# to be sure that the results are consistent\n",
    "# dataset_dpy23 = np.sort(dataset_dpy23)\n",
    "# dataset_mdh1 = np.sort(dataset_mdh1)\n",
    "\n",
    "# p_dataset_dpy23 = np.sort(p_dataset_dpy23)\n",
    "# p_dataset_mdh1 = np.sort(p_dataset_mdh1)"
   ]
  },
  {
   "cell_type": "code",
   "execution_count": null,
   "metadata": {
    "collapsed": true
   },
   "outputs": [],
   "source": [
    "# load the parameters from file for the fitter\n",
    "def load_params(file_path):\n",
    "    data = np.loadtxt(file_path, delimiter = '\\t', skiprows=0)\n",
    "    return data"
   ]
  },
  {
   "cell_type": "code",
   "execution_count": null,
   "metadata": {
    "collapsed": true
   },
   "outputs": [],
   "source": [
    "labels = ['DPY-23_EX', 'MDH-1'] # ['DPY-23_EX', 'WDR-5.2', 'MDH-1']"
   ]
  },
  {
   "cell_type": "code",
   "execution_count": null,
   "metadata": {
    "collapsed": true
   },
   "outputs": [],
   "source": [
    "# function to normalize the z-correction curve \n",
    "def norm_z(x, y):\n",
    "    scale = np.max(x) - np.min(x)\n",
    "    x_normed = (x - np.min(x))/scale\n",
    "    y_normed = y / scale \n",
    "    return (x_normed, y_normed)"
   ]
  },
  {
   "cell_type": "code",
   "execution_count": null,
   "metadata": {
    "collapsed": true
   },
   "outputs": [],
   "source": [
    "# shift so that intensity value starts at val = 0.5\n",
    "def shift_z(y, top = 0.5):\n",
    "    y_shift = y - np.max(y) + top \n",
    "    return y_shift"
   ]
  },
  {
   "cell_type": "code",
   "execution_count": null,
   "metadata": {
    "collapsed": false,
    "scrolled": true
   },
   "outputs": [],
   "source": [
    "# plot of all ovelaping images\n",
    "# have to figure out what are the min-max value\n",
    "z_min = sys.float_info.max\n",
    "z_max = -sys.float_info.max\n",
    "\n",
    "# actual plotting \n",
    "# dataset_dpy23 and dataset_mdh1 sizes are the same\n",
    "for img_name_mdh1 in dataset_mdh1:\n",
    "    s_dataset_mdh1 = folder_path + \"csv-before/\" + img_name_mdh1 + \".csv\"\n",
    "    ps_dataset_mdh1 = folder_path + \"csv-parameters/\" + img_name_mdh1 + \".csv\"\n",
    "    img_name_dpy23 = \"C1-\" + img_name_mdh1[3:]\n",
    "    s_dataset_dpy23 = folder_path + \"csv-before/\" + img_name_dpy23 + \".csv\"\n",
    "    ps_dataset_dpy23 = folder_path + \"csv-parameters/\" + img_name_dpy23 + \".csv\"\n",
    "    \n",
    "    if(not os.path.exists(s_dataset_mdh1) or not os.path.exists(s_dataset_dpy23)):\n",
    "        # print(\"doesn't exist\")\n",
    "        continue\n",
    "    try:\n",
    "        # print(\"Processing:\", dataset[idx]) \n",
    "        z_dpy23, I_dpy23 = load_data(s_dataset_dpy23)\n",
    "        z_mdh1, I_mdh1 = load_data(s_dataset_mdh1)\n",
    "        \n",
    "        if (np.max(z_dpy23) > z_max):\n",
    "            z_max = np.max(z_dpy23)\n",
    "        if (np.max(z_mdh1) > z_max):\n",
    "            z_max = np.max(z_mdh1)\n",
    "        \n",
    "        if (np.min(z_dpy23) < z_min):\n",
    "            z_min = np.min(z_dpy23)\n",
    "        if (np.min(z_mdh1)  < z_min):\n",
    "            z_min = np.min(z_mdh1)\n",
    "        \n",
    "            \n",
    "    except(ValueError, StopIteration, RuntimeError):\n",
    "        print(\"Caught the error for you\")\n",
    "\n",
    "# actual plotting \n",
    "# dataset_dpy23 and dataset_mdh1 sizes are the same\n",
    "for img_name_mdh1 in dataset_mdh1:\n",
    "    s_dataset_mdh1 = folder_path + \"csv-before/\" + img_name_mdh1 + \".csv\"\n",
    "    ps_dataset_mdh1 = folder_path + \"csv-parameters/\" + img_name_mdh1 + \".csv\"\n",
    "    img_name_dpy23 = \"C1-\" + img_name_mdh1[3:]\n",
    "    s_dataset_dpy23 = folder_path + \"csv-before/\" + img_name_dpy23 + \".csv\"\n",
    "    ps_dataset_dpy23 = folder_path + \"csv-parameters/\" + img_name_dpy23 + \".csv\"\n",
    "    \n",
    "    if(not os.path.exists(s_dataset_mdh1) or not os.path.exists(s_dataset_dpy23)):\n",
    "        # print(\"doesn't exist\")\n",
    "        continue\n",
    "    try:\n",
    "        print(s_dataset_mdh1)\n",
    "        print(s_dataset_dpy23)\n",
    "        \n",
    "        # print(\"Processing:\", dataset[idx]) \n",
    "        z_dpy23, I_dpy23 = load_data(s_dataset_dpy23)\n",
    "        z_mdh1, I_mdh1 = load_data(s_dataset_mdh1)\n",
    "\n",
    "        # load the parameters from file\n",
    "        coeff_dpy23 = load_params(ps_dataset_dpy23)\n",
    "        coeff_mdh1 = load_params(ps_dataset_mdh1)\n",
    "\n",
    "        # print(title, \":\", coeff)  \n",
    "        # print('from {0} to {1}'.format(np.min(z), np.max(z)))\n",
    "\n",
    "        x_dpy23_fit = np.linspace(np.min(z_dpy23), np.max(z_dpy23)) # np.linspace(0, 60) \n",
    "        y_dpy23_fit = g_x(coeff_dpy23[::-1], x_dpy23_fit) \n",
    "        x_dpy23_fit_normed, y_dpy23_fit_normed = norm_z(x_dpy23_fit, y_dpy23_fit)\n",
    "\n",
    "        x_mdh1_fit = np.linspace(np.min(z_mdh1), np.max(z_mdh1)) # np.linspace(0, 60) \n",
    "        y_mdh1_fit = g_x(coeff_mdh1[::-1], x_mdh1_fit) \n",
    "        x_mdh1_fit_normed, y_mdh1_fit_normed = norm_z(x_mdh1_fit, y_mdh1_fit)\n",
    "\n",
    "        # y_dpy23_shift = shift_z(y_dpy23_fit_normed)\n",
    "        # y_mdh1_shift = shift_z(y_mdh1_fit_normed)\n",
    "        # feedback\n",
    "\n",
    "        plt.figure(figsize=(8,5))\n",
    "        title = create_title(s_dataset_dpy23, name_id=5)[3:]\n",
    "        plt.title(title)\n",
    "        # plt.plot(x_fit, y_fit, linewidth=5, label=title)\n",
    "        \n",
    "        # plt.plot(x_dpy23_fit_normed, y_dpy23_fit_normed, linewidth=5, label=labels[0])\n",
    "        # plt.plot(x_mdh1_fit_normed, y_mdh1_fit_normed, linewidth=5, label=labels[1])\n",
    "        \n",
    "        plt.plot(x_dpy23_fit, y_dpy23_fit, linewidth=5, label=labels[0])\n",
    "        plt.plot(x_mdh1_fit, y_mdh1_fit, linewidth=5, label=labels[1])\n",
    "        \n",
    "        x_limits = [z_min, z_max]\n",
    "        y_limits = [-0.05, 1.05]\n",
    "        \n",
    "        axes = plt.gca()\n",
    "        axes.set_xlim(x_limits)\n",
    "        axes.set_ylim(y_limits)\n",
    "\n",
    "        plt.xlabel('z-slice')\n",
    "        plt.ylabel('intensity')\n",
    "        \n",
    "        info_text_dpy23 = \"Coeff (dpy23): \" + str(['%.2e' % elem for elem in coeff_dpy23])\n",
    "        info_text_mdh1 = \"Coeff (mdh1): \" + str(['%.2e' % elem for elem in coeff_mdh1])\n",
    "        info_text = info_text_dpy23 + \"\\n\" + info_text_mdh1\n",
    "        plt.text(x_limits[0] + (x_limits[1] - x_limits[0])*0.02, y_limits[0] + (y_limits[1] - y_limits[0])*0.04, info_text, color='black', bbox=dict(facecolor='white', alpha=1))\n",
    "\n",
    "        plt.legend(loc = 'upper right')\n",
    "        \n",
    "        # plt.legend(loc = 'upper right')      \n",
    "        full_path_to_use = folder_path + \"img-overlapped/\" \n",
    "        if not os.path.exists(full_path_to_use):\n",
    "            os.makedirs(full_path_to_use)\n",
    "        plt.savefig(full_path_to_use + title + \".pdf\")\n",
    "        \n",
    "        plt.show()\n",
    "    except(RuntimeError, TypeError, ValueError, StopIteration):\n",
    "        print(\"There was an exception but we\\'ll fix it for you\")"
   ]
  },
  {
   "cell_type": "code",
   "execution_count": null,
   "metadata": {
    "collapsed": true
   },
   "outputs": [],
   "source": []
  }
 ],
 "metadata": {
  "kernelspec": {
   "display_name": "Python 3",
   "language": "python",
   "name": "python3"
  },
  "language_info": {
   "codemirror_mode": {
    "name": "ipython",
    "version": 3
   },
   "file_extension": ".py",
   "mimetype": "text/x-python",
   "name": "python",
   "nbconvert_exporter": "python",
   "pygments_lexer": "ipython3",
   "version": "3.6.0"
  }
 },
 "nbformat": 4,
 "nbformat_minor": 2
}
